{
  "cells": [
    {
      "cell_type": "code",
      "execution_count": 9,
      "metadata": {
        "colab": {
          "base_uri": "https://localhost:8080/"
        },
        "id": "T6EZdTD9LK4M",
        "outputId": "b56a13de-06c3-496d-ea04-3e6a701bfcda"
      },
      "outputs": [
        {
          "output_type": "stream",
          "name": "stdout",
          "text": [
            "Mounted at /content/gdrive\n"
          ]
        }
      ],
      "source": [
        "from google.colab import drive\n",
        "#drive.mount('/content/drive')\n",
        "drive.mount('/content/gdrive')"
      ]
    },
    {
      "cell_type": "code",
      "execution_count": 10,
      "metadata": {
        "id": "LdLP2xqXe0NN"
      },
      "outputs": [],
      "source": [
        "#PATH = \"/content/drive/MyDrive/2022-1/Data Science/term project/pubg-finish-placement-prediction\"\n",
        "PATH =  '/content/gdrive/My Drive/Colab Notebooks/dataset/'"
      ]
    },
    {
      "cell_type": "code",
      "execution_count": 2,
      "metadata": {
        "canvas": {
          "comments": [],
          "componentType": "CodeCell",
          "copiedOriginId": null,
          "headerColor": "none",
          "id": "6b72cb7e-4c6e-4e21-b5ab-0e26a3ea9a12",
          "isComponent": false,
          "name": "",
          "parents": []
        },
        "id": "4o4NMA-S7MK_"
      },
      "outputs": [],
      "source": [
        "import pandas as pd\n",
        "import numpy as np\n",
        "import matplotlib.pyplot as plt\n",
        "import seaborn as sns\n",
        "import os"
      ]
    },
    {
      "cell_type": "code",
      "execution_count": 3,
      "metadata": {
        "id": "fqJuGhXetVPW"
      },
      "outputs": [],
      "source": [
        "sns.set() # setting seaborn default for plots"
      ]
    },
    {
      "cell_type": "code",
      "execution_count": 4,
      "metadata": {
        "id": "nJWliN00oEgi"
      },
      "outputs": [],
      "source": [
        "from sklearn.preprocessing import LabelEncoder\n",
        "from sklearn.model_selection import train_test_split\n",
        "from sklearn.linear_model import LinearRegression\n",
        "from sklearn.ensemble import RandomForestRegressor"
      ]
    },
    {
      "cell_type": "code",
      "execution_count": null,
      "metadata": {
        "canvas": {
          "comments": [],
          "componentType": "CodeCell",
          "copiedOriginId": null,
          "headerColor": "none",
          "id": "d8415578-4080-408b-8573-c6f3ff2ff744",
          "isComponent": false,
          "name": "",
          "parents": []
        },
        "id": "XNbTWUDe8xzm"
      },
      "outputs": [],
      "source": [
        "pd.set_option('display.max_columns', None)\n",
        "pd.options.display.float_format = '{:.5f}'.format"
      ]
    },
    {
      "cell_type": "code",
      "execution_count": 11,
      "metadata": {
        "canvas": {
          "comments": [],
          "componentType": "CodeCell",
          "copiedOriginId": null,
          "headerColor": "none",
          "id": "2b836976-fb0a-49a9-8d3f-a3d303265fd6",
          "isComponent": false,
          "name": "",
          "parents": []
        },
        "id": "tZd_gwvJ7b3U"
      },
      "outputs": [],
      "source": [
        "#train = pd.read_csv(os.path.join(PATH, 'train_V2.csv'))\n",
        "train = pd.read_csv(PATH + 'train_V2.csv')"
      ]
    },
    {
      "cell_type": "markdown",
      "metadata": {
        "id": "APbeI-MNh22U"
      },
      "source": [
        "# EDA"
      ]
    },
    {
      "cell_type": "code",
      "execution_count": null,
      "metadata": {
        "colab": {
          "base_uri": "https://localhost:8080/",
          "height": 322
        },
        "id": "w-wCTGWdT1cC",
        "outputId": "7dac5c7f-3787-4e2a-8c4b-cc452bc39937"
      },
      "outputs": [
        {
          "data": {
            "text/html": [
              "\n",
              "  <div id=\"df-4c1e2955-dbdf-473b-88b4-518137e0fe56\">\n",
              "    <div class=\"colab-df-container\">\n",
              "      <div>\n",
              "<style scoped>\n",
              "    .dataframe tbody tr th:only-of-type {\n",
              "        vertical-align: middle;\n",
              "    }\n",
              "\n",
              "    .dataframe tbody tr th {\n",
              "        vertical-align: top;\n",
              "    }\n",
              "\n",
              "    .dataframe thead th {\n",
              "        text-align: right;\n",
              "    }\n",
              "</style>\n",
              "<table border=\"1\" class=\"dataframe\">\n",
              "  <thead>\n",
              "    <tr style=\"text-align: right;\">\n",
              "      <th></th>\n",
              "      <th>Id</th>\n",
              "      <th>groupId</th>\n",
              "      <th>matchId</th>\n",
              "      <th>assists</th>\n",
              "      <th>boosts</th>\n",
              "      <th>damageDealt</th>\n",
              "      <th>DBNOs</th>\n",
              "      <th>headshotKills</th>\n",
              "      <th>heals</th>\n",
              "      <th>killPlace</th>\n",
              "      <th>killPoints</th>\n",
              "      <th>kills</th>\n",
              "      <th>killStreaks</th>\n",
              "      <th>longestKill</th>\n",
              "      <th>matchDuration</th>\n",
              "      <th>matchType</th>\n",
              "      <th>maxPlace</th>\n",
              "      <th>numGroups</th>\n",
              "      <th>rankPoints</th>\n",
              "      <th>revives</th>\n",
              "      <th>rideDistance</th>\n",
              "      <th>roadKills</th>\n",
              "      <th>swimDistance</th>\n",
              "      <th>teamKills</th>\n",
              "      <th>vehicleDestroys</th>\n",
              "      <th>walkDistance</th>\n",
              "      <th>weaponsAcquired</th>\n",
              "      <th>winPoints</th>\n",
              "      <th>winPlacePerc</th>\n",
              "    </tr>\n",
              "  </thead>\n",
              "  <tbody>\n",
              "    <tr>\n",
              "      <th>0</th>\n",
              "      <td>7f96b2f878858a</td>\n",
              "      <td>4d4b580de459be</td>\n",
              "      <td>a10357fd1a4a91</td>\n",
              "      <td>0</td>\n",
              "      <td>0</td>\n",
              "      <td>0.00000</td>\n",
              "      <td>0</td>\n",
              "      <td>0</td>\n",
              "      <td>0</td>\n",
              "      <td>60</td>\n",
              "      <td>1241</td>\n",
              "      <td>0</td>\n",
              "      <td>0</td>\n",
              "      <td>0.00000</td>\n",
              "      <td>1306</td>\n",
              "      <td>squad-fpp</td>\n",
              "      <td>28</td>\n",
              "      <td>26</td>\n",
              "      <td>-1</td>\n",
              "      <td>0</td>\n",
              "      <td>0.00000</td>\n",
              "      <td>0</td>\n",
              "      <td>0.00000</td>\n",
              "      <td>0</td>\n",
              "      <td>0</td>\n",
              "      <td>244.80000</td>\n",
              "      <td>1</td>\n",
              "      <td>1466</td>\n",
              "      <td>0.44440</td>\n",
              "    </tr>\n",
              "    <tr>\n",
              "      <th>1</th>\n",
              "      <td>eef90569b9d03c</td>\n",
              "      <td>684d5656442f9e</td>\n",
              "      <td>aeb375fc57110c</td>\n",
              "      <td>0</td>\n",
              "      <td>0</td>\n",
              "      <td>91.47000</td>\n",
              "      <td>0</td>\n",
              "      <td>0</td>\n",
              "      <td>0</td>\n",
              "      <td>57</td>\n",
              "      <td>0</td>\n",
              "      <td>0</td>\n",
              "      <td>0</td>\n",
              "      <td>0.00000</td>\n",
              "      <td>1777</td>\n",
              "      <td>squad-fpp</td>\n",
              "      <td>26</td>\n",
              "      <td>25</td>\n",
              "      <td>1484</td>\n",
              "      <td>0</td>\n",
              "      <td>0.00450</td>\n",
              "      <td>0</td>\n",
              "      <td>11.04000</td>\n",
              "      <td>0</td>\n",
              "      <td>0</td>\n",
              "      <td>1434.00000</td>\n",
              "      <td>5</td>\n",
              "      <td>0</td>\n",
              "      <td>0.64000</td>\n",
              "    </tr>\n",
              "    <tr>\n",
              "      <th>2</th>\n",
              "      <td>1eaf90ac73de72</td>\n",
              "      <td>6a4a42c3245a74</td>\n",
              "      <td>110163d8bb94ae</td>\n",
              "      <td>1</td>\n",
              "      <td>0</td>\n",
              "      <td>68.00000</td>\n",
              "      <td>0</td>\n",
              "      <td>0</td>\n",
              "      <td>0</td>\n",
              "      <td>47</td>\n",
              "      <td>0</td>\n",
              "      <td>0</td>\n",
              "      <td>0</td>\n",
              "      <td>0.00000</td>\n",
              "      <td>1318</td>\n",
              "      <td>duo</td>\n",
              "      <td>50</td>\n",
              "      <td>47</td>\n",
              "      <td>1491</td>\n",
              "      <td>0</td>\n",
              "      <td>0.00000</td>\n",
              "      <td>0</td>\n",
              "      <td>0.00000</td>\n",
              "      <td>0</td>\n",
              "      <td>0</td>\n",
              "      <td>161.80000</td>\n",
              "      <td>2</td>\n",
              "      <td>0</td>\n",
              "      <td>0.77550</td>\n",
              "    </tr>\n",
              "    <tr>\n",
              "      <th>3</th>\n",
              "      <td>4616d365dd2853</td>\n",
              "      <td>a930a9c79cd721</td>\n",
              "      <td>f1f1f4ef412d7e</td>\n",
              "      <td>0</td>\n",
              "      <td>0</td>\n",
              "      <td>32.90000</td>\n",
              "      <td>0</td>\n",
              "      <td>0</td>\n",
              "      <td>0</td>\n",
              "      <td>75</td>\n",
              "      <td>0</td>\n",
              "      <td>0</td>\n",
              "      <td>0</td>\n",
              "      <td>0.00000</td>\n",
              "      <td>1436</td>\n",
              "      <td>squad-fpp</td>\n",
              "      <td>31</td>\n",
              "      <td>30</td>\n",
              "      <td>1408</td>\n",
              "      <td>0</td>\n",
              "      <td>0.00000</td>\n",
              "      <td>0</td>\n",
              "      <td>0.00000</td>\n",
              "      <td>0</td>\n",
              "      <td>0</td>\n",
              "      <td>202.70000</td>\n",
              "      <td>3</td>\n",
              "      <td>0</td>\n",
              "      <td>0.16670</td>\n",
              "    </tr>\n",
              "    <tr>\n",
              "      <th>4</th>\n",
              "      <td>315c96c26c9aac</td>\n",
              "      <td>de04010b3458dd</td>\n",
              "      <td>6dc8ff871e21e6</td>\n",
              "      <td>0</td>\n",
              "      <td>0</td>\n",
              "      <td>100.00000</td>\n",
              "      <td>0</td>\n",
              "      <td>0</td>\n",
              "      <td>0</td>\n",
              "      <td>45</td>\n",
              "      <td>0</td>\n",
              "      <td>1</td>\n",
              "      <td>1</td>\n",
              "      <td>58.53000</td>\n",
              "      <td>1424</td>\n",
              "      <td>solo-fpp</td>\n",
              "      <td>97</td>\n",
              "      <td>95</td>\n",
              "      <td>1560</td>\n",
              "      <td>0</td>\n",
              "      <td>0.00000</td>\n",
              "      <td>0</td>\n",
              "      <td>0.00000</td>\n",
              "      <td>0</td>\n",
              "      <td>0</td>\n",
              "      <td>49.75000</td>\n",
              "      <td>2</td>\n",
              "      <td>0</td>\n",
              "      <td>0.18750</td>\n",
              "    </tr>\n",
              "  </tbody>\n",
              "</table>\n",
              "</div>\n",
              "      <button class=\"colab-df-convert\" onclick=\"convertToInteractive('df-4c1e2955-dbdf-473b-88b4-518137e0fe56')\"\n",
              "              title=\"Convert this dataframe to an interactive table.\"\n",
              "              style=\"display:none;\">\n",
              "        \n",
              "  <svg xmlns=\"http://www.w3.org/2000/svg\" height=\"24px\"viewBox=\"0 0 24 24\"\n",
              "       width=\"24px\">\n",
              "    <path d=\"M0 0h24v24H0V0z\" fill=\"none\"/>\n",
              "    <path d=\"M18.56 5.44l.94 2.06.94-2.06 2.06-.94-2.06-.94-.94-2.06-.94 2.06-2.06.94zm-11 1L8.5 8.5l.94-2.06 2.06-.94-2.06-.94L8.5 2.5l-.94 2.06-2.06.94zm10 10l.94 2.06.94-2.06 2.06-.94-2.06-.94-.94-2.06-.94 2.06-2.06.94z\"/><path d=\"M17.41 7.96l-1.37-1.37c-.4-.4-.92-.59-1.43-.59-.52 0-1.04.2-1.43.59L10.3 9.45l-7.72 7.72c-.78.78-.78 2.05 0 2.83L4 21.41c.39.39.9.59 1.41.59.51 0 1.02-.2 1.41-.59l7.78-7.78 2.81-2.81c.8-.78.8-2.07 0-2.86zM5.41 20L4 18.59l7.72-7.72 1.47 1.35L5.41 20z\"/>\n",
              "  </svg>\n",
              "      </button>\n",
              "      \n",
              "  <style>\n",
              "    .colab-df-container {\n",
              "      display:flex;\n",
              "      flex-wrap:wrap;\n",
              "      gap: 12px;\n",
              "    }\n",
              "\n",
              "    .colab-df-convert {\n",
              "      background-color: #E8F0FE;\n",
              "      border: none;\n",
              "      border-radius: 50%;\n",
              "      cursor: pointer;\n",
              "      display: none;\n",
              "      fill: #1967D2;\n",
              "      height: 32px;\n",
              "      padding: 0 0 0 0;\n",
              "      width: 32px;\n",
              "    }\n",
              "\n",
              "    .colab-df-convert:hover {\n",
              "      background-color: #E2EBFA;\n",
              "      box-shadow: 0px 1px 2px rgba(60, 64, 67, 0.3), 0px 1px 3px 1px rgba(60, 64, 67, 0.15);\n",
              "      fill: #174EA6;\n",
              "    }\n",
              "\n",
              "    [theme=dark] .colab-df-convert {\n",
              "      background-color: #3B4455;\n",
              "      fill: #D2E3FC;\n",
              "    }\n",
              "\n",
              "    [theme=dark] .colab-df-convert:hover {\n",
              "      background-color: #434B5C;\n",
              "      box-shadow: 0px 1px 3px 1px rgba(0, 0, 0, 0.15);\n",
              "      filter: drop-shadow(0px 1px 2px rgba(0, 0, 0, 0.3));\n",
              "      fill: #FFFFFF;\n",
              "    }\n",
              "  </style>\n",
              "\n",
              "      <script>\n",
              "        const buttonEl =\n",
              "          document.querySelector('#df-4c1e2955-dbdf-473b-88b4-518137e0fe56 button.colab-df-convert');\n",
              "        buttonEl.style.display =\n",
              "          google.colab.kernel.accessAllowed ? 'block' : 'none';\n",
              "\n",
              "        async function convertToInteractive(key) {\n",
              "          const element = document.querySelector('#df-4c1e2955-dbdf-473b-88b4-518137e0fe56');\n",
              "          const dataTable =\n",
              "            await google.colab.kernel.invokeFunction('convertToInteractive',\n",
              "                                                     [key], {});\n",
              "          if (!dataTable) return;\n",
              "\n",
              "          const docLinkHtml = 'Like what you see? Visit the ' +\n",
              "            '<a target=\"_blank\" href=https://colab.research.google.com/notebooks/data_table.ipynb>data table notebook</a>'\n",
              "            + ' to learn more about interactive tables.';\n",
              "          element.innerHTML = '';\n",
              "          dataTable['output_type'] = 'display_data';\n",
              "          await google.colab.output.renderOutput(dataTable, element);\n",
              "          const docLink = document.createElement('div');\n",
              "          docLink.innerHTML = docLinkHtml;\n",
              "          element.appendChild(docLink);\n",
              "        }\n",
              "      </script>\n",
              "    </div>\n",
              "  </div>\n",
              "  "
            ],
            "text/plain": [
              "               Id         groupId         matchId  assists  boosts  \\\n",
              "0  7f96b2f878858a  4d4b580de459be  a10357fd1a4a91        0       0   \n",
              "1  eef90569b9d03c  684d5656442f9e  aeb375fc57110c        0       0   \n",
              "2  1eaf90ac73de72  6a4a42c3245a74  110163d8bb94ae        1       0   \n",
              "3  4616d365dd2853  a930a9c79cd721  f1f1f4ef412d7e        0       0   \n",
              "4  315c96c26c9aac  de04010b3458dd  6dc8ff871e21e6        0       0   \n",
              "\n",
              "   damageDealt  DBNOs  headshotKills  heals  killPlace  killPoints  kills  \\\n",
              "0      0.00000      0              0      0         60        1241      0   \n",
              "1     91.47000      0              0      0         57           0      0   \n",
              "2     68.00000      0              0      0         47           0      0   \n",
              "3     32.90000      0              0      0         75           0      0   \n",
              "4    100.00000      0              0      0         45           0      1   \n",
              "\n",
              "   killStreaks  longestKill  matchDuration  matchType  maxPlace  numGroups  \\\n",
              "0            0      0.00000           1306  squad-fpp        28         26   \n",
              "1            0      0.00000           1777  squad-fpp        26         25   \n",
              "2            0      0.00000           1318        duo        50         47   \n",
              "3            0      0.00000           1436  squad-fpp        31         30   \n",
              "4            1     58.53000           1424   solo-fpp        97         95   \n",
              "\n",
              "   rankPoints  revives  rideDistance  roadKills  swimDistance  teamKills  \\\n",
              "0          -1        0       0.00000          0       0.00000          0   \n",
              "1        1484        0       0.00450          0      11.04000          0   \n",
              "2        1491        0       0.00000          0       0.00000          0   \n",
              "3        1408        0       0.00000          0       0.00000          0   \n",
              "4        1560        0       0.00000          0       0.00000          0   \n",
              "\n",
              "   vehicleDestroys  walkDistance  weaponsAcquired  winPoints  winPlacePerc  \n",
              "0                0     244.80000                1       1466       0.44440  \n",
              "1                0    1434.00000                5          0       0.64000  \n",
              "2                0     161.80000                2          0       0.77550  \n",
              "3                0     202.70000                3          0       0.16670  \n",
              "4                0      49.75000                2          0       0.18750  "
            ]
          },
          "execution_count": 14,
          "metadata": {},
          "output_type": "execute_result"
        }
      ],
      "source": [
        "# 데이터 찍어보기\n",
        "train.head(5)"
      ]
    },
    {
      "cell_type": "code",
      "execution_count": null,
      "metadata": {
        "colab": {
          "base_uri": "https://localhost:8080/",
          "height": 176
        },
        "id": "nXAIBnpRgfWM",
        "outputId": "b3782207-09a6-4e08-c94b-791d441845da"
      },
      "outputs": [
        {
          "data": {
            "text/html": [
              "\n",
              "  <div id=\"df-ba37ada3-e99d-4464-b64a-b4526ad0d145\">\n",
              "    <div class=\"colab-df-container\">\n",
              "      <div>\n",
              "<style scoped>\n",
              "    .dataframe tbody tr th:only-of-type {\n",
              "        vertical-align: middle;\n",
              "    }\n",
              "\n",
              "    .dataframe tbody tr th {\n",
              "        vertical-align: top;\n",
              "    }\n",
              "\n",
              "    .dataframe thead th {\n",
              "        text-align: right;\n",
              "    }\n",
              "</style>\n",
              "<table border=\"1\" class=\"dataframe\">\n",
              "  <thead>\n",
              "    <tr style=\"text-align: right;\">\n",
              "      <th></th>\n",
              "      <th>Id</th>\n",
              "      <th>groupId</th>\n",
              "      <th>matchId</th>\n",
              "      <th>assists</th>\n",
              "      <th>boosts</th>\n",
              "      <th>damageDealt</th>\n",
              "      <th>DBNOs</th>\n",
              "      <th>headshotKills</th>\n",
              "      <th>heals</th>\n",
              "      <th>killPlace</th>\n",
              "      <th>killPoints</th>\n",
              "      <th>kills</th>\n",
              "      <th>killStreaks</th>\n",
              "      <th>longestKill</th>\n",
              "      <th>matchDuration</th>\n",
              "      <th>matchType</th>\n",
              "      <th>maxPlace</th>\n",
              "      <th>numGroups</th>\n",
              "      <th>rankPoints</th>\n",
              "      <th>revives</th>\n",
              "      <th>rideDistance</th>\n",
              "      <th>roadKills</th>\n",
              "      <th>swimDistance</th>\n",
              "      <th>teamKills</th>\n",
              "      <th>vehicleDestroys</th>\n",
              "      <th>walkDistance</th>\n",
              "      <th>weaponsAcquired</th>\n",
              "      <th>winPoints</th>\n",
              "      <th>winPlacePerc</th>\n",
              "    </tr>\n",
              "  </thead>\n",
              "  <tbody>\n",
              "    <tr>\n",
              "      <th>2</th>\n",
              "      <td>1eaf90ac73de72</td>\n",
              "      <td>6a4a42c3245a74</td>\n",
              "      <td>110163d8bb94ae</td>\n",
              "      <td>1</td>\n",
              "      <td>0</td>\n",
              "      <td>68.00000</td>\n",
              "      <td>0</td>\n",
              "      <td>0</td>\n",
              "      <td>0</td>\n",
              "      <td>47</td>\n",
              "      <td>0</td>\n",
              "      <td>0</td>\n",
              "      <td>0</td>\n",
              "      <td>0.00000</td>\n",
              "      <td>1318</td>\n",
              "      <td>duo</td>\n",
              "      <td>50</td>\n",
              "      <td>47</td>\n",
              "      <td>1491</td>\n",
              "      <td>0</td>\n",
              "      <td>0.00000</td>\n",
              "      <td>0</td>\n",
              "      <td>0.00000</td>\n",
              "      <td>0</td>\n",
              "      <td>0</td>\n",
              "      <td>161.80000</td>\n",
              "      <td>2</td>\n",
              "      <td>0</td>\n",
              "      <td>0.77550</td>\n",
              "    </tr>\n",
              "    <tr>\n",
              "      <th>3649524</th>\n",
              "      <td>3d588ea15ea8ba</td>\n",
              "      <td>6a4a42c3245a74</td>\n",
              "      <td>110163d8bb94ae</td>\n",
              "      <td>0</td>\n",
              "      <td>3</td>\n",
              "      <td>146.60000</td>\n",
              "      <td>1</td>\n",
              "      <td>0</td>\n",
              "      <td>2</td>\n",
              "      <td>18</td>\n",
              "      <td>0</td>\n",
              "      <td>2</td>\n",
              "      <td>1</td>\n",
              "      <td>10.84000</td>\n",
              "      <td>1318</td>\n",
              "      <td>duo</td>\n",
              "      <td>50</td>\n",
              "      <td>47</td>\n",
              "      <td>1494</td>\n",
              "      <td>0</td>\n",
              "      <td>340.40000</td>\n",
              "      <td>0</td>\n",
              "      <td>0.00000</td>\n",
              "      <td>0</td>\n",
              "      <td>0</td>\n",
              "      <td>1119.00000</td>\n",
              "      <td>2</td>\n",
              "      <td>0</td>\n",
              "      <td>0.77550</td>\n",
              "    </tr>\n",
              "  </tbody>\n",
              "</table>\n",
              "</div>\n",
              "      <button class=\"colab-df-convert\" onclick=\"convertToInteractive('df-ba37ada3-e99d-4464-b64a-b4526ad0d145')\"\n",
              "              title=\"Convert this dataframe to an interactive table.\"\n",
              "              style=\"display:none;\">\n",
              "        \n",
              "  <svg xmlns=\"http://www.w3.org/2000/svg\" height=\"24px\"viewBox=\"0 0 24 24\"\n",
              "       width=\"24px\">\n",
              "    <path d=\"M0 0h24v24H0V0z\" fill=\"none\"/>\n",
              "    <path d=\"M18.56 5.44l.94 2.06.94-2.06 2.06-.94-2.06-.94-.94-2.06-.94 2.06-2.06.94zm-11 1L8.5 8.5l.94-2.06 2.06-.94-2.06-.94L8.5 2.5l-.94 2.06-2.06.94zm10 10l.94 2.06.94-2.06 2.06-.94-2.06-.94-.94-2.06-.94 2.06-2.06.94z\"/><path d=\"M17.41 7.96l-1.37-1.37c-.4-.4-.92-.59-1.43-.59-.52 0-1.04.2-1.43.59L10.3 9.45l-7.72 7.72c-.78.78-.78 2.05 0 2.83L4 21.41c.39.39.9.59 1.41.59.51 0 1.02-.2 1.41-.59l7.78-7.78 2.81-2.81c.8-.78.8-2.07 0-2.86zM5.41 20L4 18.59l7.72-7.72 1.47 1.35L5.41 20z\"/>\n",
              "  </svg>\n",
              "      </button>\n",
              "      \n",
              "  <style>\n",
              "    .colab-df-container {\n",
              "      display:flex;\n",
              "      flex-wrap:wrap;\n",
              "      gap: 12px;\n",
              "    }\n",
              "\n",
              "    .colab-df-convert {\n",
              "      background-color: #E8F0FE;\n",
              "      border: none;\n",
              "      border-radius: 50%;\n",
              "      cursor: pointer;\n",
              "      display: none;\n",
              "      fill: #1967D2;\n",
              "      height: 32px;\n",
              "      padding: 0 0 0 0;\n",
              "      width: 32px;\n",
              "    }\n",
              "\n",
              "    .colab-df-convert:hover {\n",
              "      background-color: #E2EBFA;\n",
              "      box-shadow: 0px 1px 2px rgba(60, 64, 67, 0.3), 0px 1px 3px 1px rgba(60, 64, 67, 0.15);\n",
              "      fill: #174EA6;\n",
              "    }\n",
              "\n",
              "    [theme=dark] .colab-df-convert {\n",
              "      background-color: #3B4455;\n",
              "      fill: #D2E3FC;\n",
              "    }\n",
              "\n",
              "    [theme=dark] .colab-df-convert:hover {\n",
              "      background-color: #434B5C;\n",
              "      box-shadow: 0px 1px 3px 1px rgba(0, 0, 0, 0.15);\n",
              "      filter: drop-shadow(0px 1px 2px rgba(0, 0, 0, 0.3));\n",
              "      fill: #FFFFFF;\n",
              "    }\n",
              "  </style>\n",
              "\n",
              "      <script>\n",
              "        const buttonEl =\n",
              "          document.querySelector('#df-ba37ada3-e99d-4464-b64a-b4526ad0d145 button.colab-df-convert');\n",
              "        buttonEl.style.display =\n",
              "          google.colab.kernel.accessAllowed ? 'block' : 'none';\n",
              "\n",
              "        async function convertToInteractive(key) {\n",
              "          const element = document.querySelector('#df-ba37ada3-e99d-4464-b64a-b4526ad0d145');\n",
              "          const dataTable =\n",
              "            await google.colab.kernel.invokeFunction('convertToInteractive',\n",
              "                                                     [key], {});\n",
              "          if (!dataTable) return;\n",
              "\n",
              "          const docLinkHtml = 'Like what you see? Visit the ' +\n",
              "            '<a target=\"_blank\" href=https://colab.research.google.com/notebooks/data_table.ipynb>data table notebook</a>'\n",
              "            + ' to learn more about interactive tables.';\n",
              "          element.innerHTML = '';\n",
              "          dataTable['output_type'] = 'display_data';\n",
              "          await google.colab.output.renderOutput(dataTable, element);\n",
              "          const docLink = document.createElement('div');\n",
              "          docLink.innerHTML = docLinkHtml;\n",
              "          element.appendChild(docLink);\n",
              "        }\n",
              "      </script>\n",
              "    </div>\n",
              "  </div>\n",
              "  "
            ],
            "text/plain": [
              "                     Id         groupId         matchId  assists  boosts  \\\n",
              "2        1eaf90ac73de72  6a4a42c3245a74  110163d8bb94ae        1       0   \n",
              "3649524  3d588ea15ea8ba  6a4a42c3245a74  110163d8bb94ae        0       3   \n",
              "\n",
              "         damageDealt  DBNOs  headshotKills  heals  killPlace  killPoints  \\\n",
              "2           68.00000      0              0      0         47           0   \n",
              "3649524    146.60000      1              0      2         18           0   \n",
              "\n",
              "         kills  killStreaks  longestKill  matchDuration matchType  maxPlace  \\\n",
              "2            0            0      0.00000           1318       duo        50   \n",
              "3649524      2            1     10.84000           1318       duo        50   \n",
              "\n",
              "         numGroups  rankPoints  revives  rideDistance  roadKills  \\\n",
              "2               47        1491        0       0.00000          0   \n",
              "3649524         47        1494        0     340.40000          0   \n",
              "\n",
              "         swimDistance  teamKills  vehicleDestroys  walkDistance  \\\n",
              "2             0.00000          0                0     161.80000   \n",
              "3649524       0.00000          0                0    1119.00000   \n",
              "\n",
              "         weaponsAcquired  winPoints  winPlacePerc  \n",
              "2                      2          0       0.77550  \n",
              "3649524                2          0       0.77550  "
            ]
          },
          "execution_count": 18,
          "metadata": {},
          "output_type": "execute_result"
        }
      ],
      "source": [
        "# gropuId는 한 경기에서 같은 팀인 사람을 구분할 수 있는 피쳐\n",
        "train[train['groupId'] == '6a4a42c3245a74']"
      ]
    },
    {
      "cell_type": "code",
      "execution_count": null,
      "metadata": {
        "colab": {
          "base_uri": "https://localhost:8080/"
        },
        "id": "LZL6dI1KiUkZ",
        "outputId": "cc3d31af-70db-45b7-da00-ac243ef8e3e7"
      },
      "outputs": [
        {
          "data": {
            "text/plain": [
              "(4446965, 29)"
            ]
          },
          "execution_count": 25,
          "metadata": {},
          "output_type": "execute_result"
        }
      ],
      "source": [
        "# 총 29개의 column\n",
        "train.shape"
      ]
    },
    {
      "cell_type": "markdown",
      "metadata": {
        "id": "PmVPYpRch7G6"
      },
      "source": [
        "### 데이터의 타입 및 분포 확인"
      ]
    },
    {
      "cell_type": "code",
      "execution_count": null,
      "metadata": {
        "colab": {
          "base_uri": "https://localhost:8080/"
        },
        "id": "P_PJtHM1iNWb",
        "outputId": "ec4ba7db-343b-4021-a740-3c352c2ea02d"
      },
      "outputs": [
        {
          "name": "stdout",
          "output_type": "stream",
          "text": [
            "<class 'pandas.core.frame.DataFrame'>\n",
            "Int64Index: 4446965 entries, 0 to 4446965\n",
            "Data columns (total 29 columns):\n",
            " #   Column           Dtype  \n",
            "---  ------           -----  \n",
            " 0   Id               object \n",
            " 1   groupId          object \n",
            " 2   matchId          object \n",
            " 3   assists          int64  \n",
            " 4   boosts           int64  \n",
            " 5   damageDealt      float64\n",
            " 6   DBNOs            int64  \n",
            " 7   headshotKills    int64  \n",
            " 8   heals            int64  \n",
            " 9   killPlace        int64  \n",
            " 10  killPoints       int64  \n",
            " 11  kills            int64  \n",
            " 12  killStreaks      int64  \n",
            " 13  longestKill      float64\n",
            " 14  matchDuration    int64  \n",
            " 15  matchType        object \n",
            " 16  maxPlace         int64  \n",
            " 17  numGroups        int64  \n",
            " 18  rankPoints       int64  \n",
            " 19  revives          int64  \n",
            " 20  rideDistance     float64\n",
            " 21  roadKills        int64  \n",
            " 22  swimDistance     float64\n",
            " 23  teamKills        int64  \n",
            " 24  vehicleDestroys  int64  \n",
            " 25  walkDistance     float64\n",
            " 26  weaponsAcquired  int64  \n",
            " 27  winPoints        int64  \n",
            " 28  winPlacePerc     float64\n",
            "dtypes: float64(6), int64(19), object(4)\n",
            "memory usage: 1017.8+ MB\n"
          ]
        }
      ],
      "source": [
        "train.info()"
      ]
    },
    {
      "cell_type": "code",
      "execution_count": null,
      "metadata": {
        "colab": {
          "base_uri": "https://localhost:8080/",
          "height": 364
        },
        "id": "rsh9QkmliEUa",
        "outputId": "23785767-679f-41ae-f866-f7e642683657"
      },
      "outputs": [
        {
          "data": {
            "text/html": [
              "\n",
              "  <div id=\"df-76ee5d9c-46b4-4a31-a2ed-3064439399bc\">\n",
              "    <div class=\"colab-df-container\">\n",
              "      <div>\n",
              "<style scoped>\n",
              "    .dataframe tbody tr th:only-of-type {\n",
              "        vertical-align: middle;\n",
              "    }\n",
              "\n",
              "    .dataframe tbody tr th {\n",
              "        vertical-align: top;\n",
              "    }\n",
              "\n",
              "    .dataframe thead th {\n",
              "        text-align: right;\n",
              "    }\n",
              "</style>\n",
              "<table border=\"1\" class=\"dataframe\">\n",
              "  <thead>\n",
              "    <tr style=\"text-align: right;\">\n",
              "      <th></th>\n",
              "      <th>assists</th>\n",
              "      <th>boosts</th>\n",
              "      <th>damageDealt</th>\n",
              "      <th>DBNOs</th>\n",
              "      <th>headshotKills</th>\n",
              "      <th>heals</th>\n",
              "      <th>killPlace</th>\n",
              "      <th>killPoints</th>\n",
              "      <th>kills</th>\n",
              "      <th>killStreaks</th>\n",
              "      <th>longestKill</th>\n",
              "      <th>matchDuration</th>\n",
              "      <th>maxPlace</th>\n",
              "      <th>numGroups</th>\n",
              "      <th>rankPoints</th>\n",
              "      <th>revives</th>\n",
              "      <th>rideDistance</th>\n",
              "      <th>roadKills</th>\n",
              "      <th>swimDistance</th>\n",
              "      <th>teamKills</th>\n",
              "      <th>vehicleDestroys</th>\n",
              "      <th>walkDistance</th>\n",
              "      <th>weaponsAcquired</th>\n",
              "      <th>winPoints</th>\n",
              "      <th>winPlacePerc</th>\n",
              "    </tr>\n",
              "  </thead>\n",
              "  <tbody>\n",
              "    <tr>\n",
              "      <th>count</th>\n",
              "      <td>4446965.00000</td>\n",
              "      <td>4446965.00000</td>\n",
              "      <td>4446965.00000</td>\n",
              "      <td>4446965.00000</td>\n",
              "      <td>4446965.00000</td>\n",
              "      <td>4446965.00000</td>\n",
              "      <td>4446965.00000</td>\n",
              "      <td>4446965.00000</td>\n",
              "      <td>4446965.00000</td>\n",
              "      <td>4446965.00000</td>\n",
              "      <td>4446965.00000</td>\n",
              "      <td>4446965.00000</td>\n",
              "      <td>4446965.00000</td>\n",
              "      <td>4446965.00000</td>\n",
              "      <td>4446965.00000</td>\n",
              "      <td>4446965.00000</td>\n",
              "      <td>4446965.00000</td>\n",
              "      <td>4446965.00000</td>\n",
              "      <td>4446965.00000</td>\n",
              "      <td>4446965.00000</td>\n",
              "      <td>4446965.00000</td>\n",
              "      <td>4446965.00000</td>\n",
              "      <td>4446965.00000</td>\n",
              "      <td>4446965.00000</td>\n",
              "      <td>4446965.00000</td>\n",
              "    </tr>\n",
              "    <tr>\n",
              "      <th>mean</th>\n",
              "      <td>0.23381</td>\n",
              "      <td>1.10691</td>\n",
              "      <td>130.71717</td>\n",
              "      <td>0.65788</td>\n",
              "      <td>0.22682</td>\n",
              "      <td>1.37015</td>\n",
              "      <td>47.59936</td>\n",
              "      <td>505.00616</td>\n",
              "      <td>0.92478</td>\n",
              "      <td>0.54396</td>\n",
              "      <td>22.99760</td>\n",
              "      <td>1579.50679</td>\n",
              "      <td>44.50468</td>\n",
              "      <td>43.00760</td>\n",
              "      <td>892.01030</td>\n",
              "      <td>0.16466</td>\n",
              "      <td>606.11581</td>\n",
              "      <td>0.00350</td>\n",
              "      <td>4.50932</td>\n",
              "      <td>0.02387</td>\n",
              "      <td>0.00792</td>\n",
              "      <td>1154.21812</td>\n",
              "      <td>3.66049</td>\n",
              "      <td>606.46027</td>\n",
              "      <td>0.47282</td>\n",
              "    </tr>\n",
              "    <tr>\n",
              "      <th>std</th>\n",
              "      <td>0.58857</td>\n",
              "      <td>1.71579</td>\n",
              "      <td>170.78063</td>\n",
              "      <td>1.14574</td>\n",
              "      <td>0.60216</td>\n",
              "      <td>2.67998</td>\n",
              "      <td>27.46293</td>\n",
              "      <td>627.50492</td>\n",
              "      <td>1.55844</td>\n",
              "      <td>0.71097</td>\n",
              "      <td>50.97262</td>\n",
              "      <td>258.73881</td>\n",
              "      <td>23.82810</td>\n",
              "      <td>23.28949</td>\n",
              "      <td>736.64779</td>\n",
              "      <td>0.47217</td>\n",
              "      <td>1498.34365</td>\n",
              "      <td>0.07337</td>\n",
              "      <td>30.50220</td>\n",
              "      <td>0.16739</td>\n",
              "      <td>0.09261</td>\n",
              "      <td>1183.49705</td>\n",
              "      <td>2.45654</td>\n",
              "      <td>739.70047</td>\n",
              "      <td>0.30740</td>\n",
              "    </tr>\n",
              "    <tr>\n",
              "      <th>min</th>\n",
              "      <td>0.00000</td>\n",
              "      <td>0.00000</td>\n",
              "      <td>0.00000</td>\n",
              "      <td>0.00000</td>\n",
              "      <td>0.00000</td>\n",
              "      <td>0.00000</td>\n",
              "      <td>1.00000</td>\n",
              "      <td>0.00000</td>\n",
              "      <td>0.00000</td>\n",
              "      <td>0.00000</td>\n",
              "      <td>0.00000</td>\n",
              "      <td>133.00000</td>\n",
              "      <td>2.00000</td>\n",
              "      <td>1.00000</td>\n",
              "      <td>-1.00000</td>\n",
              "      <td>0.00000</td>\n",
              "      <td>0.00000</td>\n",
              "      <td>0.00000</td>\n",
              "      <td>0.00000</td>\n",
              "      <td>0.00000</td>\n",
              "      <td>0.00000</td>\n",
              "      <td>0.00000</td>\n",
              "      <td>0.00000</td>\n",
              "      <td>0.00000</td>\n",
              "      <td>0.00000</td>\n",
              "    </tr>\n",
              "    <tr>\n",
              "      <th>25%</th>\n",
              "      <td>0.00000</td>\n",
              "      <td>0.00000</td>\n",
              "      <td>0.00000</td>\n",
              "      <td>0.00000</td>\n",
              "      <td>0.00000</td>\n",
              "      <td>0.00000</td>\n",
              "      <td>24.00000</td>\n",
              "      <td>0.00000</td>\n",
              "      <td>0.00000</td>\n",
              "      <td>0.00000</td>\n",
              "      <td>0.00000</td>\n",
              "      <td>1367.00000</td>\n",
              "      <td>28.00000</td>\n",
              "      <td>27.00000</td>\n",
              "      <td>-1.00000</td>\n",
              "      <td>0.00000</td>\n",
              "      <td>0.00000</td>\n",
              "      <td>0.00000</td>\n",
              "      <td>0.00000</td>\n",
              "      <td>0.00000</td>\n",
              "      <td>0.00000</td>\n",
              "      <td>155.10000</td>\n",
              "      <td>2.00000</td>\n",
              "      <td>0.00000</td>\n",
              "      <td>0.20000</td>\n",
              "    </tr>\n",
              "    <tr>\n",
              "      <th>50%</th>\n",
              "      <td>0.00000</td>\n",
              "      <td>0.00000</td>\n",
              "      <td>84.24000</td>\n",
              "      <td>0.00000</td>\n",
              "      <td>0.00000</td>\n",
              "      <td>0.00000</td>\n",
              "      <td>47.00000</td>\n",
              "      <td>0.00000</td>\n",
              "      <td>0.00000</td>\n",
              "      <td>0.00000</td>\n",
              "      <td>0.00000</td>\n",
              "      <td>1438.00000</td>\n",
              "      <td>30.00000</td>\n",
              "      <td>30.00000</td>\n",
              "      <td>1443.00000</td>\n",
              "      <td>0.00000</td>\n",
              "      <td>0.00000</td>\n",
              "      <td>0.00000</td>\n",
              "      <td>0.00000</td>\n",
              "      <td>0.00000</td>\n",
              "      <td>0.00000</td>\n",
              "      <td>685.60000</td>\n",
              "      <td>3.00000</td>\n",
              "      <td>0.00000</td>\n",
              "      <td>0.45830</td>\n",
              "    </tr>\n",
              "    <tr>\n",
              "      <th>75%</th>\n",
              "      <td>0.00000</td>\n",
              "      <td>2.00000</td>\n",
              "      <td>186.00000</td>\n",
              "      <td>1.00000</td>\n",
              "      <td>0.00000</td>\n",
              "      <td>2.00000</td>\n",
              "      <td>71.00000</td>\n",
              "      <td>1172.00000</td>\n",
              "      <td>1.00000</td>\n",
              "      <td>1.00000</td>\n",
              "      <td>21.32000</td>\n",
              "      <td>1851.00000</td>\n",
              "      <td>49.00000</td>\n",
              "      <td>47.00000</td>\n",
              "      <td>1500.00000</td>\n",
              "      <td>0.00000</td>\n",
              "      <td>0.19100</td>\n",
              "      <td>0.00000</td>\n",
              "      <td>0.00000</td>\n",
              "      <td>0.00000</td>\n",
              "      <td>0.00000</td>\n",
              "      <td>1976.00000</td>\n",
              "      <td>5.00000</td>\n",
              "      <td>1495.00000</td>\n",
              "      <td>0.74070</td>\n",
              "    </tr>\n",
              "    <tr>\n",
              "      <th>max</th>\n",
              "      <td>22.00000</td>\n",
              "      <td>33.00000</td>\n",
              "      <td>6616.00000</td>\n",
              "      <td>53.00000</td>\n",
              "      <td>64.00000</td>\n",
              "      <td>80.00000</td>\n",
              "      <td>101.00000</td>\n",
              "      <td>2170.00000</td>\n",
              "      <td>72.00000</td>\n",
              "      <td>20.00000</td>\n",
              "      <td>1094.00000</td>\n",
              "      <td>2237.00000</td>\n",
              "      <td>100.00000</td>\n",
              "      <td>100.00000</td>\n",
              "      <td>5910.00000</td>\n",
              "      <td>39.00000</td>\n",
              "      <td>40710.00000</td>\n",
              "      <td>18.00000</td>\n",
              "      <td>3823.00000</td>\n",
              "      <td>12.00000</td>\n",
              "      <td>5.00000</td>\n",
              "      <td>25780.00000</td>\n",
              "      <td>236.00000</td>\n",
              "      <td>2013.00000</td>\n",
              "      <td>1.00000</td>\n",
              "    </tr>\n",
              "  </tbody>\n",
              "</table>\n",
              "</div>\n",
              "      <button class=\"colab-df-convert\" onclick=\"convertToInteractive('df-76ee5d9c-46b4-4a31-a2ed-3064439399bc')\"\n",
              "              title=\"Convert this dataframe to an interactive table.\"\n",
              "              style=\"display:none;\">\n",
              "        \n",
              "  <svg xmlns=\"http://www.w3.org/2000/svg\" height=\"24px\"viewBox=\"0 0 24 24\"\n",
              "       width=\"24px\">\n",
              "    <path d=\"M0 0h24v24H0V0z\" fill=\"none\"/>\n",
              "    <path d=\"M18.56 5.44l.94 2.06.94-2.06 2.06-.94-2.06-.94-.94-2.06-.94 2.06-2.06.94zm-11 1L8.5 8.5l.94-2.06 2.06-.94-2.06-.94L8.5 2.5l-.94 2.06-2.06.94zm10 10l.94 2.06.94-2.06 2.06-.94-2.06-.94-.94-2.06-.94 2.06-2.06.94z\"/><path d=\"M17.41 7.96l-1.37-1.37c-.4-.4-.92-.59-1.43-.59-.52 0-1.04.2-1.43.59L10.3 9.45l-7.72 7.72c-.78.78-.78 2.05 0 2.83L4 21.41c.39.39.9.59 1.41.59.51 0 1.02-.2 1.41-.59l7.78-7.78 2.81-2.81c.8-.78.8-2.07 0-2.86zM5.41 20L4 18.59l7.72-7.72 1.47 1.35L5.41 20z\"/>\n",
              "  </svg>\n",
              "      </button>\n",
              "      \n",
              "  <style>\n",
              "    .colab-df-container {\n",
              "      display:flex;\n",
              "      flex-wrap:wrap;\n",
              "      gap: 12px;\n",
              "    }\n",
              "\n",
              "    .colab-df-convert {\n",
              "      background-color: #E8F0FE;\n",
              "      border: none;\n",
              "      border-radius: 50%;\n",
              "      cursor: pointer;\n",
              "      display: none;\n",
              "      fill: #1967D2;\n",
              "      height: 32px;\n",
              "      padding: 0 0 0 0;\n",
              "      width: 32px;\n",
              "    }\n",
              "\n",
              "    .colab-df-convert:hover {\n",
              "      background-color: #E2EBFA;\n",
              "      box-shadow: 0px 1px 2px rgba(60, 64, 67, 0.3), 0px 1px 3px 1px rgba(60, 64, 67, 0.15);\n",
              "      fill: #174EA6;\n",
              "    }\n",
              "\n",
              "    [theme=dark] .colab-df-convert {\n",
              "      background-color: #3B4455;\n",
              "      fill: #D2E3FC;\n",
              "    }\n",
              "\n",
              "    [theme=dark] .colab-df-convert:hover {\n",
              "      background-color: #434B5C;\n",
              "      box-shadow: 0px 1px 3px 1px rgba(0, 0, 0, 0.15);\n",
              "      filter: drop-shadow(0px 1px 2px rgba(0, 0, 0, 0.3));\n",
              "      fill: #FFFFFF;\n",
              "    }\n",
              "  </style>\n",
              "\n",
              "      <script>\n",
              "        const buttonEl =\n",
              "          document.querySelector('#df-76ee5d9c-46b4-4a31-a2ed-3064439399bc button.colab-df-convert');\n",
              "        buttonEl.style.display =\n",
              "          google.colab.kernel.accessAllowed ? 'block' : 'none';\n",
              "\n",
              "        async function convertToInteractive(key) {\n",
              "          const element = document.querySelector('#df-76ee5d9c-46b4-4a31-a2ed-3064439399bc');\n",
              "          const dataTable =\n",
              "            await google.colab.kernel.invokeFunction('convertToInteractive',\n",
              "                                                     [key], {});\n",
              "          if (!dataTable) return;\n",
              "\n",
              "          const docLinkHtml = 'Like what you see? Visit the ' +\n",
              "            '<a target=\"_blank\" href=https://colab.research.google.com/notebooks/data_table.ipynb>data table notebook</a>'\n",
              "            + ' to learn more about interactive tables.';\n",
              "          element.innerHTML = '';\n",
              "          dataTable['output_type'] = 'display_data';\n",
              "          await google.colab.output.renderOutput(dataTable, element);\n",
              "          const docLink = document.createElement('div');\n",
              "          docLink.innerHTML = docLinkHtml;\n",
              "          element.appendChild(docLink);\n",
              "        }\n",
              "      </script>\n",
              "    </div>\n",
              "  </div>\n",
              "  "
            ],
            "text/plain": [
              "            assists        boosts   damageDealt         DBNOs  headshotKills  \\\n",
              "count 4446965.00000 4446965.00000 4446965.00000 4446965.00000  4446965.00000   \n",
              "mean        0.23381       1.10691     130.71717       0.65788        0.22682   \n",
              "std         0.58857       1.71579     170.78063       1.14574        0.60216   \n",
              "min         0.00000       0.00000       0.00000       0.00000        0.00000   \n",
              "25%         0.00000       0.00000       0.00000       0.00000        0.00000   \n",
              "50%         0.00000       0.00000      84.24000       0.00000        0.00000   \n",
              "75%         0.00000       2.00000     186.00000       1.00000        0.00000   \n",
              "max        22.00000      33.00000    6616.00000      53.00000       64.00000   \n",
              "\n",
              "              heals     killPlace    killPoints         kills   killStreaks  \\\n",
              "count 4446965.00000 4446965.00000 4446965.00000 4446965.00000 4446965.00000   \n",
              "mean        1.37015      47.59936     505.00616       0.92478       0.54396   \n",
              "std         2.67998      27.46293     627.50492       1.55844       0.71097   \n",
              "min         0.00000       1.00000       0.00000       0.00000       0.00000   \n",
              "25%         0.00000      24.00000       0.00000       0.00000       0.00000   \n",
              "50%         0.00000      47.00000       0.00000       0.00000       0.00000   \n",
              "75%         2.00000      71.00000    1172.00000       1.00000       1.00000   \n",
              "max        80.00000     101.00000    2170.00000      72.00000      20.00000   \n",
              "\n",
              "        longestKill  matchDuration      maxPlace     numGroups    rankPoints  \\\n",
              "count 4446965.00000  4446965.00000 4446965.00000 4446965.00000 4446965.00000   \n",
              "mean       22.99760     1579.50679      44.50468      43.00760     892.01030   \n",
              "std        50.97262      258.73881      23.82810      23.28949     736.64779   \n",
              "min         0.00000      133.00000       2.00000       1.00000      -1.00000   \n",
              "25%         0.00000     1367.00000      28.00000      27.00000      -1.00000   \n",
              "50%         0.00000     1438.00000      30.00000      30.00000    1443.00000   \n",
              "75%        21.32000     1851.00000      49.00000      47.00000    1500.00000   \n",
              "max      1094.00000     2237.00000     100.00000     100.00000    5910.00000   \n",
              "\n",
              "            revives  rideDistance     roadKills  swimDistance     teamKills  \\\n",
              "count 4446965.00000 4446965.00000 4446965.00000 4446965.00000 4446965.00000   \n",
              "mean        0.16466     606.11581       0.00350       4.50932       0.02387   \n",
              "std         0.47217    1498.34365       0.07337      30.50220       0.16739   \n",
              "min         0.00000       0.00000       0.00000       0.00000       0.00000   \n",
              "25%         0.00000       0.00000       0.00000       0.00000       0.00000   \n",
              "50%         0.00000       0.00000       0.00000       0.00000       0.00000   \n",
              "75%         0.00000       0.19100       0.00000       0.00000       0.00000   \n",
              "max        39.00000   40710.00000      18.00000    3823.00000      12.00000   \n",
              "\n",
              "       vehicleDestroys  walkDistance  weaponsAcquired     winPoints  \\\n",
              "count    4446965.00000 4446965.00000    4446965.00000 4446965.00000   \n",
              "mean           0.00792    1154.21812          3.66049     606.46027   \n",
              "std            0.09261    1183.49705          2.45654     739.70047   \n",
              "min            0.00000       0.00000          0.00000       0.00000   \n",
              "25%            0.00000     155.10000          2.00000       0.00000   \n",
              "50%            0.00000     685.60000          3.00000       0.00000   \n",
              "75%            0.00000    1976.00000          5.00000    1495.00000   \n",
              "max            5.00000   25780.00000        236.00000    2013.00000   \n",
              "\n",
              "       winPlacePerc  \n",
              "count 4446965.00000  \n",
              "mean        0.47282  \n",
              "std         0.30740  \n",
              "min         0.00000  \n",
              "25%         0.20000  \n",
              "50%         0.45830  \n",
              "75%         0.74070  \n",
              "max         1.00000  "
            ]
          },
          "execution_count": 22,
          "metadata": {},
          "output_type": "execute_result"
        }
      ],
      "source": [
        "train.describe()"
      ]
    },
    {
      "cell_type": "code",
      "execution_count": null,
      "metadata": {
        "colab": {
          "base_uri": "https://localhost:8080/",
          "height": 856
        },
        "id": "KiAnRvhwhXRy",
        "outputId": "cc5d44ef-6692-45a0-9979-4ae011f47d0f"
      },
      "outputs": [
        {
          "name": "stdout",
          "output_type": "stream",
          "text": [
            "Index(['groupId', 'matchId', 'assists', 'boosts', 'damageDealt', 'DBNOs',\n",
            "       'headshotKills', 'heals', 'killPlace', 'killPoints', 'kills',\n",
            "       'killStreaks', 'longestKill', 'matchDuration', 'matchType', 'maxPlace',\n",
            "       'numGroups', 'rankPoints', 'revives', 'rideDistance', 'roadKills',\n",
            "       'swimDistance', 'teamKills', 'vehicleDestroys', 'walkDistance',\n",
            "       'weaponsAcquired', 'winPoints', 'winPlacePerc'],\n",
            "      dtype='object')\n"
          ]
        },
        {
          "data": {
            "image/png": "[encoded data removed]",
            "text/plain": [
              "<Figure size 2520x1512 with 30 Axes>"
            ]
          },
          "metadata": {
            "needs_background": "light"
          },
          "output_type": "display_data"
        }
      ],
      "source": [
        "cols_list = train.columns[1:]\n",
        "print(cols_list)\n",
        "\n",
        "train[cols_list].hist(figsize=(35, 21), grid=True, layout=(6,5), bins=20)\n",
        "plt.show()"
      ]
    },
    {
      "cell_type": "code",
      "execution_count": null,
      "metadata": {
        "colab": {
          "base_uri": "https://localhost:8080/",
          "height": 581
        },
        "id": "oiEQbDREojru",
        "outputId": "b17a0111-8231-4ea9-85d4-d9f57f6fa99c"
      },
      "outputs": [
        {
          "data": {
            "image/png": "[encoded data removed]",
            "text/plain": [
              "<Figure size 1152x576 with 4 Axes>"
            ]
          },
          "metadata": {
            "needs_background": "light"
          },
          "output_type": "display_data"
        }
      ],
      "source": [
        "fig, ax = plt.subplots(2, 2, figsize=(16, 8))\n",
        "\n",
        "cols = ['killStreaks','DBNOs']\n",
        "for col, ax in zip(cols, ax):\n",
        "    sub = train[['winPlacePerc',col]].copy()\n",
        "    sub[col] = pd.cut(sub[col], 6)\n",
        "    sub.groupby(col).mean()['winPlacePerc'].plot.bar(ax=ax[0])\n",
        "    train[col].hist(bins=20, ax=ax[1])"
      ]
    },
    {
      "cell_type": "code",
      "execution_count": null,
      "metadata": {
        "colab": {
          "base_uri": "https://localhost:8080/",
          "height": 396
        },
        "id": "2_5qaVWZo4f8",
        "outputId": "e2974245-8d6d-4595-937e-4440ad362cee"
      },
      "outputs": [
        {
          "data": {
            "text/plain": [
              "<matplotlib.axes._subplots.AxesSubplot at 0x7f82731a1150>"
            ]
          },
          "execution_count": 29,
          "metadata": {},
          "output_type": "execute_result"
        },
        {
          "data": {
            "image/png": "[encoded data removed]",
            "text/plain": [
              "<Figure size 1152x288 with 2 Axes>"
            ]
          },
          "metadata": {
            "needs_background": "light"
          },
          "output_type": "display_data"
        }
      ],
      "source": [
        "fig, ax = plt.subplots(1, 2, figsize=(16, 4))\n",
        "\n",
        "col = 'longestKill'\n",
        "sub = train[['winPlacePerc',col]].copy()\n",
        "sub[col] = pd.cut(sub[col], 6)\n",
        "sub.groupby(col).mean()['winPlacePerc'].plot.bar(ax=ax[0])\n",
        "train[col].hist(bins=20, ax=ax[1])"
      ]
    },
    {
      "cell_type": "markdown",
      "metadata": {
        "id": "FOYC0Fq-zpBD"
      },
      "source": [
        "### 피쳐간 상관관계 확인"
      ]
    },
    {
      "cell_type": "code",
      "execution_count": null,
      "metadata": {
        "id": "qTRIFZzGAnp5"
      },
      "outputs": [],
      "source": [
        "num_cols = ['assists', 'boosts', 'damageDealt', 'DBNOs',\n",
        "       'headshotKills', 'heals', 'killPlace', 'killPoints', 'kills',\n",
        "       'killStreaks', 'longestKill', 'matchDuration', 'maxPlace',\n",
        "       'numGroups', 'rankPoints', 'revives', 'rideDistance', 'roadKills',\n",
        "       'swimDistance', 'teamKills', 'vehicleDestroys', 'walkDistance',\n",
        "       'weaponsAcquired', 'winPoints', 'matchType', 'winPlacePerc']"
      ]
    },
    {
      "cell_type": "code",
      "execution_count": null,
      "metadata": {
        "colab": {
          "base_uri": "https://localhost:8080/",
          "height": 956
        },
        "id": "wgwdQObDA8De",
        "outputId": "df6a7cef-43df-412f-ff6b-18eac4785648"
      },
      "outputs": [
        {
          "data": {
            "image/png": "[encoded data removed]",
            "text/plain": [
              "<Figure size 1512x1080 with 2 Axes>"
            ]
          },
          "metadata": {
            "needs_background": "light"
          },
          "output_type": "display_data"
        }
      ],
      "source": [
        "def corr_heat(df):\n",
        "  plt.figure(figsize=(21, 15))\n",
        "\n",
        "  corr_df = df.corr()\n",
        "  # display(corr_df)\n",
        "\n",
        "  mask = np.zeros_like(corr_df)\n",
        "  mask[np.triu_indices_from(mask)] = 1\n",
        "  heat_map = sns.heatmap(corr_df, annot=True, mask=mask, cmap='coolwarm')\n",
        "  heat_map.set_xticklabels(heat_map.get_xticklabels(), fontsize=12, rotation=45)\n",
        "  heat_map.set_yticklabels(heat_map.get_yticklabels(), fontsize=12)\n",
        "  plt.title('corr between features', fontsize=15)\n",
        "  plt.show()\n",
        "\n",
        "corr_heat(train[num_cols])"
      ]
    },
    {
      "cell_type": "markdown",
      "metadata": {
        "id": "m-84kZezrHdf"
      },
      "source": [
        "# MAE"
      ]
    },
    {
      "cell_type": "code",
      "execution_count": null,
      "metadata": {
        "id": "EbmsNuZorJXl"
      },
      "outputs": [],
      "source": [
        "from sklearn.metrics import mean_absolute_error\n",
        "\n",
        "def print_score(m : RandomForestRegressor, trnx,trny,tstx,tsty):\n",
        "    res = ['mae train: ', mean_absolute_error(m.predict(trnx), trny), \n",
        "           'mae val: ', mean_absolute_error(m.predict(tstx), tsty)]\n",
        "    if hasattr(m, 'oob_score_'): res.append(m.oob_score_)\n",
        "    print(res)"
      ]
    },
    {
      "cell_type": "markdown",
      "metadata": {
        "id": "qt9m2fUti0R3"
      },
      "source": [
        "# 1. 기본적인 전처리"
      ]
    },
    {
      "cell_type": "markdown",
      "metadata": {
        "id": "-iCyo3YNnAZQ"
      },
      "source": [
        "### 결측치 확인 및 제거"
      ]
    },
    {
      "cell_type": "code",
      "execution_count": 12,
      "metadata": {
        "id": "ibP5AqusT4Tb",
        "colab": {
          "base_uri": "https://localhost:8080/",
          "height": 958
        },
        "outputId": "eb50553f-d735-42cb-a974-5b838f5f1cea"
      },
      "outputs": [
        {
          "output_type": "display_data",
          "data": {
            "text/plain": [
              "                 Missing values  % Missing\n",
              "winPlacePerc                  1   0.000022\n",
              "matchType                     0   0.000000\n",
              "winPoints                     0   0.000000\n",
              "weaponsAcquired               0   0.000000\n",
              "walkDistance                  0   0.000000\n",
              "vehicleDestroys               0   0.000000\n",
              "teamKills                     0   0.000000\n",
              "swimDistance                  0   0.000000\n",
              "roadKills                     0   0.000000\n",
              "rideDistance                  0   0.000000\n",
              "revives                       0   0.000000\n",
              "rankPoints                    0   0.000000\n",
              "numGroups                     0   0.000000\n",
              "maxPlace                      0   0.000000\n",
              "Id                            0   0.000000\n",
              "groupId                       0   0.000000\n",
              "longestKill                   0   0.000000\n",
              "killStreaks                   0   0.000000\n",
              "kills                         0   0.000000\n",
              "killPoints                    0   0.000000\n",
              "killPlace                     0   0.000000\n",
              "heals                         0   0.000000\n",
              "headshotKills                 0   0.000000\n",
              "DBNOs                         0   0.000000\n",
              "damageDealt                   0   0.000000\n",
              "boosts                        0   0.000000\n",
              "assists                       0   0.000000\n",
              "matchId                       0   0.000000\n",
              "matchDuration                 0   0.000000"
            ],
            "text/html": [
              "\n",
              "  <div id=\"df-69445a99-0f83-46d3-8f95-5d0d1c0f32d7\">\n",
              "    <div class=\"colab-df-container\">\n",
              "      <div>\n",
              "<style scoped>\n",
              "    .dataframe tbody tr th:only-of-type {\n",
              "        vertical-align: middle;\n",
              "    }\n",
              "\n",
              "    .dataframe tbody tr th {\n",
              "        vertical-align: top;\n",
              "    }\n",
              "\n",
              "    .dataframe thead th {\n",
              "        text-align: right;\n",
              "    }\n",
              "</style>\n",
              "<table border=\"1\" class=\"dataframe\">\n",
              "  <thead>\n",
              "    <tr style=\"text-align: right;\">\n",
              "      <th></th>\n",
              "      <th>Missing values</th>\n",
              "      <th>% Missing</th>\n",
              "    </tr>\n",
              "  </thead>\n",
              "  <tbody>\n",
              "    <tr>\n",
              "      <th>winPlacePerc</th>\n",
              "      <td>1</td>\n",
              "      <td>0.000022</td>\n",
              "    </tr>\n",
              "    <tr>\n",
              "      <th>matchType</th>\n",
              "      <td>0</td>\n",
              "      <td>0.000000</td>\n",
              "    </tr>\n",
              "    <tr>\n",
              "      <th>winPoints</th>\n",
              "      <td>0</td>\n",
              "      <td>0.000000</td>\n",
              "    </tr>\n",
              "    <tr>\n",
              "      <th>weaponsAcquired</th>\n",
              "      <td>0</td>\n",
              "      <td>0.000000</td>\n",
              "    </tr>\n",
              "    <tr>\n",
              "      <th>walkDistance</th>\n",
              "      <td>0</td>\n",
              "      <td>0.000000</td>\n",
              "    </tr>\n",
              "    <tr>\n",
              "      <th>vehicleDestroys</th>\n",
              "      <td>0</td>\n",
              "      <td>0.000000</td>\n",
              "    </tr>\n",
              "    <tr>\n",
              "      <th>teamKills</th>\n",
              "      <td>0</td>\n",
              "      <td>0.000000</td>\n",
              "    </tr>\n",
              "    <tr>\n",
              "      <th>swimDistance</th>\n",
              "      <td>0</td>\n",
              "      <td>0.000000</td>\n",
              "    </tr>\n",
              "    <tr>\n",
              "      <th>roadKills</th>\n",
              "      <td>0</td>\n",
              "      <td>0.000000</td>\n",
              "    </tr>\n",
              "    <tr>\n",
              "      <th>rideDistance</th>\n",
              "      <td>0</td>\n",
              "      <td>0.000000</td>\n",
              "    </tr>\n",
              "    <tr>\n",
              "      <th>revives</th>\n",
              "      <td>0</td>\n",
              "      <td>0.000000</td>\n",
              "    </tr>\n",
              "    <tr>\n",
              "      <th>rankPoints</th>\n",
              "      <td>0</td>\n",
              "      <td>0.000000</td>\n",
              "    </tr>\n",
              "    <tr>\n",
              "      <th>numGroups</th>\n",
              "      <td>0</td>\n",
              "      <td>0.000000</td>\n",
              "    </tr>\n",
              "    <tr>\n",
              "      <th>maxPlace</th>\n",
              "      <td>0</td>\n",
              "      <td>0.000000</td>\n",
              "    </tr>\n",
              "    <tr>\n",
              "      <th>Id</th>\n",
              "      <td>0</td>\n",
              "      <td>0.000000</td>\n",
              "    </tr>\n",
              "    <tr>\n",
              "      <th>groupId</th>\n",
              "      <td>0</td>\n",
              "      <td>0.000000</td>\n",
              "    </tr>\n",
              "    <tr>\n",
              "      <th>longestKill</th>\n",
              "      <td>0</td>\n",
              "      <td>0.000000</td>\n",
              "    </tr>\n",
              "    <tr>\n",
              "      <th>killStreaks</th>\n",
              "      <td>0</td>\n",
              "      <td>0.000000</td>\n",
              "    </tr>\n",
              "    <tr>\n",
              "      <th>kills</th>\n",
              "      <td>0</td>\n",
              "      <td>0.000000</td>\n",
              "    </tr>\n",
              "    <tr>\n",
              "      <th>killPoints</th>\n",
              "      <td>0</td>\n",
              "      <td>0.000000</td>\n",
              "    </tr>\n",
              "    <tr>\n",
              "      <th>killPlace</th>\n",
              "      <td>0</td>\n",
              "      <td>0.000000</td>\n",
              "    </tr>\n",
              "    <tr>\n",
              "      <th>heals</th>\n",
              "      <td>0</td>\n",
              "      <td>0.000000</td>\n",
              "    </tr>\n",
              "    <tr>\n",
              "      <th>headshotKills</th>\n",
              "      <td>0</td>\n",
              "      <td>0.000000</td>\n",
              "    </tr>\n",
              "    <tr>\n",
              "      <th>DBNOs</th>\n",
              "      <td>0</td>\n",
              "      <td>0.000000</td>\n",
              "    </tr>\n",
              "    <tr>\n",
              "      <th>damageDealt</th>\n",
              "      <td>0</td>\n",
              "      <td>0.000000</td>\n",
              "    </tr>\n",
              "    <tr>\n",
              "      <th>boosts</th>\n",
              "      <td>0</td>\n",
              "      <td>0.000000</td>\n",
              "    </tr>\n",
              "    <tr>\n",
              "      <th>assists</th>\n",
              "      <td>0</td>\n",
              "      <td>0.000000</td>\n",
              "    </tr>\n",
              "    <tr>\n",
              "      <th>matchId</th>\n",
              "      <td>0</td>\n",
              "      <td>0.000000</td>\n",
              "    </tr>\n",
              "    <tr>\n",
              "      <th>matchDuration</th>\n",
              "      <td>0</td>\n",
              "      <td>0.000000</td>\n",
              "    </tr>\n",
              "  </tbody>\n",
              "</table>\n",
              "</div>\n",
              "      <button class=\"colab-df-convert\" onclick=\"convertToInteractive('df-69445a99-0f83-46d3-8f95-5d0d1c0f32d7')\"\n",
              "              title=\"Convert this dataframe to an interactive table.\"\n",
              "              style=\"display:none;\">\n",
              "        \n",
              "  <svg xmlns=\"http://www.w3.org/2000/svg\" height=\"24px\"viewBox=\"0 0 24 24\"\n",
              "       width=\"24px\">\n",
              "    <path d=\"M0 0h24v24H0V0z\" fill=\"none\"/>\n",
              "    <path d=\"M18.56 5.44l.94 2.06.94-2.06 2.06-.94-2.06-.94-.94-2.06-.94 2.06-2.06.94zm-11 1L8.5 8.5l.94-2.06 2.06-.94-2.06-.94L8.5 2.5l-.94 2.06-2.06.94zm10 10l.94 2.06.94-2.06 2.06-.94-2.06-.94-.94-2.06-.94 2.06-2.06.94z\"/><path d=\"M17.41 7.96l-1.37-1.37c-.4-.4-.92-.59-1.43-.59-.52 0-1.04.2-1.43.59L10.3 9.45l-7.72 7.72c-.78.78-.78 2.05 0 2.83L4 21.41c.39.39.9.59 1.41.59.51 0 1.02-.2 1.41-.59l7.78-7.78 2.81-2.81c.8-.78.8-2.07 0-2.86zM5.41 20L4 18.59l7.72-7.72 1.47 1.35L5.41 20z\"/>\n",
              "  </svg>\n",
              "      </button>\n",
              "      \n",
              "  <style>\n",
              "    .colab-df-container {\n",
              "      display:flex;\n",
              "      flex-wrap:wrap;\n",
              "      gap: 12px;\n",
              "    }\n",
              "\n",
              "    .colab-df-convert {\n",
              "      background-color: #E8F0FE;\n",
              "      border: none;\n",
              "      border-radius: 50%;\n",
              "      cursor: pointer;\n",
              "      display: none;\n",
              "      fill: #1967D2;\n",
              "      height: 32px;\n",
              "      padding: 0 0 0 0;\n",
              "      width: 32px;\n",
              "    }\n",
              "\n",
              "    .colab-df-convert:hover {\n",
              "      background-color: #E2EBFA;\n",
              "      box-shadow: 0px 1px 2px rgba(60, 64, 67, 0.3), 0px 1px 3px 1px rgba(60, 64, 67, 0.15);\n",
              "      fill: #174EA6;\n",
              "    }\n",
              "\n",
              "    [theme=dark] .colab-df-convert {\n",
              "      background-color: #3B4455;\n",
              "      fill: #D2E3FC;\n",
              "    }\n",
              "\n",
              "    [theme=dark] .colab-df-convert:hover {\n",
              "      background-color: #434B5C;\n",
              "      box-shadow: 0px 1px 3px 1px rgba(0, 0, 0, 0.15);\n",
              "      filter: drop-shadow(0px 1px 2px rgba(0, 0, 0, 0.3));\n",
              "      fill: #FFFFFF;\n",
              "    }\n",
              "  </style>\n",
              "\n",
              "      <script>\n",
              "        const buttonEl =\n",
              "          document.querySelector('#df-69445a99-0f83-46d3-8f95-5d0d1c0f32d7 button.colab-df-convert');\n",
              "        buttonEl.style.display =\n",
              "          google.colab.kernel.accessAllowed ? 'block' : 'none';\n",
              "\n",
              "        async function convertToInteractive(key) {\n",
              "          const element = document.querySelector('#df-69445a99-0f83-46d3-8f95-5d0d1c0f32d7');\n",
              "          const dataTable =\n",
              "            await google.colab.kernel.invokeFunction('convertToInteractive',\n",
              "                                                     [key], {});\n",
              "          if (!dataTable) return;\n",
              "\n",
              "          const docLinkHtml = 'Like what you see? Visit the ' +\n",
              "            '<a target=\"_blank\" href=https://colab.research.google.com/notebooks/data_table.ipynb>data table notebook</a>'\n",
              "            + ' to learn more about interactive tables.';\n",
              "          element.innerHTML = '';\n",
              "          dataTable['output_type'] = 'display_data';\n",
              "          await google.colab.output.renderOutput(dataTable, element);\n",
              "          const docLink = document.createElement('div');\n",
              "          docLink.innerHTML = docLinkHtml;\n",
              "          element.appendChild(docLink);\n",
              "        }\n",
              "      </script>\n",
              "    </div>\n",
              "  </div>\n",
              "  "
            ]
          },
          "metadata": {}
        }
      ],
      "source": [
        "def check_missing_value(df):\n",
        "  missing_values = df.isnull().sum().sort_values(ascending=False)\n",
        "  missing_percentage = (missing_values / len(df)) * 100\n",
        "  result = pd.concat([missing_values, missing_percentage], axis=1, keys=['Missing values', '% Missing'])\n",
        "  display(result)\n",
        "check_missing_value(train)"
      ]
    },
    {
      "cell_type": "code",
      "execution_count": 13,
      "metadata": {
        "id": "m2bm2dEtUHgW"
      },
      "outputs": [],
      "source": [
        "train.dropna(inplace=True)"
      ]
    },
    {
      "cell_type": "markdown",
      "metadata": {
        "id": "ofEwJc4GnE16"
      },
      "source": [
        "### 카테고리 변수 인코딩"
      ]
    },
    {
      "cell_type": "code",
      "execution_count": 14,
      "metadata": {
        "id": "5BJaO9atgGEh"
      },
      "outputs": [],
      "source": [
        "label_encoder = LabelEncoder()"
      ]
    },
    {
      "cell_type": "code",
      "execution_count": 15,
      "metadata": {
        "id": "QH6n_K1-gHPK"
      },
      "outputs": [],
      "source": [
        "train['matchType'] = label_encoder.fit_transform(train['matchType'])\n",
        "train['groupId'] = label_encoder.fit_transform(train['groupId'])\n",
        "train['matchId'] = label_encoder.fit_transform(train['matchId'])"
      ]
    },
    {
      "cell_type": "code",
      "execution_count": 16,
      "metadata": {
        "id": "C-1Jfm8MdqgP"
      },
      "outputs": [],
      "source": [
        "# index와 똑같은 \n",
        "train1 = train.drop(columns = ['Id'])"
      ]
    },
    {
      "cell_type": "markdown",
      "metadata": {
        "id": "YpamC3exi81N"
      },
      "source": [
        "### 검증 데이터 준비"
      ]
    },
    {
      "cell_type": "code",
      "execution_count": 17,
      "metadata": {
        "id": "fPtidf6ui81N"
      },
      "outputs": [],
      "source": [
        "X = train1.drop(['winPlacePerc','damageDealt', 'maxPlace', 'matchDuration', 'kills'], axis=1)\n",
        "y = train1['winPlacePerc']"
      ]
    },
    {
      "cell_type": "code",
      "execution_count": 18,
      "metadata": {
        "canvas": {
          "comments": [],
          "componentType": "CodeCell",
          "copiedOriginId": null,
          "headerColor": "none",
          "id": "9a3245b3-83be-4651-b89f-9e1aa8333c5b",
          "isComponent": false,
          "name": "",
          "parents": []
        },
        "id": "RofZTiHTi81O"
      },
      "outputs": [],
      "source": [
        "trnx, tstx, trny, tsty = train_test_split(X, y, test_size=.3, random_state=634)"
      ]
    },
    {
      "cell_type": "markdown",
      "source": [
        "###Multi Layer Perceptron"
      ],
      "metadata": {
        "id": "zvVLJLSbD2Ju"
      }
    },
    {
      "cell_type": "code",
      "source": [
        "from tensorflow.keras import layers, models, optimizers\n",
        "from keras.models import Sequential\n",
        "\n",
        "model = Sequential([\n",
        "    layers.Dense(128, activation='relu', input_shape=(trnx.shape[1],)),\n",
        "    layers.Dense(256, activation='relu'),\n",
        "    layers.Dense(128, activation='relu'),\n",
        "    layers.Dense(64, activation='relu'),\n",
        "    layers.Dense(1)])\n",
        "model.summary()\n"
      ],
      "metadata": {
        "colab": {
          "base_uri": "https://localhost:8080/"
        },
        "id": "CkPBN9R_D-Ql",
        "outputId": "728fa6eb-4286-45f3-e7d0-9b04cc676f40"
      },
      "execution_count": 32,
      "outputs": [
        {
          "output_type": "stream",
          "name": "stdout",
          "text": [
            "Model: \"sequential_5\"\n",
            "_________________________________________________________________\n",
            " Layer (type)                Output Shape              Param #   \n",
            "=================================================================\n",
            " dense_25 (Dense)            (None, 128)               3072      \n",
            "                                                                 \n",
            " dense_26 (Dense)            (None, 256)               33024     \n",
            "                                                                 \n",
            " dense_27 (Dense)            (None, 128)               32896     \n",
            "                                                                 \n",
            " dense_28 (Dense)            (None, 64)                8256      \n",
            "                                                                 \n",
            " dense_29 (Dense)            (None, 1)                 65        \n",
            "                                                                 \n",
            "=================================================================\n",
            "Total params: 77,313\n",
            "Trainable params: 77,313\n",
            "Non-trainable params: 0\n",
            "_________________________________________________________________\n"
          ]
        }
      ]
    },
    {
      "cell_type": "code",
      "source": [
        "model.compile(loss='mae', optimizer=\"Adam\", metrics=['mae'])\n",
        "history = model.fit(trnx, trny, batch_size=3000,  epochs=100, validation_data = [tstx,tsty])"
      ],
      "metadata": {
        "colab": {
          "base_uri": "https://localhost:8080/",
          "height": 678
        },
        "id": "y2cg7Sv4El7O",
        "outputId": "33ed01ec-1b92-41d5-b931-ebf7371580c2"
      },
      "execution_count": 33,
      "outputs": [
        {
          "output_type": "stream",
          "name": "stdout",
          "text": [
            "Epoch 1/100\n",
            "1038/1038 [==============================] - 47s 45ms/step - loss: 932.8473 - mae: 932.8473 - val_loss: 242.5538 - val_mae: 242.5538\n",
            "Epoch 2/100\n",
            "1038/1038 [==============================] - 42s 41ms/step - loss: 78.8563 - mae: 78.8563 - val_loss: 0.3364 - val_mae: 0.3364\n",
            "Epoch 3/100\n",
            "1038/1038 [==============================] - 43s 41ms/step - loss: 0.3017 - mae: 0.3017 - val_loss: 0.2880 - val_mae: 0.2880\n",
            "Epoch 4/100\n",
            "1038/1038 [==============================] - 43s 41ms/step - loss: 0.2929 - mae: 0.2929 - val_loss: 0.2894 - val_mae: 0.2894\n",
            "Epoch 5/100\n",
            "1038/1038 [==============================] - 43s 41ms/step - loss: 0.2909 - mae: 0.2909 - val_loss: 0.2880 - val_mae: 0.2880\n",
            "Epoch 6/100\n",
            "1038/1038 [==============================] - 45s 43ms/step - loss: 0.2855 - mae: 0.2855 - val_loss: 0.2830 - val_mae: 0.2830\n",
            "Epoch 7/100\n",
            "1038/1038 [==============================] - 43s 41ms/step - loss: 0.2823 - mae: 0.2823 - val_loss: 0.2762 - val_mae: 0.2762\n",
            "Epoch 8/100\n",
            "1038/1038 [==============================] - 43s 41ms/step - loss: 0.2787 - mae: 0.2787 - val_loss: 0.2805 - val_mae: 0.2805\n",
            "Epoch 9/100\n",
            "1037/1038 [============================>.] - ETA: 0s - loss: 0.2738 - mae: 0.2738"
          ]
        },
        {
          "output_type": "error",
          "ename": "KeyboardInterrupt",
          "evalue": "ignored",
          "traceback": [
            "\u001b[0;31m---------------------------------------------------------------------------\u001b[0m",
            "\u001b[0;31mKeyboardInterrupt\u001b[0m                         Traceback (most recent call last)",
            "\u001b[0;32m<ipython-input-33-6704ad5aa548>\u001b[0m in \u001b[0;36m<module>\u001b[0;34m()\u001b[0m\n\u001b[1;32m      1\u001b[0m \u001b[0mmodel\u001b[0m\u001b[0;34m.\u001b[0m\u001b[0mcompile\u001b[0m\u001b[0;34m(\u001b[0m\u001b[0mloss\u001b[0m\u001b[0;34m=\u001b[0m\u001b[0;34m'mae'\u001b[0m\u001b[0;34m,\u001b[0m \u001b[0moptimizer\u001b[0m\u001b[0;34m=\u001b[0m\u001b[0;34m\"Adam\"\u001b[0m\u001b[0;34m,\u001b[0m \u001b[0mmetrics\u001b[0m\u001b[0;34m=\u001b[0m\u001b[0;34m[\u001b[0m\u001b[0;34m'mae'\u001b[0m\u001b[0;34m]\u001b[0m\u001b[0;34m)\u001b[0m\u001b[0;34m\u001b[0m\u001b[0;34m\u001b[0m\u001b[0m\n\u001b[0;32m----> 2\u001b[0;31m \u001b[0mhistory\u001b[0m \u001b[0;34m=\u001b[0m \u001b[0mmodel\u001b[0m\u001b[0;34m.\u001b[0m\u001b[0mfit\u001b[0m\u001b[0;34m(\u001b[0m\u001b[0mtrnx\u001b[0m\u001b[0;34m,\u001b[0m \u001b[0mtrny\u001b[0m\u001b[0;34m,\u001b[0m \u001b[0mbatch_size\u001b[0m\u001b[0;34m=\u001b[0m\u001b[0;36m3000\u001b[0m\u001b[0;34m,\u001b[0m  \u001b[0mepochs\u001b[0m\u001b[0;34m=\u001b[0m\u001b[0;36m100\u001b[0m\u001b[0;34m,\u001b[0m \u001b[0mvalidation_data\u001b[0m \u001b[0;34m=\u001b[0m \u001b[0;34m[\u001b[0m\u001b[0mtstx\u001b[0m\u001b[0;34m,\u001b[0m\u001b[0mtsty\u001b[0m\u001b[0;34m]\u001b[0m\u001b[0;34m)\u001b[0m\u001b[0;34m\u001b[0m\u001b[0;34m\u001b[0m\u001b[0m\n\u001b[0m",
            "\u001b[0;32m/usr/local/lib/python3.7/dist-packages/keras/utils/traceback_utils.py\u001b[0m in \u001b[0;36merror_handler\u001b[0;34m(*args, **kwargs)\u001b[0m\n\u001b[1;32m     62\u001b[0m     \u001b[0mfiltered_tb\u001b[0m \u001b[0;34m=\u001b[0m \u001b[0;32mNone\u001b[0m\u001b[0;34m\u001b[0m\u001b[0;34m\u001b[0m\u001b[0m\n\u001b[1;32m     63\u001b[0m     \u001b[0;32mtry\u001b[0m\u001b[0;34m:\u001b[0m\u001b[0;34m\u001b[0m\u001b[0;34m\u001b[0m\u001b[0m\n\u001b[0;32m---> 64\u001b[0;31m       \u001b[0;32mreturn\u001b[0m \u001b[0mfn\u001b[0m\u001b[0;34m(\u001b[0m\u001b[0;34m*\u001b[0m\u001b[0margs\u001b[0m\u001b[0;34m,\u001b[0m \u001b[0;34m**\u001b[0m\u001b[0mkwargs\u001b[0m\u001b[0;34m)\u001b[0m\u001b[0;34m\u001b[0m\u001b[0;34m\u001b[0m\u001b[0m\n\u001b[0m\u001b[1;32m     65\u001b[0m     \u001b[0;32mexcept\u001b[0m \u001b[0mException\u001b[0m \u001b[0;32mas\u001b[0m \u001b[0me\u001b[0m\u001b[0;34m:\u001b[0m  \u001b[0;31m# pylint: disable=broad-except\u001b[0m\u001b[0;34m\u001b[0m\u001b[0;34m\u001b[0m\u001b[0m\n\u001b[1;32m     66\u001b[0m       \u001b[0mfiltered_tb\u001b[0m \u001b[0;34m=\u001b[0m \u001b[0m_process_traceback_frames\u001b[0m\u001b[0;34m(\u001b[0m\u001b[0me\u001b[0m\u001b[0;34m.\u001b[0m\u001b[0m__traceback__\u001b[0m\u001b[0;34m)\u001b[0m\u001b[0;34m\u001b[0m\u001b[0;34m\u001b[0m\u001b[0m\n",
            "\u001b[0;32m/usr/local/lib/python3.7/dist-packages/keras/engine/training.py\u001b[0m in \u001b[0;36mfit\u001b[0;34m(self, x, y, batch_size, epochs, verbose, callbacks, validation_split, validation_data, shuffle, class_weight, sample_weight, initial_epoch, steps_per_epoch, validation_steps, validation_batch_size, validation_freq, max_queue_size, workers, use_multiprocessing)\u001b[0m\n\u001b[1;32m   1429\u001b[0m               \u001b[0muse_multiprocessing\u001b[0m\u001b[0;34m=\u001b[0m\u001b[0muse_multiprocessing\u001b[0m\u001b[0;34m,\u001b[0m\u001b[0;34m\u001b[0m\u001b[0;34m\u001b[0m\u001b[0m\n\u001b[1;32m   1430\u001b[0m               \u001b[0mreturn_dict\u001b[0m\u001b[0;34m=\u001b[0m\u001b[0;32mTrue\u001b[0m\u001b[0;34m,\u001b[0m\u001b[0;34m\u001b[0m\u001b[0;34m\u001b[0m\u001b[0m\n\u001b[0;32m-> 1431\u001b[0;31m               _use_cached_eval_dataset=True)\n\u001b[0m\u001b[1;32m   1432\u001b[0m           \u001b[0mval_logs\u001b[0m \u001b[0;34m=\u001b[0m \u001b[0;34m{\u001b[0m\u001b[0;34m'val_'\u001b[0m \u001b[0;34m+\u001b[0m \u001b[0mname\u001b[0m\u001b[0;34m:\u001b[0m \u001b[0mval\u001b[0m \u001b[0;32mfor\u001b[0m \u001b[0mname\u001b[0m\u001b[0;34m,\u001b[0m \u001b[0mval\u001b[0m \u001b[0;32min\u001b[0m \u001b[0mval_logs\u001b[0m\u001b[0;34m.\u001b[0m\u001b[0mitems\u001b[0m\u001b[0;34m(\u001b[0m\u001b[0;34m)\u001b[0m\u001b[0;34m}\u001b[0m\u001b[0;34m\u001b[0m\u001b[0;34m\u001b[0m\u001b[0m\n\u001b[1;32m   1433\u001b[0m           \u001b[0mepoch_logs\u001b[0m\u001b[0;34m.\u001b[0m\u001b[0mupdate\u001b[0m\u001b[0;34m(\u001b[0m\u001b[0mval_logs\u001b[0m\u001b[0;34m)\u001b[0m\u001b[0;34m\u001b[0m\u001b[0;34m\u001b[0m\u001b[0m\n",
            "\u001b[0;32m/usr/local/lib/python3.7/dist-packages/keras/utils/traceback_utils.py\u001b[0m in \u001b[0;36merror_handler\u001b[0;34m(*args, **kwargs)\u001b[0m\n\u001b[1;32m     62\u001b[0m     \u001b[0mfiltered_tb\u001b[0m \u001b[0;34m=\u001b[0m \u001b[0;32mNone\u001b[0m\u001b[0;34m\u001b[0m\u001b[0;34m\u001b[0m\u001b[0m\n\u001b[1;32m     63\u001b[0m     \u001b[0;32mtry\u001b[0m\u001b[0;34m:\u001b[0m\u001b[0;34m\u001b[0m\u001b[0;34m\u001b[0m\u001b[0m\n\u001b[0;32m---> 64\u001b[0;31m       \u001b[0;32mreturn\u001b[0m \u001b[0mfn\u001b[0m\u001b[0;34m(\u001b[0m\u001b[0;34m*\u001b[0m\u001b[0margs\u001b[0m\u001b[0;34m,\u001b[0m \u001b[0;34m**\u001b[0m\u001b[0mkwargs\u001b[0m\u001b[0;34m)\u001b[0m\u001b[0;34m\u001b[0m\u001b[0;34m\u001b[0m\u001b[0m\n\u001b[0m\u001b[1;32m     65\u001b[0m     \u001b[0;32mexcept\u001b[0m \u001b[0mException\u001b[0m \u001b[0;32mas\u001b[0m \u001b[0me\u001b[0m\u001b[0;34m:\u001b[0m  \u001b[0;31m# pylint: disable=broad-except\u001b[0m\u001b[0;34m\u001b[0m\u001b[0;34m\u001b[0m\u001b[0m\n\u001b[1;32m     66\u001b[0m       \u001b[0mfiltered_tb\u001b[0m \u001b[0;34m=\u001b[0m \u001b[0m_process_traceback_frames\u001b[0m\u001b[0;34m(\u001b[0m\u001b[0me\u001b[0m\u001b[0;34m.\u001b[0m\u001b[0m__traceback__\u001b[0m\u001b[0;34m)\u001b[0m\u001b[0;34m\u001b[0m\u001b[0;34m\u001b[0m\u001b[0m\n",
            "\u001b[0;32m/usr/local/lib/python3.7/dist-packages/keras/engine/training.py\u001b[0m in \u001b[0;36mevaluate\u001b[0;34m(self, x, y, batch_size, verbose, sample_weight, steps, callbacks, max_queue_size, workers, use_multiprocessing, return_dict, **kwargs)\u001b[0m\n\u001b[1;32m   1714\u001b[0m             \u001b[0;32mwith\u001b[0m \u001b[0mtf\u001b[0m\u001b[0;34m.\u001b[0m\u001b[0mprofiler\u001b[0m\u001b[0;34m.\u001b[0m\u001b[0mexperimental\u001b[0m\u001b[0;34m.\u001b[0m\u001b[0mTrace\u001b[0m\u001b[0;34m(\u001b[0m\u001b[0;34m'test'\u001b[0m\u001b[0;34m,\u001b[0m \u001b[0mstep_num\u001b[0m\u001b[0;34m=\u001b[0m\u001b[0mstep\u001b[0m\u001b[0;34m,\u001b[0m \u001b[0m_r\u001b[0m\u001b[0;34m=\u001b[0m\u001b[0;36m1\u001b[0m\u001b[0;34m)\u001b[0m\u001b[0;34m:\u001b[0m\u001b[0;34m\u001b[0m\u001b[0;34m\u001b[0m\u001b[0m\n\u001b[1;32m   1715\u001b[0m               \u001b[0mcallbacks\u001b[0m\u001b[0;34m.\u001b[0m\u001b[0mon_test_batch_begin\u001b[0m\u001b[0;34m(\u001b[0m\u001b[0mstep\u001b[0m\u001b[0;34m)\u001b[0m\u001b[0;34m\u001b[0m\u001b[0;34m\u001b[0m\u001b[0m\n\u001b[0;32m-> 1716\u001b[0;31m               \u001b[0mtmp_logs\u001b[0m \u001b[0;34m=\u001b[0m \u001b[0mself\u001b[0m\u001b[0;34m.\u001b[0m\u001b[0mtest_function\u001b[0m\u001b[0;34m(\u001b[0m\u001b[0miterator\u001b[0m\u001b[0;34m)\u001b[0m\u001b[0;34m\u001b[0m\u001b[0;34m\u001b[0m\u001b[0m\n\u001b[0m\u001b[1;32m   1717\u001b[0m               \u001b[0;32mif\u001b[0m \u001b[0mdata_handler\u001b[0m\u001b[0;34m.\u001b[0m\u001b[0mshould_sync\u001b[0m\u001b[0;34m:\u001b[0m\u001b[0;34m\u001b[0m\u001b[0;34m\u001b[0m\u001b[0m\n\u001b[1;32m   1718\u001b[0m                 \u001b[0mcontext\u001b[0m\u001b[0;34m.\u001b[0m\u001b[0masync_wait\u001b[0m\u001b[0;34m(\u001b[0m\u001b[0;34m)\u001b[0m\u001b[0;34m\u001b[0m\u001b[0;34m\u001b[0m\u001b[0m\n",
            "\u001b[0;32m/usr/local/lib/python3.7/dist-packages/tensorflow/python/util/traceback_utils.py\u001b[0m in \u001b[0;36merror_handler\u001b[0;34m(*args, **kwargs)\u001b[0m\n\u001b[1;32m    148\u001b[0m     \u001b[0mfiltered_tb\u001b[0m \u001b[0;34m=\u001b[0m \u001b[0;32mNone\u001b[0m\u001b[0;34m\u001b[0m\u001b[0;34m\u001b[0m\u001b[0m\n\u001b[1;32m    149\u001b[0m     \u001b[0;32mtry\u001b[0m\u001b[0;34m:\u001b[0m\u001b[0;34m\u001b[0m\u001b[0;34m\u001b[0m\u001b[0m\n\u001b[0;32m--> 150\u001b[0;31m       \u001b[0;32mreturn\u001b[0m \u001b[0mfn\u001b[0m\u001b[0;34m(\u001b[0m\u001b[0;34m*\u001b[0m\u001b[0margs\u001b[0m\u001b[0;34m,\u001b[0m \u001b[0;34m**\u001b[0m\u001b[0mkwargs\u001b[0m\u001b[0;34m)\u001b[0m\u001b[0;34m\u001b[0m\u001b[0;34m\u001b[0m\u001b[0m\n\u001b[0m\u001b[1;32m    151\u001b[0m     \u001b[0;32mexcept\u001b[0m \u001b[0mException\u001b[0m \u001b[0;32mas\u001b[0m \u001b[0me\u001b[0m\u001b[0;34m:\u001b[0m\u001b[0;34m\u001b[0m\u001b[0;34m\u001b[0m\u001b[0m\n\u001b[1;32m    152\u001b[0m       \u001b[0mfiltered_tb\u001b[0m \u001b[0;34m=\u001b[0m \u001b[0m_process_traceback_frames\u001b[0m\u001b[0;34m(\u001b[0m\u001b[0me\u001b[0m\u001b[0;34m.\u001b[0m\u001b[0m__traceback__\u001b[0m\u001b[0;34m)\u001b[0m\u001b[0;34m\u001b[0m\u001b[0;34m\u001b[0m\u001b[0m\n",
            "\u001b[0;32m/usr/local/lib/python3.7/dist-packages/tensorflow/python/eager/def_function.py\u001b[0m in \u001b[0;36m__call__\u001b[0;34m(self, *args, **kwds)\u001b[0m\n\u001b[1;32m    913\u001b[0m \u001b[0;34m\u001b[0m\u001b[0m\n\u001b[1;32m    914\u001b[0m       \u001b[0;32mwith\u001b[0m \u001b[0mOptionalXlaContext\u001b[0m\u001b[0;34m(\u001b[0m\u001b[0mself\u001b[0m\u001b[0;34m.\u001b[0m\u001b[0m_jit_compile\u001b[0m\u001b[0;34m)\u001b[0m\u001b[0;34m:\u001b[0m\u001b[0;34m\u001b[0m\u001b[0;34m\u001b[0m\u001b[0m\n\u001b[0;32m--> 915\u001b[0;31m         \u001b[0mresult\u001b[0m \u001b[0;34m=\u001b[0m \u001b[0mself\u001b[0m\u001b[0;34m.\u001b[0m\u001b[0m_call\u001b[0m\u001b[0;34m(\u001b[0m\u001b[0;34m*\u001b[0m\u001b[0margs\u001b[0m\u001b[0;34m,\u001b[0m \u001b[0;34m**\u001b[0m\u001b[0mkwds\u001b[0m\u001b[0;34m)\u001b[0m\u001b[0;34m\u001b[0m\u001b[0;34m\u001b[0m\u001b[0m\n\u001b[0m\u001b[1;32m    916\u001b[0m \u001b[0;34m\u001b[0m\u001b[0m\n\u001b[1;32m    917\u001b[0m       \u001b[0mnew_tracing_count\u001b[0m \u001b[0;34m=\u001b[0m \u001b[0mself\u001b[0m\u001b[0;34m.\u001b[0m\u001b[0mexperimental_get_tracing_count\u001b[0m\u001b[0;34m(\u001b[0m\u001b[0;34m)\u001b[0m\u001b[0;34m\u001b[0m\u001b[0;34m\u001b[0m\u001b[0m\n",
            "\u001b[0;32m/usr/local/lib/python3.7/dist-packages/tensorflow/python/eager/def_function.py\u001b[0m in \u001b[0;36m_call\u001b[0;34m(self, *args, **kwds)\u001b[0m\n\u001b[1;32m    952\u001b[0m       \u001b[0;31m# In this case we have not created variables on the first call. So we can\u001b[0m\u001b[0;34m\u001b[0m\u001b[0;34m\u001b[0m\u001b[0;34m\u001b[0m\u001b[0m\n\u001b[1;32m    953\u001b[0m       \u001b[0;31m# run the first trace but we should fail if variables are created.\u001b[0m\u001b[0;34m\u001b[0m\u001b[0;34m\u001b[0m\u001b[0;34m\u001b[0m\u001b[0m\n\u001b[0;32m--> 954\u001b[0;31m       \u001b[0mresults\u001b[0m \u001b[0;34m=\u001b[0m \u001b[0mself\u001b[0m\u001b[0;34m.\u001b[0m\u001b[0m_stateful_fn\u001b[0m\u001b[0;34m(\u001b[0m\u001b[0;34m*\u001b[0m\u001b[0margs\u001b[0m\u001b[0;34m,\u001b[0m \u001b[0;34m**\u001b[0m\u001b[0mkwds\u001b[0m\u001b[0;34m)\u001b[0m\u001b[0;34m\u001b[0m\u001b[0;34m\u001b[0m\u001b[0m\n\u001b[0m\u001b[1;32m    955\u001b[0m       \u001b[0;32mif\u001b[0m \u001b[0mself\u001b[0m\u001b[0;34m.\u001b[0m\u001b[0m_created_variables\u001b[0m \u001b[0;32mand\u001b[0m \u001b[0;32mnot\u001b[0m \u001b[0mALLOW_DYNAMIC_VARIABLE_CREATION\u001b[0m\u001b[0;34m:\u001b[0m\u001b[0;34m\u001b[0m\u001b[0;34m\u001b[0m\u001b[0m\n\u001b[1;32m    956\u001b[0m         raise ValueError(\"Creating variables on a non-first call to a function\"\n",
            "\u001b[0;32m/usr/local/lib/python3.7/dist-packages/tensorflow/python/eager/function.py\u001b[0m in \u001b[0;36m__call__\u001b[0;34m(self, *args, **kwargs)\u001b[0m\n\u001b[1;32m   2955\u001b[0m        filtered_flat_args) = self._maybe_define_function(args, kwargs)\n\u001b[1;32m   2956\u001b[0m     return graph_function._call_flat(\n\u001b[0;32m-> 2957\u001b[0;31m         filtered_flat_args, captured_inputs=graph_function.captured_inputs)  # pylint: disable=protected-access\n\u001b[0m\u001b[1;32m   2958\u001b[0m \u001b[0;34m\u001b[0m\u001b[0m\n\u001b[1;32m   2959\u001b[0m   \u001b[0;34m@\u001b[0m\u001b[0mproperty\u001b[0m\u001b[0;34m\u001b[0m\u001b[0;34m\u001b[0m\u001b[0m\n",
            "\u001b[0;32m/usr/local/lib/python3.7/dist-packages/tensorflow/python/eager/function.py\u001b[0m in \u001b[0;36m_call_flat\u001b[0;34m(self, args, captured_inputs, cancellation_manager)\u001b[0m\n\u001b[1;32m   1852\u001b[0m       \u001b[0;31m# No tape is watching; skip to running the function.\u001b[0m\u001b[0;34m\u001b[0m\u001b[0;34m\u001b[0m\u001b[0;34m\u001b[0m\u001b[0m\n\u001b[1;32m   1853\u001b[0m       return self._build_call_outputs(self._inference_function.call(\n\u001b[0;32m-> 1854\u001b[0;31m           ctx, args, cancellation_manager=cancellation_manager))\n\u001b[0m\u001b[1;32m   1855\u001b[0m     forward_backward = self._select_forward_and_backward_functions(\n\u001b[1;32m   1856\u001b[0m         \u001b[0margs\u001b[0m\u001b[0;34m,\u001b[0m\u001b[0;34m\u001b[0m\u001b[0;34m\u001b[0m\u001b[0m\n",
            "\u001b[0;32m/usr/local/lib/python3.7/dist-packages/tensorflow/python/eager/function.py\u001b[0m in \u001b[0;36mcall\u001b[0;34m(self, ctx, args, cancellation_manager)\u001b[0m\n\u001b[1;32m    502\u001b[0m               \u001b[0minputs\u001b[0m\u001b[0;34m=\u001b[0m\u001b[0margs\u001b[0m\u001b[0;34m,\u001b[0m\u001b[0;34m\u001b[0m\u001b[0;34m\u001b[0m\u001b[0m\n\u001b[1;32m    503\u001b[0m               \u001b[0mattrs\u001b[0m\u001b[0;34m=\u001b[0m\u001b[0mattrs\u001b[0m\u001b[0;34m,\u001b[0m\u001b[0;34m\u001b[0m\u001b[0;34m\u001b[0m\u001b[0m\n\u001b[0;32m--> 504\u001b[0;31m               ctx=ctx)\n\u001b[0m\u001b[1;32m    505\u001b[0m         \u001b[0;32melse\u001b[0m\u001b[0;34m:\u001b[0m\u001b[0;34m\u001b[0m\u001b[0;34m\u001b[0m\u001b[0m\n\u001b[1;32m    506\u001b[0m           outputs = execute.execute_with_cancellation(\n",
            "\u001b[0;32m/usr/local/lib/python3.7/dist-packages/tensorflow/python/eager/execute.py\u001b[0m in \u001b[0;36mquick_execute\u001b[0;34m(op_name, num_outputs, inputs, attrs, ctx, name)\u001b[0m\n\u001b[1;32m     53\u001b[0m     \u001b[0mctx\u001b[0m\u001b[0;34m.\u001b[0m\u001b[0mensure_initialized\u001b[0m\u001b[0;34m(\u001b[0m\u001b[0;34m)\u001b[0m\u001b[0;34m\u001b[0m\u001b[0;34m\u001b[0m\u001b[0m\n\u001b[1;32m     54\u001b[0m     tensors = pywrap_tfe.TFE_Py_Execute(ctx._handle, device_name, op_name,\n\u001b[0;32m---> 55\u001b[0;31m                                         inputs, attrs, num_outputs)\n\u001b[0m\u001b[1;32m     56\u001b[0m   \u001b[0;32mexcept\u001b[0m \u001b[0mcore\u001b[0m\u001b[0;34m.\u001b[0m\u001b[0m_NotOkStatusException\u001b[0m \u001b[0;32mas\u001b[0m \u001b[0me\u001b[0m\u001b[0;34m:\u001b[0m\u001b[0;34m\u001b[0m\u001b[0;34m\u001b[0m\u001b[0m\n\u001b[1;32m     57\u001b[0m     \u001b[0;32mif\u001b[0m \u001b[0mname\u001b[0m \u001b[0;32mis\u001b[0m \u001b[0;32mnot\u001b[0m \u001b[0;32mNone\u001b[0m\u001b[0;34m:\u001b[0m\u001b[0;34m\u001b[0m\u001b[0;34m\u001b[0m\u001b[0m\n",
            "\u001b[0;31mKeyboardInterrupt\u001b[0m: "
          ]
        }
      ]
    },
    {
      "cell_type": "code",
      "source": [
        "# summarize history for loss\n",
        "plt.plot(history.history['loss'])\n",
        "plt.plot(history.history['val_loss'])\n",
        "plt.title('model loss')\n",
        "plt.ylabel('loss')\n",
        "plt.xlabel('epoch')\n",
        "plt.legend(['train', 'test'], loc='upper left')\n",
        "plt.show()"
      ],
      "metadata": {
        "id": "LT5A5yozFII0"
      },
      "execution_count": null,
      "outputs": []
    },
    {
      "cell_type": "markdown",
      "metadata": {
        "id": "VIkR3_L7i81O"
      },
      "source": [
        "### Linear Regression"
      ]
    },
    {
      "cell_type": "code",
      "execution_count": null,
      "metadata": {
        "canvas": {
          "comments": [],
          "componentType": "CodeCell",
          "copiedOriginId": null,
          "headerColor": "none",
          "id": "fe632752-12bf-4397-961f-459f7c277bf1",
          "isComponent": false,
          "name": "",
          "parents": []
        },
        "colab": {
          "base_uri": "https://localhost:8080/"
        },
        "id": "KmRFRSBngC6T",
        "outputId": "bd6bcab4-9900-459c-8756-d9430cc8a193"
      },
      "outputs": [
        {
          "data": {
            "text/plain": [
              "LinearRegression()"
            ]
          },
          "execution_count": 17,
          "metadata": {},
          "output_type": "execute_result"
        }
      ],
      "source": [
        "model_linear_basic = LinearRegression()\n",
        "model_linear_basic.fit(trnx, trny)"
      ]
    },
    {
      "cell_type": "code",
      "execution_count": null,
      "metadata": {
        "canvas": {
          "comments": [],
          "componentType": "CodeCell",
          "copiedOriginId": null,
          "headerColor": "none",
          "id": "4a3b0d0b-b0b9-4896-979f-ff76d0e9835b",
          "isComponent": false,
          "name": "",
          "parents": []
        },
        "colab": {
          "base_uri": "https://localhost:8080/"
        },
        "id": "xHd_njkogC6T",
        "outputId": "7ae59455-3737-4bd4-c452-878272238390"
      },
      "outputs": [
        {
          "data": {
            "text/plain": [
              "0.8127187418176494"
            ]
          },
          "execution_count": 18,
          "metadata": {},
          "output_type": "execute_result"
        }
      ],
      "source": [
        "model_linear_basic.score(tstx, tsty)"
      ]
    },
    {
      "cell_type": "code",
      "execution_count": null,
      "metadata": {
        "colab": {
          "base_uri": "https://localhost:8080/"
        },
        "id": "WNCUS_DZtDMW",
        "outputId": "b48159f4-e480-46d6-da0c-e04ed6d32d0e"
      },
      "outputs": [
        {
          "name": "stdout",
          "output_type": "stream",
          "text": [
            "['mae train: ', 0.09724406644985442, 'mae val: ', 0.097375146379088]\n"
          ]
        }
      ],
      "source": [
        "print_score(model_linear_basic, trnx, trny, tstx, tsty)"
      ]
    },
    {
      "cell_type": "markdown",
      "metadata": {
        "id": "FyJLlmg_i81P"
      },
      "source": [
        "### Random Forest Regresssion"
      ]
    },
    {
      "cell_type": "code",
      "execution_count": null,
      "metadata": {
        "colab": {
          "base_uri": "https://localhost:8080/"
        },
        "id": "dXh6zmQDrVbE",
        "outputId": "c8f911f3-0e69-42e6-af69-97dd69aa6c4c"
      },
      "outputs": [
        {
          "data": {
            "text/plain": [
              "0.9132063617052107"
            ]
          },
          "execution_count": 19,
          "metadata": {},
          "output_type": "execute_result"
        }
      ],
      "source": [
        "# Train basic model\n",
        "model_RF_basic = RandomForestRegressor(n_estimators=40, min_samples_leaf=3, max_features=0.5, n_jobs=-1)\n",
        "model_RF_basic.fit(trnx, trny)\n",
        "# print_score(m1)\n",
        "model_RF_basic.score(tstx, tsty)"
      ]
    },
    {
      "cell_type": "code",
      "execution_count": null,
      "metadata": {
        "colab": {
          "base_uri": "https://localhost:8080/"
        },
        "id": "b4-l_cOAtIAN",
        "outputId": "f41330f9-963e-4e5f-9c0d-e275df82a164"
      },
      "outputs": [
        {
          "name": "stdout",
          "output_type": "stream",
          "text": [
            "['mae train: ', 0.0361831000374244, 'mae val: ', 0.06385080745220131]\n"
          ]
        }
      ],
      "source": [
        "print_score(model_RF_basic, trnx, trny, tstx, tsty)"
      ]
    },
    {
      "cell_type": "markdown",
      "metadata": {
        "id": "u5pjflj-7hOF"
      },
      "source": [
        "# 2.정규화"
      ]
    },
    {
      "cell_type": "code",
      "execution_count": null,
      "metadata": {
        "id": "apFmj4FAkj4C"
      },
      "outputs": [],
      "source": [
        "train2 = train.drop(columns = ['Id'])"
      ]
    },
    {
      "cell_type": "code",
      "execution_count": null,
      "metadata": {
        "id": "gUx7OrI4kelt"
      },
      "outputs": [],
      "source": [
        "train2['playersJoined'] = train2.groupby('matchId')['matchId'].transform('count')"
      ]
    },
    {
      "cell_type": "code",
      "execution_count": null,
      "metadata": {
        "id": "ajz7HwhO7i3n"
      },
      "outputs": [],
      "source": [
        "# 정규화 feature 생성\n",
        "def normalization(X):\n",
        "  X['killsNorm'] = X['kills']*((100-X['playersJoined'])/100 + 1)\n",
        "  X['damageDealtNorm'] = X['damageDealt']*((100-X['playersJoined'])/100 + 1)\n",
        "  X['maxPlaceNorm'] = X['maxPlace']*((100-X['playersJoined'])/100 + 1)\n",
        "  X['matchDurationNorm'] = X['matchDuration']*((100-X['playersJoined'])/100 + 1)\n",
        "  return X"
      ]
    },
    {
      "cell_type": "code",
      "execution_count": null,
      "metadata": {
        "id": "WynK12YE73IA"
      },
      "outputs": [],
      "source": [
        "train2 = normalization(train2)"
      ]
    },
    {
      "cell_type": "markdown",
      "metadata": {
        "id": "zIpfZWB-kvBU"
      },
      "source": [
        "### 검증 데이터 준비"
      ]
    },
    {
      "cell_type": "code",
      "execution_count": null,
      "metadata": {
        "id": "rqvds620kvBe"
      },
      "outputs": [],
      "source": [
        "X = train2.drop(['winPlacePerc','damageDealt', 'maxPlace', 'matchDuration', 'kills', 'playersJoined'], axis=1)\n",
        "y = train2['winPlacePerc']"
      ]
    },
    {
      "cell_type": "code",
      "execution_count": null,
      "metadata": {
        "canvas": {
          "comments": [],
          "componentType": "CodeCell",
          "copiedOriginId": null,
          "headerColor": "none",
          "id": "9a3245b3-83be-4651-b89f-9e1aa8333c5b",
          "isComponent": false,
          "name": "",
          "parents": []
        },
        "id": "2JQXNHWZkvBg"
      },
      "outputs": [],
      "source": [
        "trnx, tstx, trny, tsty = train_test_split(X, y, test_size=.3, random_state=634)"
      ]
    },
    {
      "cell_type": "markdown",
      "metadata": {
        "id": "pj7OoJDckvBh"
      },
      "source": [
        "### Linear Regression"
      ]
    },
    {
      "cell_type": "code",
      "execution_count": null,
      "metadata": {
        "canvas": {
          "comments": [],
          "componentType": "CodeCell",
          "copiedOriginId": null,
          "headerColor": "none",
          "id": "fe632752-12bf-4397-961f-459f7c277bf1",
          "isComponent": false,
          "name": "",
          "parents": []
        },
        "colab": {
          "base_uri": "https://localhost:8080/"
        },
        "id": "ZA2gVSLagMSy",
        "outputId": "3b43c733-364e-4f7f-b556-981a6f97297d"
      },
      "outputs": [
        {
          "data": {
            "text/plain": [
              "LinearRegression()"
            ]
          },
          "execution_count": 57,
          "metadata": {},
          "output_type": "execute_result"
        }
      ],
      "source": [
        "model_linear_normal = LinearRegression()\n",
        "model_linear_normal.fit(trnx, trny)"
      ]
    },
    {
      "cell_type": "code",
      "execution_count": null,
      "metadata": {
        "canvas": {
          "comments": [],
          "componentType": "CodeCell",
          "copiedOriginId": null,
          "headerColor": "none",
          "id": "4a3b0d0b-b0b9-4896-979f-ff76d0e9835b",
          "isComponent": false,
          "name": "",
          "parents": []
        },
        "colab": {
          "base_uri": "https://localhost:8080/"
        },
        "id": "aZOT7DGkgMSz",
        "outputId": "70b2d806-1fc8-4856-c063-3b7eac88080b"
      },
      "outputs": [
        {
          "data": {
            "text/plain": [
              "0.83968124463687"
            ]
          },
          "execution_count": 58,
          "metadata": {},
          "output_type": "execute_result"
        }
      ],
      "source": [
        "model_linear_normal.score(tstx, tsty)"
      ]
    },
    {
      "cell_type": "code",
      "execution_count": null,
      "metadata": {
        "colab": {
          "base_uri": "https://localhost:8080/"
        },
        "id": "de2yYtvdtHhq",
        "outputId": "5c25574b-71c4-4579-a4f3-986c5638b2aa"
      },
      "outputs": [
        {
          "name": "stdout",
          "output_type": "stream",
          "text": [
            "['mae train: ', 0.08960053775803481, 'mae val: ', 0.08973739291885947]\n"
          ]
        }
      ],
      "source": [
        "print_score(model_linear_normal, trnx, trny, tstx, tsty)"
      ]
    },
    {
      "cell_type": "markdown",
      "metadata": {
        "id": "JwiQJQ7EkvBj"
      },
      "source": [
        "### Random Forest Regresssion"
      ]
    },
    {
      "cell_type": "code",
      "execution_count": null,
      "metadata": {
        "colab": {
          "base_uri": "https://localhost:8080/"
        },
        "id": "Ypfk-hlfgXwn",
        "outputId": "4432afeb-a093-49ee-b241-d32f7b3ef79f"
      },
      "outputs": [
        {
          "data": {
            "text/plain": [
              "0.9339098357235169"
            ]
          },
          "execution_count": 59,
          "metadata": {},
          "output_type": "execute_result"
        }
      ],
      "source": [
        "# Train normalization model\n",
        "model_RF_normal = RandomForestRegressor(n_estimators=40, min_samples_leaf=3, max_features=0.5, n_jobs=-1)\n",
        "model_RF_normal.fit(trnx, trny)\n",
        "# print_score(m1)\n",
        "model_RF_normal.score(tstx, tsty)"
      ]
    },
    {
      "cell_type": "code",
      "execution_count": null,
      "metadata": {
        "colab": {
          "base_uri": "https://localhost:8080/"
        },
        "id": "nNWdrBYVtIVg",
        "outputId": "4bf49d49-3912-4876-f703-c52a3cee3abc"
      },
      "outputs": [
        {
          "name": "stdout",
          "output_type": "stream",
          "text": [
            "['mae train: ', 0.029774917222944005, 'mae val: ', 0.05562307234438658]\n"
          ]
        }
      ],
      "source": [
        "print_score(model_RF_normal, trnx, trny, tstx, tsty)"
      ]
    },
    {
      "cell_type": "markdown",
      "metadata": {
        "id": "hwW_URt4rOuP"
      },
      "source": [
        "# 3. 새로운 피쳐 추가 및 이상치 제거"
      ]
    },
    {
      "cell_type": "code",
      "execution_count": null,
      "metadata": {
        "id": "Asb97qizwoBt"
      },
      "outputs": [],
      "source": [
        "train3 = train.drop(columns = ['Id'])"
      ]
    },
    {
      "cell_type": "markdown",
      "metadata": {
        "id": "zs9E6cL7WukJ"
      },
      "source": [
        "### 피쳐 추가하기"
      ]
    },
    {
      "cell_type": "code",
      "execution_count": null,
      "metadata": {
        "id": "3sv4j1FyWlt-"
      },
      "outputs": [],
      "source": [
        "def add_player_features(X):\n",
        "    X['headshot_rate'] = X['headshotKills'] / (X['kills'] + 0.00001)\n",
        "    X['kill_streak_rate'] = X['killStreaks'] / (X['kills'] + 0.00001)\n",
        "    X['kills_assists'] = X['kills'] + X['assists']\n",
        "    X['heals_boosts'] = X['heals'] + X['boosts']\n",
        "    X['total_distance'] = X['walkDistance'] + X['rideDistance'] + X['swimDistance']\n",
        "    X['items_per_matchDuration'] = X['heals_boosts'] / X ['matchDuration']\n",
        "    X['totalDistance_per_matchDuration'] = X['total_distance'] / X['matchDuration']\n",
        "    X['killPlace'] = X['killPlace'] - 1\n",
        "    X['playersJoined'] = X.groupby('matchId')['matchId'].transform('count')\n",
        "    return X"
      ]
    },
    {
      "cell_type": "code",
      "execution_count": null,
      "metadata": {
        "id": "PCtMBTuWZfea"
      },
      "outputs": [],
      "source": [
        "train3 = add_player_features(train3)"
      ]
    },
    {
      "cell_type": "markdown",
      "metadata": {
        "id": "eDUpTEVKnMra"
      },
      "source": [
        "### 이상치 제거"
      ]
    },
    {
      "cell_type": "code",
      "execution_count": null,
      "metadata": {
        "colab": {
          "base_uri": "https://localhost:8080/",
          "height": 369
        },
        "id": "C7Ieq4-BvCvG",
        "outputId": "ffc3f624-54a6-4ba1-fdf9-5330d63f3d1b"
      },
      "outputs": [
        {
          "data": {
            "text/plain": [
              "<matplotlib.axes._subplots.AxesSubplot at 0x7f8273158090>"
            ]
          },
          "execution_count": 47,
          "metadata": {},
          "output_type": "execute_result"
        },
        {
          "data": {
            "image/png": "[encoded data removed]",
            "text/plain": [
              "<Figure size 1152x360 with 3 Axes>"
            ]
          },
          "metadata": {},
          "output_type": "display_data"
        }
      ],
      "source": [
        "fig, axes = plt.subplots(1, 3, figsize=(16, 5))\n",
        "sns.histplot(train['DBNOs'], bins=10, ax=axes[0])\n",
        "sns.histplot(train['kills'], bins=10, ax=axes[1])\n",
        "sns.histplot(train3['headshot_rate'], bins=10, ax=axes[2])"
      ]
    },
    {
      "cell_type": "code",
      "execution_count": null,
      "metadata": {
        "id": "_3r4h3c4s3EO",
        "outputId": "09ea8fd0-cf0c-46b5-9ef6-04b9313c1557"
      },
      "outputs": [
        {
          "data": {
            "text/plain": [
              "<Figure size 864x288 with 0 Axes>"
            ]
          },
          "metadata": {},
          "output_type": "display_data"
        },
        {
          "data": {
            "image/png": "[encoded data removed]",
            "text/plain": [
              "<Figure size 360x360 with 1 Axes>"
            ]
          },
          "metadata": {},
          "output_type": "display_data"
        }
      ],
      "source": [
        "plt.figure(figsize=(12,4))\n",
        "sns.displot(train['headshot_rate'], bins=10)\n",
        "plt.show()"
      ]
    },
    {
      "cell_type": "code",
      "execution_count": null,
      "metadata": {
        "colab": {
          "base_uri": "https://localhost:8080/",
          "height": 369
        },
        "id": "bf510e18",
        "outputId": "2bdc4f79-b864-4bed-8721-b712b1014646"
      },
      "outputs": [
        {
          "data": {
            "text/plain": [
              "<matplotlib.axes._subplots.AxesSubplot at 0x7f8274eb2a90>"
            ]
          },
          "execution_count": 39,
          "metadata": {},
          "output_type": "execute_result"
        },
        {
          "data": {
            "image/png": "[encoded data removed]",
            "text/plain": [
              "<Figure size 1152x360 with 3 Axes>"
            ]
          },
          "metadata": {},
          "output_type": "display_data"
        }
      ],
      "source": [
        "# Plot the distribution of Distance\n",
        "fig, axes = plt.subplots(1, 3, figsize=(16, 5))\n",
        "sns.histplot(train['walkDistance'], bins=15, ax=axes[0])\n",
        "sns.histplot(train['rideDistance'], bins=10, ax=axes[1])\n",
        "sns.histplot(train['swimDistance'], bins=10, ax=axes[2])\n"
      ]
    },
    {
      "cell_type": "code",
      "execution_count": null,
      "metadata": {
        "colab": {
          "base_uri": "https://localhost:8080/",
          "height": 369
        },
        "id": "13d66a98",
        "outputId": "9dfd4755-b7f3-48f6-ee24-49f56cc00885"
      },
      "outputs": [
        {
          "data": {
            "text/plain": [
              "<matplotlib.axes._subplots.AxesSubplot at 0x7f8275f8f790>"
            ]
          },
          "execution_count": 40,
          "metadata": {},
          "output_type": "execute_result"
        },
        {
          "data": {
            "image/png": "[encoded data removed]",
            "text/plain": [
              "<Figure size 1152x360 with 2 Axes>"
            ]
          },
          "metadata": {},
          "output_type": "display_data"
        }
      ],
      "source": [
        "# Distribution of heals\n",
        "fig, axes = plt.subplots(1, 2, figsize=(16, 5))\n",
        "sns.histplot(train['heals'], bins=15, ax=axes[0])\n",
        "sns.histplot(train['boosts'], bins=10, ax=axes[1])\n"
      ]
    },
    {
      "cell_type": "code",
      "execution_count": null,
      "metadata": {
        "colab": {
          "base_uri": "https://localhost:8080/",
          "height": 369
        },
        "id": "Ef0LsSXhw2yO",
        "outputId": "4ae88794-1b6d-40dc-96cb-21798405478e"
      },
      "outputs": [
        {
          "data": {
            "text/plain": [
              "<matplotlib.axes._subplots.AxesSubplot at 0x7f826891b8d0>"
            ]
          },
          "execution_count": 50,
          "metadata": {},
          "output_type": "execute_result"
        },
        {
          "data": {
            "image/png": "[encoded data removed]",
            "text/plain": [
              "<Figure size 1152x360 with 3 Axes>"
            ]
          },
          "metadata": {},
          "output_type": "display_data"
        }
      ],
      "source": [
        "# Plot the distribution of Distance\n",
        "fig, axes = plt.subplots(1, 3, figsize=(16, 5))\n",
        "sns.histplot(train['headshotKills'], bins=15, ax=axes[0])\n",
        "sns.histplot(train['roadKills'], bins=15, ax=axes[1])\n",
        "sns.histplot(train['teamKills'], bins=15, ax=axes[2])\n"
      ]
    },
    {
      "cell_type": "code",
      "execution_count": null,
      "metadata": {
        "id": "XgViQMGVULaq"
      },
      "outputs": [],
      "source": [
        "def remove_outliers(X):\n",
        "    outliers = (X['DBNOs'] >= 30) | (X['headshotKills'] > 30) | ((X['kills'] > 0) & (X['total_distance'] == 0))\n",
        "    outliers = outliers | (X['kills'] > 30) | (X['revives'] > 15) | (X['longestKill'] >= 1000) | (X['weaponsAcquired'] >= 80) | (X['headshot_rate'] == 1) & (X['kills'] > 8)\n",
        "    outliers = outliers | (X['roadKills'] >= 8) | (X['teamKills'] > 8) | (X['walkDistance'] > 10000) | (X['rideDistance'] >= 20000) | (X['swimDistance'] >= 2000)\n",
        "    X = X.loc[~outliers]\n",
        "    outlier_data = X.loc[outliers]\n",
        "    return X, outlier_data"
      ]
    },
    {
      "cell_type": "code",
      "execution_count": null,
      "metadata": {
        "id": "VQY4YR6q1_e5"
      },
      "outputs": [],
      "source": [
        "display(train2[train2['roadKills'] >= 8].shape)\n",
        "train2[train2['roadKills'] >= 8].head(10)"
      ]
    },
    {
      "cell_type": "code",
      "execution_count": null,
      "metadata": {
        "id": "AZ_81ZcHa0yT"
      },
      "outputs": [],
      "source": [
        "train2, _ = remove_outliers(train2)"
      ]
    },
    {
      "cell_type": "code",
      "execution_count": null,
      "metadata": {
        "id": "UUm1UqkOa3vI"
      },
      "outputs": [],
      "source": [
        "train2.head()"
      ]
    },
    {
      "cell_type": "markdown",
      "metadata": {
        "id": "SDwMv_xPnRma"
      },
      "source": [
        "### 검증 데이터 준비"
      ]
    },
    {
      "cell_type": "code",
      "execution_count": null,
      "metadata": {
        "id": "_MSc-pdZdTwV"
      },
      "outputs": [],
      "source": [
        "X = train2.drop(['winPlacePerc','damageDealt', 'maxPlace', 'matchDuration', 'kills'], axis=1)\n",
        "y = train2['winPlacePerc']"
      ]
    },
    {
      "cell_type": "code",
      "execution_count": null,
      "metadata": {
        "canvas": {
          "comments": [],
          "componentType": "CodeCell",
          "copiedOriginId": null,
          "headerColor": "none",
          "id": "9a3245b3-83be-4651-b89f-9e1aa8333c5b",
          "isComponent": false,
          "name": "",
          "parents": []
        },
        "id": "Kcmp_vLvOD_R"
      },
      "outputs": [],
      "source": [
        "trnx, tstx, trny, tsty = train_test_split(X, y, test_size=.3, random_state=634)"
      ]
    },
    {
      "cell_type": "markdown",
      "metadata": {
        "id": "7cJ86URMnV2i"
      },
      "source": [
        "### Linear Regression"
      ]
    },
    {
      "cell_type": "code",
      "execution_count": null,
      "metadata": {
        "canvas": {
          "comments": [],
          "componentType": "CodeCell",
          "copiedOriginId": null,
          "headerColor": "none",
          "id": "fe632752-12bf-4397-961f-459f7c277bf1",
          "isComponent": false,
          "name": "",
          "parents": []
        },
        "colab": {
          "base_uri": "https://localhost:8080/"
        },
        "id": "SQxP-kVPv5EK",
        "outputId": "e59e1270-d264-4ee7-d449-48fdbcd8bcac"
      },
      "outputs": [
        {
          "data": {
            "text/plain": [
              "LinearRegression()"
            ]
          },
          "execution_count": 89,
          "metadata": {},
          "output_type": "execute_result"
        }
      ],
      "source": [
        "model_linear_final = LinearRegression()\n",
        "model_linear_final.fit(trnx, trny)"
      ]
    },
    {
      "cell_type": "code",
      "execution_count": null,
      "metadata": {
        "canvas": {
          "comments": [],
          "componentType": "CodeCell",
          "copiedOriginId": null,
          "headerColor": "none",
          "id": "4a3b0d0b-b0b9-4896-979f-ff76d0e9835b",
          "isComponent": false,
          "name": "",
          "parents": []
        },
        "colab": {
          "base_uri": "https://localhost:8080/"
        },
        "id": "_h8AdsRNv5EZ",
        "outputId": "84f9fcd0-58d2-4345-a6b7-32537ff62098"
      },
      "outputs": [
        {
          "data": {
            "text/plain": [
              "0.8593354234164107"
            ]
          },
          "execution_count": 90,
          "metadata": {},
          "output_type": "execute_result"
        }
      ],
      "source": [
        "model_linear_final.score(tstx, tsty)"
      ]
    },
    {
      "cell_type": "code",
      "execution_count": null,
      "metadata": {
        "colab": {
          "base_uri": "https://localhost:8080/"
        },
        "id": "1EIepNqotHsB",
        "outputId": "f73b42b1-afe6-4342-c5f4-e3b24a68e191"
      },
      "outputs": [
        {
          "name": "stdout",
          "output_type": "stream",
          "text": [
            "['mae train: ', 0.08256787812778393, 'mae val: ', 0.08249980683320592]\n"
          ]
        }
      ],
      "source": [
        "print_score(model_linear_final, trnx, trny, tstx, tsty)"
      ]
    },
    {
      "cell_type": "markdown",
      "metadata": {
        "id": "DEVnpBmoxo0e"
      },
      "source": [
        "### Random Forest Regresssion"
      ]
    },
    {
      "cell_type": "code",
      "execution_count": null,
      "metadata": {
        "colab": {
          "base_uri": "https://localhost:8080/"
        },
        "id": "jLRxZI-ggX7W",
        "outputId": "c84684d5-625d-4f92-cda4-e675c4a6713d"
      },
      "outputs": [
        {
          "data": {
            "text/plain": [
              "0.9338034183726611"
            ]
          },
          "execution_count": 91,
          "metadata": {},
          "output_type": "execute_result"
        }
      ],
      "source": [
        "# Train final model\n",
        "model_RF_final = RandomForestRegressor(n_estimators=40, min_samples_leaf=3, max_features=0.5, n_jobs=-1)\n",
        "model_RF_final.fit(trnx, trny)\n",
        "# print_score(m1)\n",
        "model_RF_final.score(tstx, tsty)"
      ]
    },
    {
      "cell_type": "code",
      "execution_count": null,
      "metadata": {
        "colab": {
          "base_uri": "https://localhost:8080/"
        },
        "id": "LB0ZIKTUtVUe",
        "outputId": "2796930e-4650-4897-e0ae-c55f96c77d14"
      },
      "outputs": [
        {
          "name": "stdout",
          "output_type": "stream",
          "text": [
            "['mae train: ', 0.029253877749687747, 'mae val: ', 0.05567705498534771]\n"
          ]
        }
      ],
      "source": [
        "print_score(model_RF_final, trnx, trny, tstx, tsty)"
      ]
    },
    {
      "cell_type": "code",
      "execution_count": null,
      "metadata": {
        "id": "bHFV4KTmzF3U"
      },
      "outputs": [],
      "source": [
        ""
      ]
    }
  ],
  "metadata": {
    "colab": {
      "collapsed_sections": [],
      "name": "PUBG_prediction_0617.ipynb",
      "provenance": []
    },
    "gpuClass": "standard",
    "kernelspec": {
      "display_name": "Python 3 (ipykernel)",
      "language": "python",
      "name": "python3"
    },
    "language_info": {
      "codemirror_mode": {
        "name": "ipython",
        "version": 3
      },
      "file_extension": ".py",
      "mimetype": "text/x-python",
      "name": "python",
      "nbconvert_exporter": "python",
      "pygments_lexer": "ipython3",
      "version": "3.9.7"
    },
    "accelerator": "GPU"
  },
  "nbformat": 4,
  "nbformat_minor": 0
}