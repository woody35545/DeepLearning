{
  "nbformat": 4,
  "nbformat_minor": 0,
  "metadata": {
    "colab": {
      "name": "PUBG_prediction_0617 (1).ipynb",
      "provenance": [],
      "collapsed_sections": [
        "VIkR3_L7i81O",
        "FyJLlmg_i81P",
        "pj7OoJDckvBh",
        "hATH4Kq_RXnV",
        "zs9E6cL7WukJ",
        "eDUpTEVKnMra"
      ]
    },
    "kernelspec": {
      "name": "python3",
      "display_name": "Python 3"
    },
    "language_info": {
      "name": "python"
    },
    "gpuClass": "standard"
  },
  "cells": [
    {
      "cell_type": "code",
      "source": [
        "from google.colab import drive\n",
        "#drive.mount('/content/drive')\n",
        "drive.mount('/content/gdrive')"
      ],
      "metadata": {
        "colab": {
          "base_uri": "https://localhost:8080/"
        },
        "id": "T6EZdTD9LK4M",
        "outputId": "dd144f58-0611-4563-b33e-c74cef3e3344"
      },
      "execution_count": null,
      "outputs": [
        {
          "output_type": "stream",
          "name": "stdout",
          "text": [
            "Mounted at /content/drive\n"
          ]
        }
      ]
    },
    {
      "cell_type": "code",
      "source": [
        "#PATH = \"/content/drive/MyDrive/2022-1/Data Science/term project/pubg-finish-placement-prediction\"\n",
        "PATH =  '/content/gdrive/My Drive/Colab Notebooks/data/'"
      ],
      "metadata": {
        "id": "LdLP2xqXe0NN"
      },
      "execution_count": null,
      "outputs": []
    },
    {
      "cell_type": "code",
      "execution_count": null,
      "metadata": {
        "canvas": {
          "comments": [],
          "componentType": "CodeCell",
          "copiedOriginId": null,
          "headerColor": "none",
          "id": "6b72cb7e-4c6e-4e21-b5ab-0e26a3ea9a12",
          "isComponent": false,
          "name": "",
          "parents": []
        },
        "id": "4o4NMA-S7MK_"
      },
      "outputs": [],
      "source": [
        "import pandas as pd\n",
        "import numpy as np\n",
        "import matplotlib.pyplot as plt\n",
        "import seaborn as sns\n",
        "import os"
      ]
    },
    {
      "cell_type": "code",
      "source": [
        "sns.set() # setting seaborn default for plots"
      ],
      "metadata": {
        "id": "fqJuGhXetVPW"
      },
      "execution_count": null,
      "outputs": []
    },
    {
      "cell_type": "code",
      "source": [
        "from sklearn.preprocessing import LabelEncoder\n",
        "from sklearn.model_selection import train_test_split\n",
        "from sklearn.linear_model import LinearRegression\n",
        "from sklearn.ensemble import RandomForestRegressor\n",
        "from tensorflow.keras import layers, models, optimizers\n",
        "from keras.models import Sequential\n",
        "import xgboost"
      ],
      "metadata": {
        "id": "nJWliN00oEgi"
      },
      "execution_count": null,
      "outputs": []
    },
    {
      "cell_type": "code",
      "execution_count": null,
      "metadata": {
        "canvas": {
          "comments": [],
          "componentType": "CodeCell",
          "copiedOriginId": null,
          "headerColor": "none",
          "id": "d8415578-4080-408b-8573-c6f3ff2ff744",
          "isComponent": false,
          "name": "",
          "parents": []
        },
        "id": "XNbTWUDe8xzm"
      },
      "outputs": [],
      "source": [
        "pd.set_option('display.max_columns', None)\n",
        "pd.options.display.float_format = '{:.5f}'.format"
      ]
    },
    {
      "cell_type": "code",
      "execution_count": null,
      "metadata": {
        "canvas": {
          "comments": [],
          "componentType": "CodeCell",
          "copiedOriginId": null,
          "headerColor": "none",
          "id": "2b836976-fb0a-49a9-8d3f-a3d303265fd6",
          "isComponent": false,
          "name": "",
          "parents": []
        },
        "id": "tZd_gwvJ7b3U"
      },
      "outputs": [],
      "source": [
        "#train = pd.read_csv(os.path.join(PATH, 'train_V2.csv'))\n",
        "train = pd.read_csv(PATH + 'train_V2.csv')"
      ]
    },
    {
      "cell_type": "markdown",
      "source": [
        "# EDA"
      ],
      "metadata": {
        "id": "APbeI-MNh22U"
      }
    },
    {
      "cell_type": "code",
      "source": [
        "# 데이터 찍어보기\n",
        "train.head(5)"
      ],
      "metadata": {
        "id": "w-wCTGWdT1cC",
        "colab": {
          "base_uri": "https://localhost:8080/",
          "height": 322
        },
        "outputId": "7dac5c7f-3787-4e2a-8c4b-cc452bc39937"
      },
      "execution_count": null,
      "outputs": [
        {
          "output_type": "execute_result",
          "data": {
            "text/plain": [
              "               Id         groupId         matchId  assists  boosts  \\\n",
              "0  7f96b2f878858a  4d4b580de459be  a10357fd1a4a91        0       0   \n",
              "1  eef90569b9d03c  684d5656442f9e  aeb375fc57110c        0       0   \n",
              "2  1eaf90ac73de72  6a4a42c3245a74  110163d8bb94ae        1       0   \n",
              "3  4616d365dd2853  a930a9c79cd721  f1f1f4ef412d7e        0       0   \n",
              "4  315c96c26c9aac  de04010b3458dd  6dc8ff871e21e6        0       0   \n",
              "\n",
              "   damageDealt  DBNOs  headshotKills  heals  killPlace  killPoints  kills  \\\n",
              "0      0.00000      0              0      0         60        1241      0   \n",
              "1     91.47000      0              0      0         57           0      0   \n",
              "2     68.00000      0              0      0         47           0      0   \n",
              "3     32.90000      0              0      0         75           0      0   \n",
              "4    100.00000      0              0      0         45           0      1   \n",
              "\n",
              "   killStreaks  longestKill  matchDuration  matchType  maxPlace  numGroups  \\\n",
              "0            0      0.00000           1306  squad-fpp        28         26   \n",
              "1            0      0.00000           1777  squad-fpp        26         25   \n",
              "2            0      0.00000           1318        duo        50         47   \n",
              "3            0      0.00000           1436  squad-fpp        31         30   \n",
              "4            1     58.53000           1424   solo-fpp        97         95   \n",
              "\n",
              "   rankPoints  revives  rideDistance  roadKills  swimDistance  teamKills  \\\n",
              "0          -1        0       0.00000          0       0.00000          0   \n",
              "1        1484        0       0.00450          0      11.04000          0   \n",
              "2        1491        0       0.00000          0       0.00000          0   \n",
              "3        1408        0       0.00000          0       0.00000          0   \n",
              "4        1560        0       0.00000          0       0.00000          0   \n",
              "\n",
              "   vehicleDestroys  walkDistance  weaponsAcquired  winPoints  winPlacePerc  \n",
              "0                0     244.80000                1       1466       0.44440  \n",
              "1                0    1434.00000                5          0       0.64000  \n",
              "2                0     161.80000                2          0       0.77550  \n",
              "3                0     202.70000                3          0       0.16670  \n",
              "4                0      49.75000                2          0       0.18750  "
            ],
            "text/html": [
              "\n",
              "  <div id=\"df-4c1e2955-dbdf-473b-88b4-518137e0fe56\">\n",
              "    <div class=\"colab-df-container\">\n",
              "      <div>\n",
              "<style scoped>\n",
              "    .dataframe tbody tr th:only-of-type {\n",
              "        vertical-align: middle;\n",
              "    }\n",
              "\n",
              "    .dataframe tbody tr th {\n",
              "        vertical-align: top;\n",
              "    }\n",
              "\n",
              "    .dataframe thead th {\n",
              "        text-align: right;\n",
              "    }\n",
              "</style>\n",
              "<table border=\"1\" class=\"dataframe\">\n",
              "  <thead>\n",
              "    <tr style=\"text-align: right;\">\n",
              "      <th></th>\n",
              "      <th>Id</th>\n",
              "      <th>groupId</th>\n",
              "      <th>matchId</th>\n",
              "      <th>assists</th>\n",
              "      <th>boosts</th>\n",
              "      <th>damageDealt</th>\n",
              "      <th>DBNOs</th>\n",
              "      <th>headshotKills</th>\n",
              "      <th>heals</th>\n",
              "      <th>killPlace</th>\n",
              "      <th>killPoints</th>\n",
              "      <th>kills</th>\n",
              "      <th>killStreaks</th>\n",
              "      <th>longestKill</th>\n",
              "      <th>matchDuration</th>\n",
              "      <th>matchType</th>\n",
              "      <th>maxPlace</th>\n",
              "      <th>numGroups</th>\n",
              "      <th>rankPoints</th>\n",
              "      <th>revives</th>\n",
              "      <th>rideDistance</th>\n",
              "      <th>roadKills</th>\n",
              "      <th>swimDistance</th>\n",
              "      <th>teamKills</th>\n",
              "      <th>vehicleDestroys</th>\n",
              "      <th>walkDistance</th>\n",
              "      <th>weaponsAcquired</th>\n",
              "      <th>winPoints</th>\n",
              "      <th>winPlacePerc</th>\n",
              "    </tr>\n",
              "  </thead>\n",
              "  <tbody>\n",
              "    <tr>\n",
              "      <th>0</th>\n",
              "      <td>7f96b2f878858a</td>\n",
              "      <td>4d4b580de459be</td>\n",
              "      <td>a10357fd1a4a91</td>\n",
              "      <td>0</td>\n",
              "      <td>0</td>\n",
              "      <td>0.00000</td>\n",
              "      <td>0</td>\n",
              "      <td>0</td>\n",
              "      <td>0</td>\n",
              "      <td>60</td>\n",
              "      <td>1241</td>\n",
              "      <td>0</td>\n",
              "      <td>0</td>\n",
              "      <td>0.00000</td>\n",
              "      <td>1306</td>\n",
              "      <td>squad-fpp</td>\n",
              "      <td>28</td>\n",
              "      <td>26</td>\n",
              "      <td>-1</td>\n",
              "      <td>0</td>\n",
              "      <td>0.00000</td>\n",
              "      <td>0</td>\n",
              "      <td>0.00000</td>\n",
              "      <td>0</td>\n",
              "      <td>0</td>\n",
              "      <td>244.80000</td>\n",
              "      <td>1</td>\n",
              "      <td>1466</td>\n",
              "      <td>0.44440</td>\n",
              "    </tr>\n",
              "    <tr>\n",
              "      <th>1</th>\n",
              "      <td>eef90569b9d03c</td>\n",
              "      <td>684d5656442f9e</td>\n",
              "      <td>aeb375fc57110c</td>\n",
              "      <td>0</td>\n",
              "      <td>0</td>\n",
              "      <td>91.47000</td>\n",
              "      <td>0</td>\n",
              "      <td>0</td>\n",
              "      <td>0</td>\n",
              "      <td>57</td>\n",
              "      <td>0</td>\n",
              "      <td>0</td>\n",
              "      <td>0</td>\n",
              "      <td>0.00000</td>\n",
              "      <td>1777</td>\n",
              "      <td>squad-fpp</td>\n",
              "      <td>26</td>\n",
              "      <td>25</td>\n",
              "      <td>1484</td>\n",
              "      <td>0</td>\n",
              "      <td>0.00450</td>\n",
              "      <td>0</td>\n",
              "      <td>11.04000</td>\n",
              "      <td>0</td>\n",
              "      <td>0</td>\n",
              "      <td>1434.00000</td>\n",
              "      <td>5</td>\n",
              "      <td>0</td>\n",
              "      <td>0.64000</td>\n",
              "    </tr>\n",
              "    <tr>\n",
              "      <th>2</th>\n",
              "      <td>1eaf90ac73de72</td>\n",
              "      <td>6a4a42c3245a74</td>\n",
              "      <td>110163d8bb94ae</td>\n",
              "      <td>1</td>\n",
              "      <td>0</td>\n",
              "      <td>68.00000</td>\n",
              "      <td>0</td>\n",
              "      <td>0</td>\n",
              "      <td>0</td>\n",
              "      <td>47</td>\n",
              "      <td>0</td>\n",
              "      <td>0</td>\n",
              "      <td>0</td>\n",
              "      <td>0.00000</td>\n",
              "      <td>1318</td>\n",
              "      <td>duo</td>\n",
              "      <td>50</td>\n",
              "      <td>47</td>\n",
              "      <td>1491</td>\n",
              "      <td>0</td>\n",
              "      <td>0.00000</td>\n",
              "      <td>0</td>\n",
              "      <td>0.00000</td>\n",
              "      <td>0</td>\n",
              "      <td>0</td>\n",
              "      <td>161.80000</td>\n",
              "      <td>2</td>\n",
              "      <td>0</td>\n",
              "      <td>0.77550</td>\n",
              "    </tr>\n",
              "    <tr>\n",
              "      <th>3</th>\n",
              "      <td>4616d365dd2853</td>\n",
              "      <td>a930a9c79cd721</td>\n",
              "      <td>f1f1f4ef412d7e</td>\n",
              "      <td>0</td>\n",
              "      <td>0</td>\n",
              "      <td>32.90000</td>\n",
              "      <td>0</td>\n",
              "      <td>0</td>\n",
              "      <td>0</td>\n",
              "      <td>75</td>\n",
              "      <td>0</td>\n",
              "      <td>0</td>\n",
              "      <td>0</td>\n",
              "      <td>0.00000</td>\n",
              "      <td>1436</td>\n",
              "      <td>squad-fpp</td>\n",
              "      <td>31</td>\n",
              "      <td>30</td>\n",
              "      <td>1408</td>\n",
              "      <td>0</td>\n",
              "      <td>0.00000</td>\n",
              "      <td>0</td>\n",
              "      <td>0.00000</td>\n",
              "      <td>0</td>\n",
              "      <td>0</td>\n",
              "      <td>202.70000</td>\n",
              "      <td>3</td>\n",
              "      <td>0</td>\n",
              "      <td>0.16670</td>\n",
              "    </tr>\n",
              "    <tr>\n",
              "      <th>4</th>\n",
              "      <td>315c96c26c9aac</td>\n",
              "      <td>de04010b3458dd</td>\n",
              "      <td>6dc8ff871e21e6</td>\n",
              "      <td>0</td>\n",
              "      <td>0</td>\n",
              "      <td>100.00000</td>\n",
              "      <td>0</td>\n",
              "      <td>0</td>\n",
              "      <td>0</td>\n",
              "      <td>45</td>\n",
              "      <td>0</td>\n",
              "      <td>1</td>\n",
              "      <td>1</td>\n",
              "      <td>58.53000</td>\n",
              "      <td>1424</td>\n",
              "      <td>solo-fpp</td>\n",
              "      <td>97</td>\n",
              "      <td>95</td>\n",
              "      <td>1560</td>\n",
              "      <td>0</td>\n",
              "      <td>0.00000</td>\n",
              "      <td>0</td>\n",
              "      <td>0.00000</td>\n",
              "      <td>0</td>\n",
              "      <td>0</td>\n",
              "      <td>49.75000</td>\n",
              "      <td>2</td>\n",
              "      <td>0</td>\n",
              "      <td>0.18750</td>\n",
              "    </tr>\n",
              "  </tbody>\n",
              "</table>\n",
              "</div>\n",
              "      <button class=\"colab-df-convert\" onclick=\"convertToInteractive('df-4c1e2955-dbdf-473b-88b4-518137e0fe56')\"\n",
              "              title=\"Convert this dataframe to an interactive table.\"\n",
              "              style=\"display:none;\">\n",
              "        \n",
              "  <svg xmlns=\"http://www.w3.org/2000/svg\" height=\"24px\"viewBox=\"0 0 24 24\"\n",
              "       width=\"24px\">\n",
              "    <path d=\"M0 0h24v24H0V0z\" fill=\"none\"/>\n",
              "    <path d=\"M18.56 5.44l.94 2.06.94-2.06 2.06-.94-2.06-.94-.94-2.06-.94 2.06-2.06.94zm-11 1L8.5 8.5l.94-2.06 2.06-.94-2.06-.94L8.5 2.5l-.94 2.06-2.06.94zm10 10l.94 2.06.94-2.06 2.06-.94-2.06-.94-.94-2.06-.94 2.06-2.06.94z\"/><path d=\"M17.41 7.96l-1.37-1.37c-.4-.4-.92-.59-1.43-.59-.52 0-1.04.2-1.43.59L10.3 9.45l-7.72 7.72c-.78.78-.78 2.05 0 2.83L4 21.41c.39.39.9.59 1.41.59.51 0 1.02-.2 1.41-.59l7.78-7.78 2.81-2.81c.8-.78.8-2.07 0-2.86zM5.41 20L4 18.59l7.72-7.72 1.47 1.35L5.41 20z\"/>\n",
              "  </svg>\n",
              "      </button>\n",
              "      \n",
              "  <style>\n",
              "    .colab-df-container {\n",
              "      display:flex;\n",
              "      flex-wrap:wrap;\n",
              "      gap: 12px;\n",
              "    }\n",
              "\n",
              "    .colab-df-convert {\n",
              "      background-color: #E8F0FE;\n",
              "      border: none;\n",
              "      border-radius: 50%;\n",
              "      cursor: pointer;\n",
              "      display: none;\n",
              "      fill: #1967D2;\n",
              "      height: 32px;\n",
              "      padding: 0 0 0 0;\n",
              "      width: 32px;\n",
              "    }\n",
              "\n",
              "    .colab-df-convert:hover {\n",
              "      background-color: #E2EBFA;\n",
              "      box-shadow: 0px 1px 2px rgba(60, 64, 67, 0.3), 0px 1px 3px 1px rgba(60, 64, 67, 0.15);\n",
              "      fill: #174EA6;\n",
              "    }\n",
              "\n",
              "    [theme=dark] .colab-df-convert {\n",
              "      background-color: #3B4455;\n",
              "      fill: #D2E3FC;\n",
              "    }\n",
              "\n",
              "    [theme=dark] .colab-df-convert:hover {\n",
              "      background-color: #434B5C;\n",
              "      box-shadow: 0px 1px 3px 1px rgba(0, 0, 0, 0.15);\n",
              "      filter: drop-shadow(0px 1px 2px rgba(0, 0, 0, 0.3));\n",
              "      fill: #FFFFFF;\n",
              "    }\n",
              "  </style>\n",
              "\n",
              "      <script>\n",
              "        const buttonEl =\n",
              "          document.querySelector('#df-4c1e2955-dbdf-473b-88b4-518137e0fe56 button.colab-df-convert');\n",
              "        buttonEl.style.display =\n",
              "          google.colab.kernel.accessAllowed ? 'block' : 'none';\n",
              "\n",
              "        async function convertToInteractive(key) {\n",
              "          const element = document.querySelector('#df-4c1e2955-dbdf-473b-88b4-518137e0fe56');\n",
              "          const dataTable =\n",
              "            await google.colab.kernel.invokeFunction('convertToInteractive',\n",
              "                                                     [key], {});\n",
              "          if (!dataTable) return;\n",
              "\n",
              "          const docLinkHtml = 'Like what you see? Visit the ' +\n",
              "            '<a target=\"_blank\" href=https://colab.research.google.com/notebooks/data_table.ipynb>data table notebook</a>'\n",
              "            + ' to learn more about interactive tables.';\n",
              "          element.innerHTML = '';\n",
              "          dataTable['output_type'] = 'display_data';\n",
              "          await google.colab.output.renderOutput(dataTable, element);\n",
              "          const docLink = document.createElement('div');\n",
              "          docLink.innerHTML = docLinkHtml;\n",
              "          element.appendChild(docLink);\n",
              "        }\n",
              "      </script>\n",
              "    </div>\n",
              "  </div>\n",
              "  "
            ]
          },
          "metadata": {},
          "execution_count": 14
        }
      ]
    },
    {
      "cell_type": "code",
      "source": [
        "# gropuId는 한 경기에서 같은 팀인 사람을 구분할 수 있는 피쳐\n",
        "train[train['groupId'] == '6a4a42c3245a74']"
      ],
      "metadata": {
        "colab": {
          "base_uri": "https://localhost:8080/",
          "height": 176
        },
        "id": "nXAIBnpRgfWM",
        "outputId": "b3782207-09a6-4e08-c94b-791d441845da"
      },
      "execution_count": null,
      "outputs": [
        {
          "output_type": "execute_result",
          "data": {
            "text/plain": [
              "                     Id         groupId         matchId  assists  boosts  \\\n",
              "2        1eaf90ac73de72  6a4a42c3245a74  110163d8bb94ae        1       0   \n",
              "3649524  3d588ea15ea8ba  6a4a42c3245a74  110163d8bb94ae        0       3   \n",
              "\n",
              "         damageDealt  DBNOs  headshotKills  heals  killPlace  killPoints  \\\n",
              "2           68.00000      0              0      0         47           0   \n",
              "3649524    146.60000      1              0      2         18           0   \n",
              "\n",
              "         kills  killStreaks  longestKill  matchDuration matchType  maxPlace  \\\n",
              "2            0            0      0.00000           1318       duo        50   \n",
              "3649524      2            1     10.84000           1318       duo        50   \n",
              "\n",
              "         numGroups  rankPoints  revives  rideDistance  roadKills  \\\n",
              "2               47        1491        0       0.00000          0   \n",
              "3649524         47        1494        0     340.40000          0   \n",
              "\n",
              "         swimDistance  teamKills  vehicleDestroys  walkDistance  \\\n",
              "2             0.00000          0                0     161.80000   \n",
              "3649524       0.00000          0                0    1119.00000   \n",
              "\n",
              "         weaponsAcquired  winPoints  winPlacePerc  \n",
              "2                      2          0       0.77550  \n",
              "3649524                2          0       0.77550  "
            ],
            "text/html": [
              "\n",
              "  <div id=\"df-ba37ada3-e99d-4464-b64a-b4526ad0d145\">\n",
              "    <div class=\"colab-df-container\">\n",
              "      <div>\n",
              "<style scoped>\n",
              "    .dataframe tbody tr th:only-of-type {\n",
              "        vertical-align: middle;\n",
              "    }\n",
              "\n",
              "    .dataframe tbody tr th {\n",
              "        vertical-align: top;\n",
              "    }\n",
              "\n",
              "    .dataframe thead th {\n",
              "        text-align: right;\n",
              "    }\n",
              "</style>\n",
              "<table border=\"1\" class=\"dataframe\">\n",
              "  <thead>\n",
              "    <tr style=\"text-align: right;\">\n",
              "      <th></th>\n",
              "      <th>Id</th>\n",
              "      <th>groupId</th>\n",
              "      <th>matchId</th>\n",
              "      <th>assists</th>\n",
              "      <th>boosts</th>\n",
              "      <th>damageDealt</th>\n",
              "      <th>DBNOs</th>\n",
              "      <th>headshotKills</th>\n",
              "      <th>heals</th>\n",
              "      <th>killPlace</th>\n",
              "      <th>killPoints</th>\n",
              "      <th>kills</th>\n",
              "      <th>killStreaks</th>\n",
              "      <th>longestKill</th>\n",
              "      <th>matchDuration</th>\n",
              "      <th>matchType</th>\n",
              "      <th>maxPlace</th>\n",
              "      <th>numGroups</th>\n",
              "      <th>rankPoints</th>\n",
              "      <th>revives</th>\n",
              "      <th>rideDistance</th>\n",
              "      <th>roadKills</th>\n",
              "      <th>swimDistance</th>\n",
              "      <th>teamKills</th>\n",
              "      <th>vehicleDestroys</th>\n",
              "      <th>walkDistance</th>\n",
              "      <th>weaponsAcquired</th>\n",
              "      <th>winPoints</th>\n",
              "      <th>winPlacePerc</th>\n",
              "    </tr>\n",
              "  </thead>\n",
              "  <tbody>\n",
              "    <tr>\n",
              "      <th>2</th>\n",
              "      <td>1eaf90ac73de72</td>\n",
              "      <td>6a4a42c3245a74</td>\n",
              "      <td>110163d8bb94ae</td>\n",
              "      <td>1</td>\n",
              "      <td>0</td>\n",
              "      <td>68.00000</td>\n",
              "      <td>0</td>\n",
              "      <td>0</td>\n",
              "      <td>0</td>\n",
              "      <td>47</td>\n",
              "      <td>0</td>\n",
              "      <td>0</td>\n",
              "      <td>0</td>\n",
              "      <td>0.00000</td>\n",
              "      <td>1318</td>\n",
              "      <td>duo</td>\n",
              "      <td>50</td>\n",
              "      <td>47</td>\n",
              "      <td>1491</td>\n",
              "      <td>0</td>\n",
              "      <td>0.00000</td>\n",
              "      <td>0</td>\n",
              "      <td>0.00000</td>\n",
              "      <td>0</td>\n",
              "      <td>0</td>\n",
              "      <td>161.80000</td>\n",
              "      <td>2</td>\n",
              "      <td>0</td>\n",
              "      <td>0.77550</td>\n",
              "    </tr>\n",
              "    <tr>\n",
              "      <th>3649524</th>\n",
              "      <td>3d588ea15ea8ba</td>\n",
              "      <td>6a4a42c3245a74</td>\n",
              "      <td>110163d8bb94ae</td>\n",
              "      <td>0</td>\n",
              "      <td>3</td>\n",
              "      <td>146.60000</td>\n",
              "      <td>1</td>\n",
              "      <td>0</td>\n",
              "      <td>2</td>\n",
              "      <td>18</td>\n",
              "      <td>0</td>\n",
              "      <td>2</td>\n",
              "      <td>1</td>\n",
              "      <td>10.84000</td>\n",
              "      <td>1318</td>\n",
              "      <td>duo</td>\n",
              "      <td>50</td>\n",
              "      <td>47</td>\n",
              "      <td>1494</td>\n",
              "      <td>0</td>\n",
              "      <td>340.40000</td>\n",
              "      <td>0</td>\n",
              "      <td>0.00000</td>\n",
              "      <td>0</td>\n",
              "      <td>0</td>\n",
              "      <td>1119.00000</td>\n",
              "      <td>2</td>\n",
              "      <td>0</td>\n",
              "      <td>0.77550</td>\n",
              "    </tr>\n",
              "  </tbody>\n",
              "</table>\n",
              "</div>\n",
              "      <button class=\"colab-df-convert\" onclick=\"convertToInteractive('df-ba37ada3-e99d-4464-b64a-b4526ad0d145')\"\n",
              "              title=\"Convert this dataframe to an interactive table.\"\n",
              "              style=\"display:none;\">\n",
              "        \n",
              "  <svg xmlns=\"http://www.w3.org/2000/svg\" height=\"24px\"viewBox=\"0 0 24 24\"\n",
              "       width=\"24px\">\n",
              "    <path d=\"M0 0h24v24H0V0z\" fill=\"none\"/>\n",
              "    <path d=\"M18.56 5.44l.94 2.06.94-2.06 2.06-.94-2.06-.94-.94-2.06-.94 2.06-2.06.94zm-11 1L8.5 8.5l.94-2.06 2.06-.94-2.06-.94L8.5 2.5l-.94 2.06-2.06.94zm10 10l.94 2.06.94-2.06 2.06-.94-2.06-.94-.94-2.06-.94 2.06-2.06.94z\"/><path d=\"M17.41 7.96l-1.37-1.37c-.4-.4-.92-.59-1.43-.59-.52 0-1.04.2-1.43.59L10.3 9.45l-7.72 7.72c-.78.78-.78 2.05 0 2.83L4 21.41c.39.39.9.59 1.41.59.51 0 1.02-.2 1.41-.59l7.78-7.78 2.81-2.81c.8-.78.8-2.07 0-2.86zM5.41 20L4 18.59l7.72-7.72 1.47 1.35L5.41 20z\"/>\n",
              "  </svg>\n",
              "      </button>\n",
              "      \n",
              "  <style>\n",
              "    .colab-df-container {\n",
              "      display:flex;\n",
              "      flex-wrap:wrap;\n",
              "      gap: 12px;\n",
              "    }\n",
              "\n",
              "    .colab-df-convert {\n",
              "      background-color: #E8F0FE;\n",
              "      border: none;\n",
              "      border-radius: 50%;\n",
              "      cursor: pointer;\n",
              "      display: none;\n",
              "      fill: #1967D2;\n",
              "      height: 32px;\n",
              "      padding: 0 0 0 0;\n",
              "      width: 32px;\n",
              "    }\n",
              "\n",
              "    .colab-df-convert:hover {\n",
              "      background-color: #E2EBFA;\n",
              "      box-shadow: 0px 1px 2px rgba(60, 64, 67, 0.3), 0px 1px 3px 1px rgba(60, 64, 67, 0.15);\n",
              "      fill: #174EA6;\n",
              "    }\n",
              "\n",
              "    [theme=dark] .colab-df-convert {\n",
              "      background-color: #3B4455;\n",
              "      fill: #D2E3FC;\n",
              "    }\n",
              "\n",
              "    [theme=dark] .colab-df-convert:hover {\n",
              "      background-color: #434B5C;\n",
              "      box-shadow: 0px 1px 3px 1px rgba(0, 0, 0, 0.15);\n",
              "      filter: drop-shadow(0px 1px 2px rgba(0, 0, 0, 0.3));\n",
              "      fill: #FFFFFF;\n",
              "    }\n",
              "  </style>\n",
              "\n",
              "      <script>\n",
              "        const buttonEl =\n",
              "          document.querySelector('#df-ba37ada3-e99d-4464-b64a-b4526ad0d145 button.colab-df-convert');\n",
              "        buttonEl.style.display =\n",
              "          google.colab.kernel.accessAllowed ? 'block' : 'none';\n",
              "\n",
              "        async function convertToInteractive(key) {\n",
              "          const element = document.querySelector('#df-ba37ada3-e99d-4464-b64a-b4526ad0d145');\n",
              "          const dataTable =\n",
              "            await google.colab.kernel.invokeFunction('convertToInteractive',\n",
              "                                                     [key], {});\n",
              "          if (!dataTable) return;\n",
              "\n",
              "          const docLinkHtml = 'Like what you see? Visit the ' +\n",
              "            '<a target=\"_blank\" href=https://colab.research.google.com/notebooks/data_table.ipynb>data table notebook</a>'\n",
              "            + ' to learn more about interactive tables.';\n",
              "          element.innerHTML = '';\n",
              "          dataTable['output_type'] = 'display_data';\n",
              "          await google.colab.output.renderOutput(dataTable, element);\n",
              "          const docLink = document.createElement('div');\n",
              "          docLink.innerHTML = docLinkHtml;\n",
              "          element.appendChild(docLink);\n",
              "        }\n",
              "      </script>\n",
              "    </div>\n",
              "  </div>\n",
              "  "
            ]
          },
          "metadata": {},
          "execution_count": 18
        }
      ]
    },
    {
      "cell_type": "code",
      "source": [
        "# 총 29개의 column\n",
        "train.shape"
      ],
      "metadata": {
        "colab": {
          "base_uri": "https://localhost:8080/"
        },
        "id": "LZL6dI1KiUkZ",
        "outputId": "cc3d31af-70db-45b7-da00-ac243ef8e3e7"
      },
      "execution_count": null,
      "outputs": [
        {
          "output_type": "execute_result",
          "data": {
            "text/plain": [
              "(4446965, 29)"
            ]
          },
          "metadata": {},
          "execution_count": 25
        }
      ]
    },
    {
      "cell_type": "markdown",
      "source": [
        "### 데이터의 타입 및 분포 확인"
      ],
      "metadata": {
        "id": "PmVPYpRch7G6"
      }
    },
    {
      "cell_type": "code",
      "source": [
        "train.info()"
      ],
      "metadata": {
        "colab": {
          "base_uri": "https://localhost:8080/"
        },
        "id": "P_PJtHM1iNWb",
        "outputId": "ec4ba7db-343b-4021-a740-3c352c2ea02d"
      },
      "execution_count": null,
      "outputs": [
        {
          "output_type": "stream",
          "name": "stdout",
          "text": [
            "<class 'pandas.core.frame.DataFrame'>\n",
            "Int64Index: 4446965 entries, 0 to 4446965\n",
            "Data columns (total 29 columns):\n",
            " #   Column           Dtype  \n",
            "---  ------           -----  \n",
            " 0   Id               object \n",
            " 1   groupId          object \n",
            " 2   matchId          object \n",
            " 3   assists          int64  \n",
            " 4   boosts           int64  \n",
            " 5   damageDealt      float64\n",
            " 6   DBNOs            int64  \n",
            " 7   headshotKills    int64  \n",
            " 8   heals            int64  \n",
            " 9   killPlace        int64  \n",
            " 10  killPoints       int64  \n",
            " 11  kills            int64  \n",
            " 12  killStreaks      int64  \n",
            " 13  longestKill      float64\n",
            " 14  matchDuration    int64  \n",
            " 15  matchType        object \n",
            " 16  maxPlace         int64  \n",
            " 17  numGroups        int64  \n",
            " 18  rankPoints       int64  \n",
            " 19  revives          int64  \n",
            " 20  rideDistance     float64\n",
            " 21  roadKills        int64  \n",
            " 22  swimDistance     float64\n",
            " 23  teamKills        int64  \n",
            " 24  vehicleDestroys  int64  \n",
            " 25  walkDistance     float64\n",
            " 26  weaponsAcquired  int64  \n",
            " 27  winPoints        int64  \n",
            " 28  winPlacePerc     float64\n",
            "dtypes: float64(6), int64(19), object(4)\n",
            "memory usage: 1017.8+ MB\n"
          ]
        }
      ]
    },
    {
      "cell_type": "code",
      "source": [
        "train.describe()"
      ],
      "metadata": {
        "colab": {
          "base_uri": "https://localhost:8080/",
          "height": 364
        },
        "id": "rsh9QkmliEUa",
        "outputId": "23785767-679f-41ae-f866-f7e642683657"
      },
      "execution_count": null,
      "outputs": [
        {
          "output_type": "execute_result",
          "data": {
            "text/plain": [
              "            assists        boosts   damageDealt         DBNOs  headshotKills  \\\n",
              "count 4446965.00000 4446965.00000 4446965.00000 4446965.00000  4446965.00000   \n",
              "mean        0.23381       1.10691     130.71717       0.65788        0.22682   \n",
              "std         0.58857       1.71579     170.78063       1.14574        0.60216   \n",
              "min         0.00000       0.00000       0.00000       0.00000        0.00000   \n",
              "25%         0.00000       0.00000       0.00000       0.00000        0.00000   \n",
              "50%         0.00000       0.00000      84.24000       0.00000        0.00000   \n",
              "75%         0.00000       2.00000     186.00000       1.00000        0.00000   \n",
              "max        22.00000      33.00000    6616.00000      53.00000       64.00000   \n",
              "\n",
              "              heals     killPlace    killPoints         kills   killStreaks  \\\n",
              "count 4446965.00000 4446965.00000 4446965.00000 4446965.00000 4446965.00000   \n",
              "mean        1.37015      47.59936     505.00616       0.92478       0.54396   \n",
              "std         2.67998      27.46293     627.50492       1.55844       0.71097   \n",
              "min         0.00000       1.00000       0.00000       0.00000       0.00000   \n",
              "25%         0.00000      24.00000       0.00000       0.00000       0.00000   \n",
              "50%         0.00000      47.00000       0.00000       0.00000       0.00000   \n",
              "75%         2.00000      71.00000    1172.00000       1.00000       1.00000   \n",
              "max        80.00000     101.00000    2170.00000      72.00000      20.00000   \n",
              "\n",
              "        longestKill  matchDuration      maxPlace     numGroups    rankPoints  \\\n",
              "count 4446965.00000  4446965.00000 4446965.00000 4446965.00000 4446965.00000   \n",
              "mean       22.99760     1579.50679      44.50468      43.00760     892.01030   \n",
              "std        50.97262      258.73881      23.82810      23.28949     736.64779   \n",
              "min         0.00000      133.00000       2.00000       1.00000      -1.00000   \n",
              "25%         0.00000     1367.00000      28.00000      27.00000      -1.00000   \n",
              "50%         0.00000     1438.00000      30.00000      30.00000    1443.00000   \n",
              "75%        21.32000     1851.00000      49.00000      47.00000    1500.00000   \n",
              "max      1094.00000     2237.00000     100.00000     100.00000    5910.00000   \n",
              "\n",
              "            revives  rideDistance     roadKills  swimDistance     teamKills  \\\n",
              "count 4446965.00000 4446965.00000 4446965.00000 4446965.00000 4446965.00000   \n",
              "mean        0.16466     606.11581       0.00350       4.50932       0.02387   \n",
              "std         0.47217    1498.34365       0.07337      30.50220       0.16739   \n",
              "min         0.00000       0.00000       0.00000       0.00000       0.00000   \n",
              "25%         0.00000       0.00000       0.00000       0.00000       0.00000   \n",
              "50%         0.00000       0.00000       0.00000       0.00000       0.00000   \n",
              "75%         0.00000       0.19100       0.00000       0.00000       0.00000   \n",
              "max        39.00000   40710.00000      18.00000    3823.00000      12.00000   \n",
              "\n",
              "       vehicleDestroys  walkDistance  weaponsAcquired     winPoints  \\\n",
              "count    4446965.00000 4446965.00000    4446965.00000 4446965.00000   \n",
              "mean           0.00792    1154.21812          3.66049     606.46027   \n",
              "std            0.09261    1183.49705          2.45654     739.70047   \n",
              "min            0.00000       0.00000          0.00000       0.00000   \n",
              "25%            0.00000     155.10000          2.00000       0.00000   \n",
              "50%            0.00000     685.60000          3.00000       0.00000   \n",
              "75%            0.00000    1976.00000          5.00000    1495.00000   \n",
              "max            5.00000   25780.00000        236.00000    2013.00000   \n",
              "\n",
              "       winPlacePerc  \n",
              "count 4446965.00000  \n",
              "mean        0.47282  \n",
              "std         0.30740  \n",
              "min         0.00000  \n",
              "25%         0.20000  \n",
              "50%         0.45830  \n",
              "75%         0.74070  \n",
              "max         1.00000  "
            ],
            "text/html": [
              "\n",
              "  <div id=\"df-76ee5d9c-46b4-4a31-a2ed-3064439399bc\">\n",
              "    <div class=\"colab-df-container\">\n",
              "      <div>\n",
              "<style scoped>\n",
              "    .dataframe tbody tr th:only-of-type {\n",
              "        vertical-align: middle;\n",
              "    }\n",
              "\n",
              "    .dataframe tbody tr th {\n",
              "        vertical-align: top;\n",
              "    }\n",
              "\n",
              "    .dataframe thead th {\n",
              "        text-align: right;\n",
              "    }\n",
              "</style>\n",
              "<table border=\"1\" class=\"dataframe\">\n",
              "  <thead>\n",
              "    <tr style=\"text-align: right;\">\n",
              "      <th></th>\n",
              "      <th>assists</th>\n",
              "      <th>boosts</th>\n",
              "      <th>damageDealt</th>\n",
              "      <th>DBNOs</th>\n",
              "      <th>headshotKills</th>\n",
              "      <th>heals</th>\n",
              "      <th>killPlace</th>\n",
              "      <th>killPoints</th>\n",
              "      <th>kills</th>\n",
              "      <th>killStreaks</th>\n",
              "      <th>longestKill</th>\n",
              "      <th>matchDuration</th>\n",
              "      <th>maxPlace</th>\n",
              "      <th>numGroups</th>\n",
              "      <th>rankPoints</th>\n",
              "      <th>revives</th>\n",
              "      <th>rideDistance</th>\n",
              "      <th>roadKills</th>\n",
              "      <th>swimDistance</th>\n",
              "      <th>teamKills</th>\n",
              "      <th>vehicleDestroys</th>\n",
              "      <th>walkDistance</th>\n",
              "      <th>weaponsAcquired</th>\n",
              "      <th>winPoints</th>\n",
              "      <th>winPlacePerc</th>\n",
              "    </tr>\n",
              "  </thead>\n",
              "  <tbody>\n",
              "    <tr>\n",
              "      <th>count</th>\n",
              "      <td>4446965.00000</td>\n",
              "      <td>4446965.00000</td>\n",
              "      <td>4446965.00000</td>\n",
              "      <td>4446965.00000</td>\n",
              "      <td>4446965.00000</td>\n",
              "      <td>4446965.00000</td>\n",
              "      <td>4446965.00000</td>\n",
              "      <td>4446965.00000</td>\n",
              "      <td>4446965.00000</td>\n",
              "      <td>4446965.00000</td>\n",
              "      <td>4446965.00000</td>\n",
              "      <td>4446965.00000</td>\n",
              "      <td>4446965.00000</td>\n",
              "      <td>4446965.00000</td>\n",
              "      <td>4446965.00000</td>\n",
              "      <td>4446965.00000</td>\n",
              "      <td>4446965.00000</td>\n",
              "      <td>4446965.00000</td>\n",
              "      <td>4446965.00000</td>\n",
              "      <td>4446965.00000</td>\n",
              "      <td>4446965.00000</td>\n",
              "      <td>4446965.00000</td>\n",
              "      <td>4446965.00000</td>\n",
              "      <td>4446965.00000</td>\n",
              "      <td>4446965.00000</td>\n",
              "    </tr>\n",
              "    <tr>\n",
              "      <th>mean</th>\n",
              "      <td>0.23381</td>\n",
              "      <td>1.10691</td>\n",
              "      <td>130.71717</td>\n",
              "      <td>0.65788</td>\n",
              "      <td>0.22682</td>\n",
              "      <td>1.37015</td>\n",
              "      <td>47.59936</td>\n",
              "      <td>505.00616</td>\n",
              "      <td>0.92478</td>\n",
              "      <td>0.54396</td>\n",
              "      <td>22.99760</td>\n",
              "      <td>1579.50679</td>\n",
              "      <td>44.50468</td>\n",
              "      <td>43.00760</td>\n",
              "      <td>892.01030</td>\n",
              "      <td>0.16466</td>\n",
              "      <td>606.11581</td>\n",
              "      <td>0.00350</td>\n",
              "      <td>4.50932</td>\n",
              "      <td>0.02387</td>\n",
              "      <td>0.00792</td>\n",
              "      <td>1154.21812</td>\n",
              "      <td>3.66049</td>\n",
              "      <td>606.46027</td>\n",
              "      <td>0.47282</td>\n",
              "    </tr>\n",
              "    <tr>\n",
              "      <th>std</th>\n",
              "      <td>0.58857</td>\n",
              "      <td>1.71579</td>\n",
              "      <td>170.78063</td>\n",
              "      <td>1.14574</td>\n",
              "      <td>0.60216</td>\n",
              "      <td>2.67998</td>\n",
              "      <td>27.46293</td>\n",
              "      <td>627.50492</td>\n",
              "      <td>1.55844</td>\n",
              "      <td>0.71097</td>\n",
              "      <td>50.97262</td>\n",
              "      <td>258.73881</td>\n",
              "      <td>23.82810</td>\n",
              "      <td>23.28949</td>\n",
              "      <td>736.64779</td>\n",
              "      <td>0.47217</td>\n",
              "      <td>1498.34365</td>\n",
              "      <td>0.07337</td>\n",
              "      <td>30.50220</td>\n",
              "      <td>0.16739</td>\n",
              "      <td>0.09261</td>\n",
              "      <td>1183.49705</td>\n",
              "      <td>2.45654</td>\n",
              "      <td>739.70047</td>\n",
              "      <td>0.30740</td>\n",
              "    </tr>\n",
              "    <tr>\n",
              "      <th>min</th>\n",
              "      <td>0.00000</td>\n",
              "      <td>0.00000</td>\n",
              "      <td>0.00000</td>\n",
              "      <td>0.00000</td>\n",
              "      <td>0.00000</td>\n",
              "      <td>0.00000</td>\n",
              "      <td>1.00000</td>\n",
              "      <td>0.00000</td>\n",
              "      <td>0.00000</td>\n",
              "      <td>0.00000</td>\n",
              "      <td>0.00000</td>\n",
              "      <td>133.00000</td>\n",
              "      <td>2.00000</td>\n",
              "      <td>1.00000</td>\n",
              "      <td>-1.00000</td>\n",
              "      <td>0.00000</td>\n",
              "      <td>0.00000</td>\n",
              "      <td>0.00000</td>\n",
              "      <td>0.00000</td>\n",
              "      <td>0.00000</td>\n",
              "      <td>0.00000</td>\n",
              "      <td>0.00000</td>\n",
              "      <td>0.00000</td>\n",
              "      <td>0.00000</td>\n",
              "      <td>0.00000</td>\n",
              "    </tr>\n",
              "    <tr>\n",
              "      <th>25%</th>\n",
              "      <td>0.00000</td>\n",
              "      <td>0.00000</td>\n",
              "      <td>0.00000</td>\n",
              "      <td>0.00000</td>\n",
              "      <td>0.00000</td>\n",
              "      <td>0.00000</td>\n",
              "      <td>24.00000</td>\n",
              "      <td>0.00000</td>\n",
              "      <td>0.00000</td>\n",
              "      <td>0.00000</td>\n",
              "      <td>0.00000</td>\n",
              "      <td>1367.00000</td>\n",
              "      <td>28.00000</td>\n",
              "      <td>27.00000</td>\n",
              "      <td>-1.00000</td>\n",
              "      <td>0.00000</td>\n",
              "      <td>0.00000</td>\n",
              "      <td>0.00000</td>\n",
              "      <td>0.00000</td>\n",
              "      <td>0.00000</td>\n",
              "      <td>0.00000</td>\n",
              "      <td>155.10000</td>\n",
              "      <td>2.00000</td>\n",
              "      <td>0.00000</td>\n",
              "      <td>0.20000</td>\n",
              "    </tr>\n",
              "    <tr>\n",
              "      <th>50%</th>\n",
              "      <td>0.00000</td>\n",
              "      <td>0.00000</td>\n",
              "      <td>84.24000</td>\n",
              "      <td>0.00000</td>\n",
              "      <td>0.00000</td>\n",
              "      <td>0.00000</td>\n",
              "      <td>47.00000</td>\n",
              "      <td>0.00000</td>\n",
              "      <td>0.00000</td>\n",
              "      <td>0.00000</td>\n",
              "      <td>0.00000</td>\n",
              "      <td>1438.00000</td>\n",
              "      <td>30.00000</td>\n",
              "      <td>30.00000</td>\n",
              "      <td>1443.00000</td>\n",
              "      <td>0.00000</td>\n",
              "      <td>0.00000</td>\n",
              "      <td>0.00000</td>\n",
              "      <td>0.00000</td>\n",
              "      <td>0.00000</td>\n",
              "      <td>0.00000</td>\n",
              "      <td>685.60000</td>\n",
              "      <td>3.00000</td>\n",
              "      <td>0.00000</td>\n",
              "      <td>0.45830</td>\n",
              "    </tr>\n",
              "    <tr>\n",
              "      <th>75%</th>\n",
              "      <td>0.00000</td>\n",
              "      <td>2.00000</td>\n",
              "      <td>186.00000</td>\n",
              "      <td>1.00000</td>\n",
              "      <td>0.00000</td>\n",
              "      <td>2.00000</td>\n",
              "      <td>71.00000</td>\n",
              "      <td>1172.00000</td>\n",
              "      <td>1.00000</td>\n",
              "      <td>1.00000</td>\n",
              "      <td>21.32000</td>\n",
              "      <td>1851.00000</td>\n",
              "      <td>49.00000</td>\n",
              "      <td>47.00000</td>\n",
              "      <td>1500.00000</td>\n",
              "      <td>0.00000</td>\n",
              "      <td>0.19100</td>\n",
              "      <td>0.00000</td>\n",
              "      <td>0.00000</td>\n",
              "      <td>0.00000</td>\n",
              "      <td>0.00000</td>\n",
              "      <td>1976.00000</td>\n",
              "      <td>5.00000</td>\n",
              "      <td>1495.00000</td>\n",
              "      <td>0.74070</td>\n",
              "    </tr>\n",
              "    <tr>\n",
              "      <th>max</th>\n",
              "      <td>22.00000</td>\n",
              "      <td>33.00000</td>\n",
              "      <td>6616.00000</td>\n",
              "      <td>53.00000</td>\n",
              "      <td>64.00000</td>\n",
              "      <td>80.00000</td>\n",
              "      <td>101.00000</td>\n",
              "      <td>2170.00000</td>\n",
              "      <td>72.00000</td>\n",
              "      <td>20.00000</td>\n",
              "      <td>1094.00000</td>\n",
              "      <td>2237.00000</td>\n",
              "      <td>100.00000</td>\n",
              "      <td>100.00000</td>\n",
              "      <td>5910.00000</td>\n",
              "      <td>39.00000</td>\n",
              "      <td>40710.00000</td>\n",
              "      <td>18.00000</td>\n",
              "      <td>3823.00000</td>\n",
              "      <td>12.00000</td>\n",
              "      <td>5.00000</td>\n",
              "      <td>25780.00000</td>\n",
              "      <td>236.00000</td>\n",
              "      <td>2013.00000</td>\n",
              "      <td>1.00000</td>\n",
              "    </tr>\n",
              "  </tbody>\n",
              "</table>\n",
              "</div>\n",
              "      <button class=\"colab-df-convert\" onclick=\"convertToInteractive('df-76ee5d9c-46b4-4a31-a2ed-3064439399bc')\"\n",
              "              title=\"Convert this dataframe to an interactive table.\"\n",
              "              style=\"display:none;\">\n",
              "        \n",
              "  <svg xmlns=\"http://www.w3.org/2000/svg\" height=\"24px\"viewBox=\"0 0 24 24\"\n",
              "       width=\"24px\">\n",
              "    <path d=\"M0 0h24v24H0V0z\" fill=\"none\"/>\n",
              "    <path d=\"M18.56 5.44l.94 2.06.94-2.06 2.06-.94-2.06-.94-.94-2.06-.94 2.06-2.06.94zm-11 1L8.5 8.5l.94-2.06 2.06-.94-2.06-.94L8.5 2.5l-.94 2.06-2.06.94zm10 10l.94 2.06.94-2.06 2.06-.94-2.06-.94-.94-2.06-.94 2.06-2.06.94z\"/><path d=\"M17.41 7.96l-1.37-1.37c-.4-.4-.92-.59-1.43-.59-.52 0-1.04.2-1.43.59L10.3 9.45l-7.72 7.72c-.78.78-.78 2.05 0 2.83L4 21.41c.39.39.9.59 1.41.59.51 0 1.02-.2 1.41-.59l7.78-7.78 2.81-2.81c.8-.78.8-2.07 0-2.86zM5.41 20L4 18.59l7.72-7.72 1.47 1.35L5.41 20z\"/>\n",
              "  </svg>\n",
              "      </button>\n",
              "      \n",
              "  <style>\n",
              "    .colab-df-container {\n",
              "      display:flex;\n",
              "      flex-wrap:wrap;\n",
              "      gap: 12px;\n",
              "    }\n",
              "\n",
              "    .colab-df-convert {\n",
              "      background-color: #E8F0FE;\n",
              "      border: none;\n",
              "      border-radius: 50%;\n",
              "      cursor: pointer;\n",
              "      display: none;\n",
              "      fill: #1967D2;\n",
              "      height: 32px;\n",
              "      padding: 0 0 0 0;\n",
              "      width: 32px;\n",
              "    }\n",
              "\n",
              "    .colab-df-convert:hover {\n",
              "      background-color: #E2EBFA;\n",
              "      box-shadow: 0px 1px 2px rgba(60, 64, 67, 0.3), 0px 1px 3px 1px rgba(60, 64, 67, 0.15);\n",
              "      fill: #174EA6;\n",
              "    }\n",
              "\n",
              "    [theme=dark] .colab-df-convert {\n",
              "      background-color: #3B4455;\n",
              "      fill: #D2E3FC;\n",
              "    }\n",
              "\n",
              "    [theme=dark] .colab-df-convert:hover {\n",
              "      background-color: #434B5C;\n",
              "      box-shadow: 0px 1px 3px 1px rgba(0, 0, 0, 0.15);\n",
              "      filter: drop-shadow(0px 1px 2px rgba(0, 0, 0, 0.3));\n",
              "      fill: #FFFFFF;\n",
              "    }\n",
              "  </style>\n",
              "\n",
              "      <script>\n",
              "        const buttonEl =\n",
              "          document.querySelector('#df-76ee5d9c-46b4-4a31-a2ed-3064439399bc button.colab-df-convert');\n",
              "        buttonEl.style.display =\n",
              "          google.colab.kernel.accessAllowed ? 'block' : 'none';\n",
              "\n",
              "        async function convertToInteractive(key) {\n",
              "          const element = document.querySelector('#df-76ee5d9c-46b4-4a31-a2ed-3064439399bc');\n",
              "          const dataTable =\n",
              "            await google.colab.kernel.invokeFunction('convertToInteractive',\n",
              "                                                     [key], {});\n",
              "          if (!dataTable) return;\n",
              "\n",
              "          const docLinkHtml = 'Like what you see? Visit the ' +\n",
              "            '<a target=\"_blank\" href=https://colab.research.google.com/notebooks/data_table.ipynb>data table notebook</a>'\n",
              "            + ' to learn more about interactive tables.';\n",
              "          element.innerHTML = '';\n",
              "          dataTable['output_type'] = 'display_data';\n",
              "          await google.colab.output.renderOutput(dataTable, element);\n",
              "          const docLink = document.createElement('div');\n",
              "          docLink.innerHTML = docLinkHtml;\n",
              "          element.appendChild(docLink);\n",
              "        }\n",
              "      </script>\n",
              "    </div>\n",
              "  </div>\n",
              "  "
            ]
          },
          "metadata": {},
          "execution_count": 22
        }
      ]
    },
    {
      "cell_type": "code",
      "source": [
        "cols_list = train.columns[1:]\n",
        "print(cols_list)\n",
        "\n",
        "train[cols_list].hist(figsize=(35, 21), grid=True, layout=(6,5), bins=20)\n",
        "plt.show()"
      ],
      "metadata": {
        "colab": {
          "base_uri": "https://localhost:8080/",
          "height": 856
        },
        "id": "KiAnRvhwhXRy",
        "outputId": "cc5d44ef-6692-45a0-9979-4ae011f47d0f"
      },
      "execution_count": null,
      "outputs": [
        {
          "output_type": "stream",
          "name": "stdout",
          "text": [
            "Index(['groupId', 'matchId', 'assists', 'boosts', 'damageDealt', 'DBNOs',\n",
            "       'headshotKills', 'heals', 'killPlace', 'killPoints', 'kills',\n",
            "       'killStreaks', 'longestKill', 'matchDuration', 'matchType', 'maxPlace',\n",
            "       'numGroups', 'rankPoints', 'revives', 'rideDistance', 'roadKills',\n",
            "       'swimDistance', 'teamKills', 'vehicleDestroys', 'walkDistance',\n",
            "       'weaponsAcquired', 'winPoints', 'winPlacePerc'],\n",
            "      dtype='object')\n"
          ]
        },
        {
          "output_type": "display_data",
          "data": {
            "text/plain": [
              "<Figure size 2520x1512 with 30 Axes>"
            ],
            "image/png": "[encoded data removed]"
          },
          "metadata": {
            "needs_background": "light"
          }
        }
      ]
    },
    {
      "cell_type": "code",
      "source": [
        "fig, ax = plt.subplots(2, 2, figsize=(16, 8))\n",
        "\n",
        "cols = ['killStreaks','DBNOs']\n",
        "for col, ax in zip(cols, ax):\n",
        "    sub = train[['winPlacePerc',col]].copy()\n",
        "    sub[col] = pd.cut(sub[col], 6)\n",
        "    sub.groupby(col).mean()['winPlacePerc'].plot.bar(ax=ax[0])\n",
        "    train[col].hist(bins=20, ax=ax[1])"
      ],
      "metadata": {
        "colab": {
          "base_uri": "https://localhost:8080/",
          "height": 581
        },
        "id": "oiEQbDREojru",
        "outputId": "b17a0111-8231-4ea9-85d4-d9f57f6fa99c"
      },
      "execution_count": null,
      "outputs": [
        {
          "output_type": "display_data",
          "data": {
            "text/plain": [
              "<Figure size 1152x576 with 4 Axes>"
            ],
            "image/png": "[encoded data removed]"
          },
          "metadata": {
            "needs_background": "light"
          }
        }
      ]
    },
    {
      "cell_type": "code",
      "source": [
        "fig, ax = plt.subplots(1, 2, figsize=(16, 4))\n",
        "\n",
        "col = 'longestKill'\n",
        "sub = train[['winPlacePerc',col]].copy()\n",
        "sub[col] = pd.cut(sub[col], 6)\n",
        "sub.groupby(col).mean()['winPlacePerc'].plot.bar(ax=ax[0])\n",
        "train[col].hist(bins=20, ax=ax[1])"
      ],
      "metadata": {
        "colab": {
          "base_uri": "https://localhost:8080/",
          "height": 396
        },
        "id": "2_5qaVWZo4f8",
        "outputId": "e2974245-8d6d-4595-937e-4440ad362cee"
      },
      "execution_count": null,
      "outputs": [
        {
          "output_type": "execute_result",
          "data": {
            "text/plain": [
              "<matplotlib.axes._subplots.AxesSubplot at 0x7f82731a1150>"
            ]
          },
          "metadata": {},
          "execution_count": 29
        },
        {
          "output_type": "display_data",
          "data": {
            "text/plain": [
              "<Figure size 1152x288 with 2 Axes>"
            ],
            "image/png": "[encoded data removed]"
          },
          "metadata": {
            "needs_background": "light"
          }
        }
      ]
    },
    {
      "cell_type": "markdown",
      "source": [
        "### 피쳐간 상관관계 확인"
      ],
      "metadata": {
        "id": "FOYC0Fq-zpBD"
      }
    },
    {
      "cell_type": "code",
      "source": [
        "num_cols = ['assists', 'boosts', 'damageDealt', 'DBNOs',\n",
        "       'headshotKills', 'heals', 'killPlace', 'killPoints', 'kills',\n",
        "       'killStreaks', 'longestKill', 'matchDuration', 'maxPlace',\n",
        "       'numGroups', 'rankPoints', 'revives', 'rideDistance', 'roadKills',\n",
        "       'swimDistance', 'teamKills', 'vehicleDestroys', 'walkDistance',\n",
        "       'weaponsAcquired', 'winPoints', 'matchType', 'winPlacePerc']"
      ],
      "metadata": {
        "id": "qTRIFZzGAnp5"
      },
      "execution_count": null,
      "outputs": []
    },
    {
      "cell_type": "code",
      "source": [
        "def corr_heat(df):\n",
        "  plt.figure(figsize=(21, 15))\n",
        "\n",
        "  corr_df = df.corr()\n",
        "  # display(corr_df)\n",
        "\n",
        "  mask = np.zeros_like(corr_df)\n",
        "  mask[np.triu_indices_from(mask)] = 1\n",
        "  heat_map = sns.heatmap(corr_df, annot=True, mask=mask, cmap='coolwarm')\n",
        "  heat_map.set_xticklabels(heat_map.get_xticklabels(), fontsize=12, rotation=45)\n",
        "  heat_map.set_yticklabels(heat_map.get_yticklabels(), fontsize=12)\n",
        "  plt.title('corr between features', fontsize=15)\n",
        "  plt.show()\n",
        "\n",
        "corr_heat(train[num_cols])"
      ],
      "metadata": {
        "colab": {
          "base_uri": "https://localhost:8080/",
          "height": 956
        },
        "id": "wgwdQObDA8De",
        "outputId": "df6a7cef-43df-412f-ff6b-18eac4785648"
      },
      "execution_count": null,
      "outputs": [
        {
          "output_type": "display_data",
          "data": {
            "text/plain": [
              "<Figure size 1512x1080 with 2 Axes>"
            ],
            "image/png": "[encoded data removed]"
          },
          "metadata": {
            "needs_background": "light"
          }
        }
      ]
    },
    {
      "cell_type": "code",
      "source": [
        "drop_columns = ['winPlacePerc','killPoints', 'matchDuration', 'maxPlace', 'numGroups', 'rankPoints', 'roadKills', 'winPoints', 'teamKills', 'vehicleDestroys', 'matchType']"
      ],
      "metadata": {
        "id": "RE2j1AjG3cjF"
      },
      "execution_count": null,
      "outputs": []
    },
    {
      "cell_type": "code",
      "source": [
        "train0 = train.drop(['Id'], axis=1)"
      ],
      "metadata": {
        "id": "DgtUK3fR3ujj"
      },
      "execution_count": null,
      "outputs": []
    },
    {
      "cell_type": "code",
      "execution_count": null,
      "metadata": {
        "canvas": {
          "comments": [],
          "componentType": "CodeCell",
          "copiedOriginId": null,
          "headerColor": "none",
          "id": "ac530720-7b26-4fed-8d66-e04a140de516",
          "isComponent": false,
          "name": "",
          "parents": []
        },
        "id": "-dDCx0DweYUh"
      },
      "outputs": [],
      "source": [
        "X = train0.drop(drop_columns, axis=1)\n",
        "y = train0['winPlacePerc']"
      ]
    },
    {
      "cell_type": "code",
      "execution_count": null,
      "metadata": {
        "canvas": {
          "comments": [],
          "componentType": "CodeCell",
          "copiedOriginId": null,
          "headerColor": "none",
          "id": "9a3245b3-83be-4651-b89f-9e1aa8333c5b",
          "isComponent": false,
          "name": "",
          "parents": []
        },
        "id": "i2u_BAIReYUi"
      },
      "outputs": [],
      "source": [
        "trnx, tstx, trny, tsty = train_test_split(X, y, test_size=.3, random_state=521)"
      ]
    },
    {
      "cell_type": "markdown",
      "source": [
        "### Linear Regression"
      ],
      "metadata": {
        "id": "0PwBI6g54cIt"
      }
    },
    {
      "cell_type": "code",
      "execution_count": null,
      "metadata": {
        "canvas": {
          "comments": [],
          "componentType": "CodeCell",
          "copiedOriginId": null,
          "headerColor": "none",
          "id": "fe632752-12bf-4397-961f-459f7c277bf1",
          "isComponent": false,
          "name": "",
          "parents": []
        },
        "id": "LoQjLMnHeYUi",
        "colab": {
          "base_uri": "https://localhost:8080/"
        },
        "outputId": "42589698-614e-4297-d0c5-b74bf9fe2e51"
      },
      "outputs": [
        {
          "output_type": "execute_result",
          "data": {
            "text/plain": [
              "LinearRegression()"
            ]
          },
          "metadata": {},
          "execution_count": 66
        }
      ],
      "source": [
        "model = LinearRegression()\n",
        "model.fit(trnx, trny)"
      ]
    },
    {
      "cell_type": "code",
      "execution_count": null,
      "metadata": {
        "canvas": {
          "comments": [],
          "componentType": "CodeCell",
          "copiedOriginId": null,
          "headerColor": "none",
          "id": "3f0369e2-40ba-4b48-98ad-180e5b2502d8",
          "isComponent": false,
          "name": "",
          "parents": []
        },
        "colab": {
          "base_uri": "https://localhost:8080/"
        },
        "outputId": "aed8caeb-d440-4a63-ed1b-415969756c57",
        "scrolled": true,
        "id": "0dWiSakqeYUi"
      },
      "outputs": [
        {
          "output_type": "execute_result",
          "data": {
            "text/plain": [
              "0.8053672579795101"
            ]
          },
          "metadata": {},
          "execution_count": 67
        }
      ],
      "source": [
        "model.score(tstx, tsty)"
      ]
    },
    {
      "cell_type": "code",
      "source": [
        "print_score(model, trnx, trny, tstx, tsty)"
      ],
      "metadata": {
        "colab": {
          "base_uri": "https://localhost:8080/"
        },
        "id": "QrZeLAyJ4K4a",
        "outputId": "c555846a-e524-47a6-be36-133157192615"
      },
      "execution_count": null,
      "outputs": [
        {
          "output_type": "stream",
          "name": "stdout",
          "text": [
            "['mae train: ', 0.09951167224938137, 'mae val: ', 0.0994957286385844]\n"
          ]
        }
      ]
    },
    {
      "cell_type": "markdown",
      "source": [
        "# MAE"
      ],
      "metadata": {
        "id": "m-84kZezrHdf"
      }
    },
    {
      "cell_type": "code",
      "source": [
        "from sklearn.metrics import mean_absolute_error\n",
        "\n",
        "def print_score(m : RandomForestRegressor, trnx,trny,tstx,tsty):\n",
        "    res = ['mae train: ', mean_absolute_error(m.predict(trnx), trny), \n",
        "           'mae val: ', mean_absolute_error(m.predict(tstx), tsty)]\n",
        "    if hasattr(m, 'oob_score_'): res.append(m.oob_score_)\n",
        "    print(res)"
      ],
      "metadata": {
        "id": "EbmsNuZorJXl"
      },
      "execution_count": null,
      "outputs": []
    },
    {
      "cell_type": "markdown",
      "source": [
        "# 1. 기본적인 전처리"
      ],
      "metadata": {
        "id": "qt9m2fUti0R3"
      }
    },
    {
      "cell_type": "markdown",
      "source": [
        "### 결측치 확인 및 제거"
      ],
      "metadata": {
        "id": "-iCyo3YNnAZQ"
      }
    },
    {
      "cell_type": "code",
      "source": [
        "def check_missing_value(df):\n",
        "  missing_values = df.isnull().sum().sort_values(ascending=False)\n",
        "  missing_percentage = (missing_values / len(df)) * 100\n",
        "  result = pd.concat([missing_values, missing_percentage], axis=1, keys=['Missing values', '% Missing'])\n",
        "  display(result)\n",
        "check_missing_value(train)"
      ],
      "metadata": {
        "id": "ibP5AqusT4Tb"
      },
      "execution_count": null,
      "outputs": []
    },
    {
      "cell_type": "code",
      "source": [
        "train.dropna(inplace=True)"
      ],
      "metadata": {
        "id": "m2bm2dEtUHgW"
      },
      "execution_count": null,
      "outputs": []
    },
    {
      "cell_type": "markdown",
      "source": [
        "### 카테고리 변수 인코딩"
      ],
      "metadata": {
        "id": "ofEwJc4GnE16"
      }
    },
    {
      "cell_type": "code",
      "source": [
        "label_encoder = LabelEncoder()"
      ],
      "metadata": {
        "id": "5BJaO9atgGEh"
      },
      "execution_count": null,
      "outputs": []
    },
    {
      "cell_type": "code",
      "source": [
        "train['matchType'] = label_encoder.fit_transform(train['matchType'])\n",
        "train['groupId'] = label_encoder.fit_transform(train['groupId'])\n",
        "train['matchId'] = label_encoder.fit_transform(train['matchId'])"
      ],
      "metadata": {
        "id": "QH6n_K1-gHPK"
      },
      "execution_count": null,
      "outputs": []
    },
    {
      "cell_type": "code",
      "source": [
        "# index와 똑같은 \n",
        "train1 = train.drop(columns = ['Id'])"
      ],
      "metadata": {
        "id": "C-1Jfm8MdqgP"
      },
      "execution_count": null,
      "outputs": []
    },
    {
      "cell_type": "markdown",
      "source": [
        "### 검증 데이터 준비"
      ],
      "metadata": {
        "id": "YpamC3exi81N"
      }
    },
    {
      "cell_type": "code",
      "source": [
        "X = train1.drop(['winPlacePerc','damageDealt', 'maxPlace', 'matchDuration', 'kills'], axis=1)\n",
        "y = train1['winPlacePerc']"
      ],
      "metadata": {
        "id": "fPtidf6ui81N"
      },
      "execution_count": null,
      "outputs": []
    },
    {
      "cell_type": "code",
      "execution_count": null,
      "metadata": {
        "canvas": {
          "comments": [],
          "componentType": "CodeCell",
          "copiedOriginId": null,
          "headerColor": "none",
          "id": "9a3245b3-83be-4651-b89f-9e1aa8333c5b",
          "isComponent": false,
          "name": "",
          "parents": []
        },
        "id": "RofZTiHTi81O"
      },
      "outputs": [],
      "source": [
        "trnx, tstx, trny, tsty = train_test_split(X, y, test_size=.3, random_state=634)"
      ]
    },
    {
      "cell_type": "markdown",
      "source": [
        "### Multi Layer Perceptron"
      ],
      "metadata": {
        "id": "Vt9Tt6dZRvDA"
      }
    },
    {
      "cell_type": "code",
      "source": [
        "# Model 생성\n",
        "model = Sequential([\n",
        "    layers.Dense(128, activation='relu', input_shape=(trnx.shape[1],)),\n",
        "    layers.Dense(256, activation='relu'),\n",
        "    layers.Dense(128, activation='relu'),\n",
        "    layers.Dense(64, activation='relu'),\n",
        "    layers.Dense(1)])\n",
        "model.summary()\n"
      ],
      "metadata": {
        "colab": {
          "base_uri": "https://localhost:8080/"
        },
        "id": "CkPBN9R_D-Ql",
        "outputId": "b5bb70d2-15e4-4908-ea99-67cfb42804d9"
      },
      "execution_count": null,
      "outputs": [
        {
          "output_type": "stream",
          "name": "stdout",
          "text": [
            "Model: \"sequential\"\n",
            "_________________________________________________________________\n",
            " Layer (type)                Output Shape              Param #   \n",
            "=================================================================\n",
            " dense (Dense)               (None, 128)               3072      \n",
            "                                                                 \n",
            " dense_1 (Dense)             (None, 256)               33024     \n",
            "                                                                 \n",
            " dense_2 (Dense)             (None, 128)               32896     \n",
            "                                                                 \n",
            " dense_3 (Dense)             (None, 64)                8256      \n",
            "                                                                 \n",
            " dense_4 (Dense)             (None, 1)                 65        \n",
            "                                                                 \n",
            "=================================================================\n",
            "Total params: 77,313\n",
            "Trainable params: 77,313\n",
            "Non-trainable params: 0\n",
            "_________________________________________________________________\n"
          ]
        }
      ]
    },
    {
      "cell_type": "code",
      "source": [
        "model.compile(loss='mae', optimizer=\"Adam\", metrics=['mae'])\n",
        "history = model.fit(trnx, trny, batch_size=3000,  epochs=500, validation_data = [tstx,tsty])"
      ],
      "metadata": {
        "colab": {
          "base_uri": "https://localhost:8080/"
        },
        "id": "y2cg7Sv4El7O",
        "outputId": "039ce130-0080-46f5-a7f8-efe0d072732c"
      },
      "execution_count": null,
      "outputs": [
        {
          "output_type": "stream",
          "name": "stdout",
          "text": [
            "Epoch 1/500\n",
            "1038/1038 [==============================] - 9s 5ms/step - loss: 1392.7341 - mae: 1392.7341 - val_loss: 10.9919 - val_mae: 10.9919\n",
            "Epoch 2/500\n",
            "1038/1038 [==============================] - 5s 5ms/step - loss: 42.5380 - mae: 42.5380 - val_loss: 7.5237 - val_mae: 7.5237\n",
            "Epoch 3/500\n",
            "1038/1038 [==============================] - 5s 5ms/step - loss: 20.9447 - mae: 20.9447 - val_loss: 0.2971 - val_mae: 0.2971\n",
            "Epoch 4/500\n",
            "1038/1038 [==============================] - 6s 5ms/step - loss: 0.2953 - mae: 0.2953 - val_loss: 0.2989 - val_mae: 0.2989\n",
            "Epoch 5/500\n",
            "1038/1038 [==============================] - 5s 5ms/step - loss: 0.2905 - mae: 0.2905 - val_loss: 0.3094 - val_mae: 0.3094\n",
            "Epoch 6/500\n",
            "1038/1038 [==============================] - 5s 5ms/step - loss: 0.2871 - mae: 0.2871 - val_loss: 0.2741 - val_mae: 0.2741\n",
            "Epoch 7/500\n",
            "1038/1038 [==============================] - 5s 5ms/step - loss: 0.2798 - mae: 0.2798 - val_loss: 0.2789 - val_mae: 0.2789\n",
            "Epoch 8/500\n",
            "1038/1038 [==============================] - 5s 5ms/step - loss: 0.2752 - mae: 0.2752 - val_loss: 0.2696 - val_mae: 0.2696\n",
            "Epoch 9/500\n",
            "1038/1038 [==============================] - 5s 5ms/step - loss: 141.0051 - mae: 141.0051 - val_loss: 0.2677 - val_mae: 0.2677\n",
            "Epoch 10/500\n",
            "1038/1038 [==============================] - 5s 5ms/step - loss: 0.2677 - mae: 0.2677 - val_loss: 0.2677 - val_mae: 0.2677\n",
            "Epoch 11/500\n",
            "1038/1038 [==============================] - 5s 5ms/step - loss: 0.2675 - mae: 0.2675 - val_loss: 0.2678 - val_mae: 0.2678\n",
            "Epoch 12/500\n",
            "1038/1038 [==============================] - 5s 5ms/step - loss: 0.2677 - mae: 0.2677 - val_loss: 0.2677 - val_mae: 0.2677\n",
            "Epoch 13/500\n",
            "1038/1038 [==============================] - 5s 5ms/step - loss: 0.2676 - mae: 0.2676 - val_loss: 0.2678 - val_mae: 0.2678\n",
            "Epoch 14/500\n",
            "1038/1038 [==============================] - 5s 5ms/step - loss: 0.2677 - mae: 0.2677 - val_loss: 0.2678 - val_mae: 0.2678\n",
            "Epoch 15/500\n",
            "1038/1038 [==============================] - 5s 5ms/step - loss: 0.2677 - mae: 0.2677 - val_loss: 0.2677 - val_mae: 0.2677\n",
            "Epoch 16/500\n",
            "1038/1038 [==============================] - 5s 5ms/step - loss: 0.2677 - mae: 0.2677 - val_loss: 0.2678 - val_mae: 0.2678\n",
            "Epoch 17/500\n",
            "1038/1038 [==============================] - 5s 5ms/step - loss: 0.2677 - mae: 0.2677 - val_loss: 0.2678 - val_mae: 0.2678\n",
            "Epoch 18/500\n",
            "1038/1038 [==============================] - 5s 5ms/step - loss: 0.2679 - mae: 0.2679 - val_loss: 0.2678 - val_mae: 0.2678\n",
            "Epoch 19/500\n",
            "1038/1038 [==============================] - 5s 5ms/step - loss: 0.2677 - mae: 0.2677 - val_loss: 0.2678 - val_mae: 0.2678\n",
            "Epoch 20/500\n",
            "1038/1038 [==============================] - 7s 6ms/step - loss: 0.2677 - mae: 0.2677 - val_loss: 0.2678 - val_mae: 0.2678\n",
            "Epoch 21/500\n",
            "1038/1038 [==============================] - 5s 5ms/step - loss: 0.2677 - mae: 0.2677 - val_loss: 0.2678 - val_mae: 0.2678\n",
            "Epoch 22/500\n",
            "1038/1038 [==============================] - 5s 5ms/step - loss: 0.2677 - mae: 0.2677 - val_loss: 0.2678 - val_mae: 0.2678\n",
            "Epoch 23/500\n",
            "1038/1038 [==============================] - 5s 5ms/step - loss: 0.2677 - mae: 0.2677 - val_loss: 0.2678 - val_mae: 0.2678\n",
            "Epoch 24/500\n",
            "1038/1038 [==============================] - 5s 5ms/step - loss: 0.2677 - mae: 0.2677 - val_loss: 0.2678 - val_mae: 0.2678\n",
            "Epoch 25/500\n",
            "1038/1038 [==============================] - 5s 5ms/step - loss: 0.2677 - mae: 0.2677 - val_loss: 0.2678 - val_mae: 0.2678\n",
            "Epoch 26/500\n",
            "1038/1038 [==============================] - 5s 5ms/step - loss: 0.2677 - mae: 0.2677 - val_loss: 0.2677 - val_mae: 0.2677\n",
            "Epoch 27/500\n",
            "1038/1038 [==============================] - 5s 5ms/step - loss: 0.2677 - mae: 0.2677 - val_loss: 0.2678 - val_mae: 0.2678\n",
            "Epoch 28/500\n",
            "1038/1038 [==============================] - 5s 5ms/step - loss: 0.2677 - mae: 0.2677 - val_loss: 0.2678 - val_mae: 0.2678\n",
            "Epoch 29/500\n",
            "1038/1038 [==============================] - 5s 5ms/step - loss: 0.2677 - mae: 0.2677 - val_loss: 0.2679 - val_mae: 0.2679\n",
            "Epoch 30/500\n",
            "1038/1038 [==============================] - 5s 5ms/step - loss: 0.2677 - mae: 0.2677 - val_loss: 0.2677 - val_mae: 0.2677\n",
            "Epoch 31/500\n",
            "1038/1038 [==============================] - 5s 5ms/step - loss: 0.2677 - mae: 0.2677 - val_loss: 0.2678 - val_mae: 0.2678\n",
            "Epoch 32/500\n",
            "1038/1038 [==============================] - 5s 5ms/step - loss: 0.2677 - mae: 0.2677 - val_loss: 0.2677 - val_mae: 0.2677\n",
            "Epoch 33/500\n",
            "1038/1038 [==============================] - 5s 5ms/step - loss: 0.2677 - mae: 0.2677 - val_loss: 0.2678 - val_mae: 0.2678\n",
            "Epoch 34/500\n",
            "1038/1038 [==============================] - 5s 5ms/step - loss: 0.2677 - mae: 0.2677 - val_loss: 0.2678 - val_mae: 0.2678\n",
            "Epoch 35/500\n",
            "1038/1038 [==============================] - 6s 6ms/step - loss: 0.2677 - mae: 0.2677 - val_loss: 0.2678 - val_mae: 0.2678\n",
            "Epoch 36/500\n",
            "1038/1038 [==============================] - 5s 5ms/step - loss: 0.2677 - mae: 0.2677 - val_loss: 0.2677 - val_mae: 0.2677\n",
            "Epoch 37/500\n",
            "1038/1038 [==============================] - 5s 5ms/step - loss: 0.2677 - mae: 0.2677 - val_loss: 0.2677 - val_mae: 0.2677\n",
            "Epoch 38/500\n",
            "1038/1038 [==============================] - 5s 5ms/step - loss: 0.2677 - mae: 0.2677 - val_loss: 0.2677 - val_mae: 0.2677\n",
            "Epoch 39/500\n",
            "1038/1038 [==============================] - 5s 5ms/step - loss: 0.2677 - mae: 0.2677 - val_loss: 0.2678 - val_mae: 0.2678\n",
            "Epoch 40/500\n",
            "1038/1038 [==============================] - 5s 5ms/step - loss: 0.2677 - mae: 0.2677 - val_loss: 0.2678 - val_mae: 0.2678\n",
            "Epoch 41/500\n",
            "1038/1038 [==============================] - 5s 5ms/step - loss: 0.2677 - mae: 0.2677 - val_loss: 0.2678 - val_mae: 0.2678\n",
            "Epoch 42/500\n",
            "1038/1038 [==============================] - 5s 5ms/step - loss: 0.2677 - mae: 0.2677 - val_loss: 0.2677 - val_mae: 0.2677\n",
            "Epoch 43/500\n",
            "1038/1038 [==============================] - 5s 5ms/step - loss: 0.2677 - mae: 0.2677 - val_loss: 0.2678 - val_mae: 0.2678\n",
            "Epoch 44/500\n",
            "1038/1038 [==============================] - 5s 5ms/step - loss: 0.2677 - mae: 0.2677 - val_loss: 0.2679 - val_mae: 0.2679\n",
            "Epoch 45/500\n",
            "1038/1038 [==============================] - 5s 5ms/step - loss: 0.2677 - mae: 0.2677 - val_loss: 0.2678 - val_mae: 0.2678\n",
            "Epoch 46/500\n",
            "1038/1038 [==============================] - 5s 5ms/step - loss: 0.2677 - mae: 0.2677 - val_loss: 0.2678 - val_mae: 0.2678\n",
            "Epoch 47/500\n",
            "1038/1038 [==============================] - 5s 5ms/step - loss: 0.2677 - mae: 0.2677 - val_loss: 0.2678 - val_mae: 0.2678\n",
            "Epoch 48/500\n",
            "1038/1038 [==============================] - 5s 5ms/step - loss: 0.2677 - mae: 0.2677 - val_loss: 0.2678 - val_mae: 0.2678\n",
            "Epoch 49/500\n",
            "1038/1038 [==============================] - 5s 5ms/step - loss: 0.2677 - mae: 0.2677 - val_loss: 0.2678 - val_mae: 0.2678\n",
            "Epoch 50/500\n",
            "1038/1038 [==============================] - 5s 5ms/step - loss: 0.2677 - mae: 0.2677 - val_loss: 0.2678 - val_mae: 0.2678\n",
            "Epoch 51/500\n",
            "1038/1038 [==============================] - 5s 5ms/step - loss: 0.2677 - mae: 0.2677 - val_loss: 0.2678 - val_mae: 0.2678\n",
            "Epoch 52/500\n",
            "1038/1038 [==============================] - 5s 5ms/step - loss: 0.2677 - mae: 0.2677 - val_loss: 0.2678 - val_mae: 0.2678\n",
            "Epoch 53/500\n",
            "1038/1038 [==============================] - 5s 5ms/step - loss: 0.2677 - mae: 0.2677 - val_loss: 0.2677 - val_mae: 0.2677\n",
            "Epoch 54/500\n",
            "1038/1038 [==============================] - 5s 5ms/step - loss: 0.2677 - mae: 0.2677 - val_loss: 0.2678 - val_mae: 0.2678\n",
            "Epoch 55/500\n",
            "1038/1038 [==============================] - 5s 5ms/step - loss: 0.2677 - mae: 0.2677 - val_loss: 0.2678 - val_mae: 0.2678\n",
            "Epoch 56/500\n",
            "1038/1038 [==============================] - 5s 5ms/step - loss: 0.2677 - mae: 0.2677 - val_loss: 0.2677 - val_mae: 0.2677\n",
            "Epoch 57/500\n",
            "1038/1038 [==============================] - 5s 5ms/step - loss: 0.2677 - mae: 0.2677 - val_loss: 0.2677 - val_mae: 0.2677\n",
            "Epoch 58/500\n",
            "1038/1038 [==============================] - 5s 5ms/step - loss: 0.2677 - mae: 0.2677 - val_loss: 0.2678 - val_mae: 0.2678\n",
            "Epoch 59/500\n",
            "1038/1038 [==============================] - 5s 5ms/step - loss: 0.2677 - mae: 0.2677 - val_loss: 0.2678 - val_mae: 0.2678\n",
            "Epoch 60/500\n",
            "1038/1038 [==============================] - 5s 5ms/step - loss: 0.2677 - mae: 0.2677 - val_loss: 0.2678 - val_mae: 0.2678\n",
            "Epoch 61/500\n",
            "1038/1038 [==============================] - 5s 5ms/step - loss: 0.2677 - mae: 0.2677 - val_loss: 0.2678 - val_mae: 0.2678\n",
            "Epoch 62/500\n",
            "1038/1038 [==============================] - 5s 5ms/step - loss: 0.2677 - mae: 0.2677 - val_loss: 0.2678 - val_mae: 0.2678\n",
            "Epoch 63/500\n",
            "1038/1038 [==============================] - 5s 5ms/step - loss: 0.2677 - mae: 0.2677 - val_loss: 0.2677 - val_mae: 0.2677\n",
            "Epoch 64/500\n",
            "1038/1038 [==============================] - 5s 5ms/step - loss: 0.2677 - mae: 0.2677 - val_loss: 0.2678 - val_mae: 0.2678\n",
            "Epoch 65/500\n",
            "1038/1038 [==============================] - 5s 5ms/step - loss: 0.2677 - mae: 0.2677 - val_loss: 0.2678 - val_mae: 0.2678\n",
            "Epoch 66/500\n",
            "1038/1038 [==============================] - 5s 5ms/step - loss: 0.2677 - mae: 0.2677 - val_loss: 0.2677 - val_mae: 0.2677\n",
            "Epoch 67/500\n",
            "1038/1038 [==============================] - 5s 5ms/step - loss: 0.2677 - mae: 0.2677 - val_loss: 0.2678 - val_mae: 0.2678\n",
            "Epoch 68/500\n",
            "1038/1038 [==============================] - 5s 5ms/step - loss: 0.2677 - mae: 0.2677 - val_loss: 0.2678 - val_mae: 0.2678\n",
            "Epoch 69/500\n",
            "1038/1038 [==============================] - 5s 5ms/step - loss: 0.2677 - mae: 0.2677 - val_loss: 0.2677 - val_mae: 0.2677\n",
            "Epoch 70/500\n",
            "1038/1038 [==============================] - 5s 5ms/step - loss: 0.2677 - mae: 0.2677 - val_loss: 0.2677 - val_mae: 0.2677\n",
            "Epoch 71/500\n",
            "1038/1038 [==============================] - 5s 5ms/step - loss: 0.2677 - mae: 0.2677 - val_loss: 0.2678 - val_mae: 0.2678\n",
            "Epoch 72/500\n",
            "1038/1038 [==============================] - 5s 5ms/step - loss: 0.2677 - mae: 0.2677 - val_loss: 0.2678 - val_mae: 0.2678\n",
            "Epoch 73/500\n",
            "1038/1038 [==============================] - 5s 5ms/step - loss: 0.2677 - mae: 0.2677 - val_loss: 0.2678 - val_mae: 0.2678\n",
            "Epoch 74/500\n",
            "1038/1038 [==============================] - 5s 5ms/step - loss: 0.2677 - mae: 0.2677 - val_loss: 0.2677 - val_mae: 0.2677\n",
            "Epoch 75/500\n",
            "1038/1038 [==============================] - 5s 5ms/step - loss: 0.2677 - mae: 0.2677 - val_loss: 0.2678 - val_mae: 0.2678\n",
            "Epoch 76/500\n",
            "1038/1038 [==============================] - 5s 5ms/step - loss: 0.2677 - mae: 0.2677 - val_loss: 0.2678 - val_mae: 0.2678\n",
            "Epoch 77/500\n",
            "1038/1038 [==============================] - 5s 5ms/step - loss: 0.2677 - mae: 0.2677 - val_loss: 0.2678 - val_mae: 0.2678\n",
            "Epoch 78/500\n",
            "1038/1038 [==============================] - 5s 5ms/step - loss: 0.2677 - mae: 0.2677 - val_loss: 0.2678 - val_mae: 0.2678\n",
            "Epoch 79/500\n",
            "1038/1038 [==============================] - 5s 5ms/step - loss: 0.2677 - mae: 0.2677 - val_loss: 0.2678 - val_mae: 0.2678\n",
            "Epoch 80/500\n",
            "1038/1038 [==============================] - 5s 5ms/step - loss: 0.2677 - mae: 0.2677 - val_loss: 0.2677 - val_mae: 0.2677\n",
            "Epoch 81/500\n",
            "1038/1038 [==============================] - 6s 6ms/step - loss: 0.2677 - mae: 0.2677 - val_loss: 0.2678 - val_mae: 0.2678\n",
            "Epoch 82/500\n",
            "1038/1038 [==============================] - 6s 6ms/step - loss: 0.2677 - mae: 0.2677 - val_loss: 0.2678 - val_mae: 0.2678\n",
            "Epoch 83/500\n",
            "1038/1038 [==============================] - 7s 7ms/step - loss: 0.2677 - mae: 0.2677 - val_loss: 0.2678 - val_mae: 0.2678\n",
            "Epoch 84/500\n",
            "1038/1038 [==============================] - 5s 5ms/step - loss: 0.2677 - mae: 0.2677 - val_loss: 0.2678 - val_mae: 0.2678\n",
            "Epoch 85/500\n",
            "1038/1038 [==============================] - 5s 5ms/step - loss: 0.2677 - mae: 0.2677 - val_loss: 0.2677 - val_mae: 0.2677\n",
            "Epoch 86/500\n",
            "1038/1038 [==============================] - 5s 5ms/step - loss: 0.2677 - mae: 0.2677 - val_loss: 0.2678 - val_mae: 0.2678\n",
            "Epoch 87/500\n",
            "1038/1038 [==============================] - 6s 6ms/step - loss: 0.2677 - mae: 0.2677 - val_loss: 0.2678 - val_mae: 0.2678\n",
            "Epoch 88/500\n",
            "1038/1038 [==============================] - 5s 5ms/step - loss: 0.2677 - mae: 0.2677 - val_loss: 0.2678 - val_mae: 0.2678\n",
            "Epoch 89/500\n",
            "1038/1038 [==============================] - 5s 5ms/step - loss: 0.2677 - mae: 0.2677 - val_loss: 0.2678 - val_mae: 0.2678\n",
            "Epoch 90/500\n",
            "1038/1038 [==============================] - 5s 5ms/step - loss: 0.2677 - mae: 0.2677 - val_loss: 0.2678 - val_mae: 0.2678\n",
            "Epoch 91/500\n",
            "1038/1038 [==============================] - 5s 5ms/step - loss: 0.2677 - mae: 0.2677 - val_loss: 0.2678 - val_mae: 0.2678\n",
            "Epoch 92/500\n",
            "1038/1038 [==============================] - 5s 5ms/step - loss: 0.2677 - mae: 0.2677 - val_loss: 0.2678 - val_mae: 0.2678\n",
            "Epoch 93/500\n",
            "1038/1038 [==============================] - 5s 5ms/step - loss: 0.2677 - mae: 0.2677 - val_loss: 0.2677 - val_mae: 0.2677\n",
            "Epoch 94/500\n",
            "1038/1038 [==============================] - 5s 5ms/step - loss: 0.2677 - mae: 0.2677 - val_loss: 0.2678 - val_mae: 0.2678\n",
            "Epoch 95/500\n",
            "1038/1038 [==============================] - 5s 5ms/step - loss: 0.2677 - mae: 0.2677 - val_loss: 0.2677 - val_mae: 0.2677\n",
            "Epoch 96/500\n",
            "1038/1038 [==============================] - 5s 5ms/step - loss: 0.2677 - mae: 0.2677 - val_loss: 0.2678 - val_mae: 0.2678\n",
            "Epoch 97/500\n",
            "1038/1038 [==============================] - 5s 5ms/step - loss: 0.2677 - mae: 0.2677 - val_loss: 0.2678 - val_mae: 0.2678\n",
            "Epoch 98/500\n",
            "1038/1038 [==============================] - 5s 5ms/step - loss: 0.2677 - mae: 0.2677 - val_loss: 0.2678 - val_mae: 0.2678\n",
            "Epoch 99/500\n",
            "1038/1038 [==============================] - 5s 5ms/step - loss: 0.2677 - mae: 0.2677 - val_loss: 0.2677 - val_mae: 0.2677\n",
            "Epoch 100/500\n",
            "1038/1038 [==============================] - 5s 5ms/step - loss: 0.2677 - mae: 0.2677 - val_loss: 0.2678 - val_mae: 0.2678\n",
            "Epoch 101/500\n",
            "1038/1038 [==============================] - 5s 5ms/step - loss: 0.2677 - mae: 0.2677 - val_loss: 0.2677 - val_mae: 0.2677\n",
            "Epoch 102/500\n",
            "1038/1038 [==============================] - 5s 5ms/step - loss: 0.2677 - mae: 0.2677 - val_loss: 0.2677 - val_mae: 0.2677\n",
            "Epoch 103/500\n",
            "1038/1038 [==============================] - 5s 5ms/step - loss: 0.2677 - mae: 0.2677 - val_loss: 0.2678 - val_mae: 0.2678\n",
            "Epoch 104/500\n",
            "1038/1038 [==============================] - 5s 5ms/step - loss: 0.2677 - mae: 0.2677 - val_loss: 0.2678 - val_mae: 0.2678\n",
            "Epoch 105/500\n",
            "1038/1038 [==============================] - 5s 5ms/step - loss: 0.2677 - mae: 0.2677 - val_loss: 0.2677 - val_mae: 0.2677\n",
            "Epoch 106/500\n",
            "1038/1038 [==============================] - 5s 5ms/step - loss: 0.2677 - mae: 0.2677 - val_loss: 0.2677 - val_mae: 0.2677\n",
            "Epoch 107/500\n",
            "1038/1038 [==============================] - 5s 5ms/step - loss: 0.2677 - mae: 0.2677 - val_loss: 0.2678 - val_mae: 0.2678\n",
            "Epoch 108/500\n",
            "1038/1038 [==============================] - 5s 5ms/step - loss: 0.2677 - mae: 0.2677 - val_loss: 0.2677 - val_mae: 0.2677\n",
            "Epoch 109/500\n",
            "1038/1038 [==============================] - 5s 5ms/step - loss: 0.2677 - mae: 0.2677 - val_loss: 0.2678 - val_mae: 0.2678\n",
            "Epoch 110/500\n",
            "1038/1038 [==============================] - 5s 5ms/step - loss: 0.2677 - mae: 0.2677 - val_loss: 0.2678 - val_mae: 0.2678\n",
            "Epoch 111/500\n",
            "1038/1038 [==============================] - 5s 5ms/step - loss: 0.2677 - mae: 0.2677 - val_loss: 0.2678 - val_mae: 0.2678\n",
            "Epoch 112/500\n",
            "1038/1038 [==============================] - 5s 5ms/step - loss: 0.2677 - mae: 0.2677 - val_loss: 0.2677 - val_mae: 0.2677\n",
            "Epoch 113/500\n",
            "1038/1038 [==============================] - 5s 5ms/step - loss: 0.2677 - mae: 0.2677 - val_loss: 0.2677 - val_mae: 0.2677\n",
            "Epoch 114/500\n",
            "1038/1038 [==============================] - 5s 5ms/step - loss: 0.2677 - mae: 0.2677 - val_loss: 0.2678 - val_mae: 0.2678\n",
            "Epoch 115/500\n",
            "1038/1038 [==============================] - 5s 5ms/step - loss: 0.2677 - mae: 0.2677 - val_loss: 0.2678 - val_mae: 0.2678\n",
            "Epoch 116/500\n",
            "1038/1038 [==============================] - 5s 5ms/step - loss: 0.2677 - mae: 0.2677 - val_loss: 0.2677 - val_mae: 0.2677\n",
            "Epoch 117/500\n",
            "1038/1038 [==============================] - 5s 5ms/step - loss: 0.2677 - mae: 0.2677 - val_loss: 0.2677 - val_mae: 0.2677\n",
            "Epoch 118/500\n",
            "1038/1038 [==============================] - 5s 5ms/step - loss: 0.2677 - mae: 0.2677 - val_loss: 0.2678 - val_mae: 0.2678\n",
            "Epoch 119/500\n",
            "1038/1038 [==============================] - 5s 5ms/step - loss: 0.2677 - mae: 0.2677 - val_loss: 0.2677 - val_mae: 0.2677\n",
            "Epoch 120/500\n",
            "1038/1038 [==============================] - 5s 5ms/step - loss: 0.2677 - mae: 0.2677 - val_loss: 0.2677 - val_mae: 0.2677\n",
            "Epoch 121/500\n",
            "1038/1038 [==============================] - 5s 5ms/step - loss: 0.2677 - mae: 0.2677 - val_loss: 0.2678 - val_mae: 0.2678\n",
            "Epoch 122/500\n",
            "1038/1038 [==============================] - 5s 5ms/step - loss: 0.2677 - mae: 0.2677 - val_loss: 0.2678 - val_mae: 0.2678\n",
            "Epoch 123/500\n",
            "1038/1038 [==============================] - 5s 5ms/step - loss: 0.2677 - mae: 0.2677 - val_loss: 0.2677 - val_mae: 0.2677\n",
            "Epoch 124/500\n",
            "1038/1038 [==============================] - 5s 5ms/step - loss: 0.2677 - mae: 0.2677 - val_loss: 0.2678 - val_mae: 0.2678\n",
            "Epoch 125/500\n",
            "1038/1038 [==============================] - 5s 5ms/step - loss: 0.2677 - mae: 0.2677 - val_loss: 0.2678 - val_mae: 0.2678\n",
            "Epoch 126/500\n",
            "1038/1038 [==============================] - 5s 5ms/step - loss: 0.2677 - mae: 0.2677 - val_loss: 0.2678 - val_mae: 0.2678\n",
            "Epoch 127/500\n",
            "1038/1038 [==============================] - 5s 5ms/step - loss: 0.2677 - mae: 0.2677 - val_loss: 0.2678 - val_mae: 0.2678\n",
            "Epoch 128/500\n",
            "1038/1038 [==============================] - 5s 5ms/step - loss: 0.2677 - mae: 0.2677 - val_loss: 0.2678 - val_mae: 0.2678\n",
            "Epoch 129/500\n",
            "1038/1038 [==============================] - 5s 5ms/step - loss: 0.2677 - mae: 0.2677 - val_loss: 0.2677 - val_mae: 0.2677\n",
            "Epoch 130/500\n",
            "1038/1038 [==============================] - 5s 5ms/step - loss: 0.2677 - mae: 0.2677 - val_loss: 0.2678 - val_mae: 0.2678\n",
            "Epoch 131/500\n",
            "1038/1038 [==============================] - 5s 5ms/step - loss: 0.2677 - mae: 0.2677 - val_loss: 0.2677 - val_mae: 0.2677\n",
            "Epoch 132/500\n",
            "1038/1038 [==============================] - 5s 5ms/step - loss: 0.2677 - mae: 0.2677 - val_loss: 0.2677 - val_mae: 0.2677\n",
            "Epoch 133/500\n",
            "1038/1038 [==============================] - 5s 5ms/step - loss: 0.2677 - mae: 0.2677 - val_loss: 0.2678 - val_mae: 0.2678\n",
            "Epoch 134/500\n",
            "1038/1038 [==============================] - 5s 5ms/step - loss: 0.2677 - mae: 0.2677 - val_loss: 0.2677 - val_mae: 0.2677\n",
            "Epoch 135/500\n",
            "1038/1038 [==============================] - 5s 5ms/step - loss: 0.2677 - mae: 0.2677 - val_loss: 0.2677 - val_mae: 0.2677\n",
            "Epoch 136/500\n",
            "1038/1038 [==============================] - 5s 5ms/step - loss: 0.2677 - mae: 0.2677 - val_loss: 0.2678 - val_mae: 0.2678\n",
            "Epoch 137/500\n",
            "1038/1038 [==============================] - 5s 5ms/step - loss: 0.2677 - mae: 0.2677 - val_loss: 0.2677 - val_mae: 0.2677\n",
            "Epoch 138/500\n",
            "1038/1038 [==============================] - 5s 5ms/step - loss: 0.2677 - mae: 0.2677 - val_loss: 0.2677 - val_mae: 0.2677\n",
            "Epoch 139/500\n",
            "1038/1038 [==============================] - 7s 6ms/step - loss: 0.2677 - mae: 0.2677 - val_loss: 0.2678 - val_mae: 0.2678\n",
            "Epoch 140/500\n",
            "1038/1038 [==============================] - 5s 5ms/step - loss: 0.2677 - mae: 0.2677 - val_loss: 0.2678 - val_mae: 0.2678\n",
            "Epoch 141/500\n",
            "1038/1038 [==============================] - 5s 5ms/step - loss: 0.2677 - mae: 0.2677 - val_loss: 0.2678 - val_mae: 0.2678\n",
            "Epoch 142/500\n",
            "1038/1038 [==============================] - 5s 5ms/step - loss: 0.2677 - mae: 0.2677 - val_loss: 0.2678 - val_mae: 0.2678\n",
            "Epoch 143/500\n",
            "1038/1038 [==============================] - 5s 5ms/step - loss: 0.2677 - mae: 0.2677 - val_loss: 0.2678 - val_mae: 0.2678\n",
            "Epoch 144/500\n",
            "1038/1038 [==============================] - 5s 5ms/step - loss: 0.2677 - mae: 0.2677 - val_loss: 0.2678 - val_mae: 0.2678\n",
            "Epoch 145/500\n",
            "1038/1038 [==============================] - 5s 5ms/step - loss: 0.2677 - mae: 0.2677 - val_loss: 0.2677 - val_mae: 0.2677\n",
            "Epoch 146/500\n",
            "1038/1038 [==============================] - 5s 5ms/step - loss: 0.2677 - mae: 0.2677 - val_loss: 0.2678 - val_mae: 0.2678\n",
            "Epoch 147/500\n",
            "1038/1038 [==============================] - 5s 5ms/step - loss: 0.2677 - mae: 0.2677 - val_loss: 0.2678 - val_mae: 0.2678\n",
            "Epoch 148/500\n",
            "1038/1038 [==============================] - 5s 5ms/step - loss: 0.2677 - mae: 0.2677 - val_loss: 0.2677 - val_mae: 0.2677\n",
            "Epoch 149/500\n",
            "1038/1038 [==============================] - 5s 5ms/step - loss: 0.2677 - mae: 0.2677 - val_loss: 0.2678 - val_mae: 0.2678\n",
            "Epoch 150/500\n",
            "1038/1038 [==============================] - 5s 5ms/step - loss: 0.2677 - mae: 0.2677 - val_loss: 0.2678 - val_mae: 0.2678\n",
            "Epoch 151/500\n",
            "1038/1038 [==============================] - 5s 5ms/step - loss: 0.2677 - mae: 0.2677 - val_loss: 0.2678 - val_mae: 0.2678\n",
            "Epoch 152/500\n",
            "1038/1038 [==============================] - 5s 5ms/step - loss: 0.2677 - mae: 0.2677 - val_loss: 0.2678 - val_mae: 0.2678\n",
            "Epoch 153/500\n",
            "1038/1038 [==============================] - 5s 5ms/step - loss: 0.2677 - mae: 0.2677 - val_loss: 0.2678 - val_mae: 0.2678\n",
            "Epoch 154/500\n",
            "1038/1038 [==============================] - 5s 5ms/step - loss: 0.2677 - mae: 0.2677 - val_loss: 0.2678 - val_mae: 0.2678\n",
            "Epoch 155/500\n",
            "1038/1038 [==============================] - 5s 5ms/step - loss: 0.2677 - mae: 0.2677 - val_loss: 0.2678 - val_mae: 0.2678\n",
            "Epoch 156/500\n",
            "1038/1038 [==============================] - 5s 5ms/step - loss: 0.2677 - mae: 0.2677 - val_loss: 0.2678 - val_mae: 0.2678\n",
            "Epoch 157/500\n",
            "1038/1038 [==============================] - 5s 5ms/step - loss: 0.2677 - mae: 0.2677 - val_loss: 0.2677 - val_mae: 0.2677\n",
            "Epoch 158/500\n",
            "1038/1038 [==============================] - 5s 5ms/step - loss: 0.2677 - mae: 0.2677 - val_loss: 0.2678 - val_mae: 0.2678\n",
            "Epoch 159/500\n",
            "1038/1038 [==============================] - 5s 5ms/step - loss: 0.2677 - mae: 0.2677 - val_loss: 0.2677 - val_mae: 0.2677\n",
            "Epoch 160/500\n",
            "1038/1038 [==============================] - 5s 5ms/step - loss: 0.2677 - mae: 0.2677 - val_loss: 0.2678 - val_mae: 0.2678\n",
            "Epoch 161/500\n",
            "1038/1038 [==============================] - 5s 5ms/step - loss: 0.2677 - mae: 0.2677 - val_loss: 0.2678 - val_mae: 0.2678\n",
            "Epoch 162/500\n",
            "1038/1038 [==============================] - 5s 5ms/step - loss: 0.2677 - mae: 0.2677 - val_loss: 0.2678 - val_mae: 0.2678\n",
            "Epoch 163/500\n",
            "1038/1038 [==============================] - 5s 5ms/step - loss: 0.2677 - mae: 0.2677 - val_loss: 0.2678 - val_mae: 0.2678\n",
            "Epoch 164/500\n",
            "1038/1038 [==============================] - 5s 5ms/step - loss: 0.2677 - mae: 0.2677 - val_loss: 0.2678 - val_mae: 0.2678\n",
            "Epoch 165/500\n",
            "1038/1038 [==============================] - 5s 5ms/step - loss: 0.2677 - mae: 0.2677 - val_loss: 0.2677 - val_mae: 0.2677\n",
            "Epoch 166/500\n",
            "1038/1038 [==============================] - 5s 5ms/step - loss: 0.2677 - mae: 0.2677 - val_loss: 0.2678 - val_mae: 0.2678\n",
            "Epoch 167/500\n",
            "1038/1038 [==============================] - 5s 5ms/step - loss: 0.2677 - mae: 0.2677 - val_loss: 0.2677 - val_mae: 0.2677\n",
            "Epoch 168/500\n",
            "1038/1038 [==============================] - 5s 5ms/step - loss: 0.2677 - mae: 0.2677 - val_loss: 0.2677 - val_mae: 0.2677\n",
            "Epoch 169/500\n",
            "1038/1038 [==============================] - 5s 5ms/step - loss: 0.2677 - mae: 0.2677 - val_loss: 0.2678 - val_mae: 0.2678\n",
            "Epoch 170/500\n",
            "1038/1038 [==============================] - 5s 5ms/step - loss: 0.2677 - mae: 0.2677 - val_loss: 0.2678 - val_mae: 0.2678\n",
            "Epoch 171/500\n",
            "1038/1038 [==============================] - 5s 5ms/step - loss: 0.2677 - mae: 0.2677 - val_loss: 0.2678 - val_mae: 0.2678\n",
            "Epoch 172/500\n",
            "1038/1038 [==============================] - 5s 5ms/step - loss: 0.2677 - mae: 0.2677 - val_loss: 0.2677 - val_mae: 0.2677\n",
            "Epoch 173/500\n",
            "1038/1038 [==============================] - 5s 5ms/step - loss: 0.2677 - mae: 0.2677 - val_loss: 0.2677 - val_mae: 0.2677\n",
            "Epoch 174/500\n",
            "1038/1038 [==============================] - 5s 5ms/step - loss: 0.2677 - mae: 0.2677 - val_loss: 0.2677 - val_mae: 0.2677\n",
            "Epoch 175/500\n",
            "1038/1038 [==============================] - 5s 5ms/step - loss: 0.2677 - mae: 0.2677 - val_loss: 0.2678 - val_mae: 0.2678\n",
            "Epoch 176/500\n",
            "1038/1038 [==============================] - 5s 5ms/step - loss: 0.2677 - mae: 0.2677 - val_loss: 0.2678 - val_mae: 0.2678\n",
            "Epoch 177/500\n",
            "1038/1038 [==============================] - 5s 5ms/step - loss: 0.2677 - mae: 0.2677 - val_loss: 0.2678 - val_mae: 0.2678\n",
            "Epoch 178/500\n",
            "1038/1038 [==============================] - 5s 5ms/step - loss: 0.2677 - mae: 0.2677 - val_loss: 0.2678 - val_mae: 0.2678\n",
            "Epoch 179/500\n",
            "1038/1038 [==============================] - 5s 5ms/step - loss: 0.2677 - mae: 0.2677 - val_loss: 0.2678 - val_mae: 0.2678\n",
            "Epoch 180/500\n",
            "1038/1038 [==============================] - 5s 5ms/step - loss: 0.2677 - mae: 0.2677 - val_loss: 0.2678 - val_mae: 0.2678\n",
            "Epoch 181/500\n",
            "1038/1038 [==============================] - 5s 5ms/step - loss: 0.2677 - mae: 0.2677 - val_loss: 0.2678 - val_mae: 0.2678\n",
            "Epoch 182/500\n",
            "1038/1038 [==============================] - 5s 5ms/step - loss: 0.2677 - mae: 0.2677 - val_loss: 0.2678 - val_mae: 0.2678\n",
            "Epoch 183/500\n",
            "1038/1038 [==============================] - 5s 5ms/step - loss: 0.2677 - mae: 0.2677 - val_loss: 0.2678 - val_mae: 0.2678\n",
            "Epoch 184/500\n",
            "1038/1038 [==============================] - 5s 5ms/step - loss: 0.2677 - mae: 0.2677 - val_loss: 0.2678 - val_mae: 0.2678\n",
            "Epoch 185/500\n",
            "1038/1038 [==============================] - 5s 5ms/step - loss: 0.2677 - mae: 0.2677 - val_loss: 0.2678 - val_mae: 0.2678\n",
            "Epoch 186/500\n",
            "1038/1038 [==============================] - 5s 5ms/step - loss: 0.2677 - mae: 0.2677 - val_loss: 0.2678 - val_mae: 0.2678\n",
            "Epoch 187/500\n",
            "1038/1038 [==============================] - 5s 5ms/step - loss: 0.2677 - mae: 0.2677 - val_loss: 0.2678 - val_mae: 0.2678\n",
            "Epoch 188/500\n",
            "1038/1038 [==============================] - 5s 5ms/step - loss: 0.2677 - mae: 0.2677 - val_loss: 0.2678 - val_mae: 0.2678\n",
            "Epoch 189/500\n",
            "1038/1038 [==============================] - 5s 5ms/step - loss: 0.2677 - mae: 0.2677 - val_loss: 0.2678 - val_mae: 0.2678\n",
            "Epoch 190/500\n",
            "1038/1038 [==============================] - 5s 5ms/step - loss: 0.2677 - mae: 0.2677 - val_loss: 0.2678 - val_mae: 0.2678\n",
            "Epoch 191/500\n",
            "1038/1038 [==============================] - 6s 6ms/step - loss: 0.2677 - mae: 0.2677 - val_loss: 0.2678 - val_mae: 0.2678\n",
            "Epoch 192/500\n",
            "1038/1038 [==============================] - 5s 5ms/step - loss: 0.2677 - mae: 0.2677 - val_loss: 0.2678 - val_mae: 0.2678\n",
            "Epoch 193/500\n",
            "1038/1038 [==============================] - 5s 5ms/step - loss: 0.2677 - mae: 0.2677 - val_loss: 0.2677 - val_mae: 0.2677\n",
            "Epoch 194/500\n",
            "1038/1038 [==============================] - 5s 5ms/step - loss: 0.2677 - mae: 0.2677 - val_loss: 0.2678 - val_mae: 0.2678\n",
            "Epoch 195/500\n",
            "1038/1038 [==============================] - 5s 5ms/step - loss: 0.2677 - mae: 0.2677 - val_loss: 0.2677 - val_mae: 0.2677\n",
            "Epoch 196/500\n",
            "1038/1038 [==============================] - 5s 5ms/step - loss: 0.2677 - mae: 0.2677 - val_loss: 0.2678 - val_mae: 0.2678\n",
            "Epoch 197/500\n",
            "1038/1038 [==============================] - 5s 5ms/step - loss: 0.2677 - mae: 0.2677 - val_loss: 0.2677 - val_mae: 0.2677\n",
            "Epoch 198/500\n",
            "1038/1038 [==============================] - 5s 5ms/step - loss: 0.2677 - mae: 0.2677 - val_loss: 0.2678 - val_mae: 0.2678\n",
            "Epoch 199/500\n",
            "1038/1038 [==============================] - 5s 5ms/step - loss: 0.2677 - mae: 0.2677 - val_loss: 0.2677 - val_mae: 0.2677\n",
            "Epoch 200/500\n",
            "1038/1038 [==============================] - 5s 5ms/step - loss: 0.2677 - mae: 0.2677 - val_loss: 0.2678 - val_mae: 0.2678\n",
            "Epoch 201/500\n",
            "1038/1038 [==============================] - 5s 5ms/step - loss: 0.2677 - mae: 0.2677 - val_loss: 0.2678 - val_mae: 0.2678\n",
            "Epoch 202/500\n",
            "1038/1038 [==============================] - 5s 5ms/step - loss: 0.2677 - mae: 0.2677 - val_loss: 0.2678 - val_mae: 0.2678\n",
            "Epoch 203/500\n",
            "1038/1038 [==============================] - 5s 5ms/step - loss: 0.2677 - mae: 0.2677 - val_loss: 0.2677 - val_mae: 0.2677\n",
            "Epoch 204/500\n",
            "1038/1038 [==============================] - 5s 5ms/step - loss: 0.2677 - mae: 0.2677 - val_loss: 0.2677 - val_mae: 0.2677\n",
            "Epoch 205/500\n",
            "1038/1038 [==============================] - 5s 5ms/step - loss: 0.2677 - mae: 0.2677 - val_loss: 0.2678 - val_mae: 0.2678\n",
            "Epoch 206/500\n",
            "1038/1038 [==============================] - 5s 5ms/step - loss: 0.2677 - mae: 0.2677 - val_loss: 0.2677 - val_mae: 0.2677\n",
            "Epoch 207/500\n",
            "1038/1038 [==============================] - 5s 5ms/step - loss: 0.2677 - mae: 0.2677 - val_loss: 0.2678 - val_mae: 0.2678\n",
            "Epoch 208/500\n",
            "1038/1038 [==============================] - 5s 5ms/step - loss: 0.2677 - mae: 0.2677 - val_loss: 0.2678 - val_mae: 0.2678\n",
            "Epoch 209/500\n",
            "1038/1038 [==============================] - 5s 5ms/step - loss: 0.2677 - mae: 0.2677 - val_loss: 0.2677 - val_mae: 0.2677\n",
            "Epoch 210/500\n",
            "1038/1038 [==============================] - 5s 5ms/step - loss: 0.2677 - mae: 0.2677 - val_loss: 0.2678 - val_mae: 0.2678\n",
            "Epoch 211/500\n",
            "1038/1038 [==============================] - 5s 5ms/step - loss: 0.2677 - mae: 0.2677 - val_loss: 0.2677 - val_mae: 0.2677\n",
            "Epoch 212/500\n",
            "1038/1038 [==============================] - 5s 5ms/step - loss: 0.2677 - mae: 0.2677 - val_loss: 0.2678 - val_mae: 0.2678\n",
            "Epoch 213/500\n",
            "1038/1038 [==============================] - 5s 5ms/step - loss: 0.2677 - mae: 0.2677 - val_loss: 0.2678 - val_mae: 0.2678\n",
            "Epoch 214/500\n",
            "1038/1038 [==============================] - 5s 5ms/step - loss: 0.2677 - mae: 0.2677 - val_loss: 0.2678 - val_mae: 0.2678\n",
            "Epoch 215/500\n",
            "1038/1038 [==============================] - 5s 5ms/step - loss: 0.2677 - mae: 0.2677 - val_loss: 0.2677 - val_mae: 0.2677\n",
            "Epoch 216/500\n",
            "1038/1038 [==============================] - 5s 5ms/step - loss: 0.2677 - mae: 0.2677 - val_loss: 0.2677 - val_mae: 0.2677\n",
            "Epoch 217/500\n",
            "1038/1038 [==============================] - 5s 5ms/step - loss: 0.2677 - mae: 0.2677 - val_loss: 0.2678 - val_mae: 0.2678\n",
            "Epoch 218/500\n",
            "1038/1038 [==============================] - 5s 5ms/step - loss: 0.2677 - mae: 0.2677 - val_loss: 0.2677 - val_mae: 0.2677\n",
            "Epoch 219/500\n",
            "1038/1038 [==============================] - 5s 5ms/step - loss: 0.2677 - mae: 0.2677 - val_loss: 0.2678 - val_mae: 0.2678\n",
            "Epoch 220/500\n",
            "1038/1038 [==============================] - 5s 5ms/step - loss: 0.2677 - mae: 0.2677 - val_loss: 0.2677 - val_mae: 0.2677\n",
            "Epoch 221/500\n",
            "1038/1038 [==============================] - 5s 5ms/step - loss: 0.2677 - mae: 0.2677 - val_loss: 0.2678 - val_mae: 0.2678\n",
            "Epoch 222/500\n",
            "1038/1038 [==============================] - 5s 5ms/step - loss: 0.2677 - mae: 0.2677 - val_loss: 0.2678 - val_mae: 0.2678\n",
            "Epoch 223/500\n",
            "1038/1038 [==============================] - 5s 5ms/step - loss: 0.2677 - mae: 0.2677 - val_loss: 0.2678 - val_mae: 0.2678\n",
            "Epoch 224/500\n",
            "1038/1038 [==============================] - 5s 5ms/step - loss: 0.2677 - mae: 0.2677 - val_loss: 0.2678 - val_mae: 0.2678\n",
            "Epoch 225/500\n",
            "1038/1038 [==============================] - 5s 5ms/step - loss: 0.2677 - mae: 0.2677 - val_loss: 0.2678 - val_mae: 0.2678\n",
            "Epoch 226/500\n",
            "1038/1038 [==============================] - 5s 5ms/step - loss: 0.2677 - mae: 0.2677 - val_loss: 0.2678 - val_mae: 0.2678\n",
            "Epoch 227/500\n",
            "1038/1038 [==============================] - 5s 5ms/step - loss: 0.2677 - mae: 0.2677 - val_loss: 0.2677 - val_mae: 0.2677\n",
            "Epoch 228/500\n",
            "1038/1038 [==============================] - 5s 5ms/step - loss: 0.2677 - mae: 0.2677 - val_loss: 0.2677 - val_mae: 0.2677\n",
            "Epoch 229/500\n",
            "1038/1038 [==============================] - 5s 5ms/step - loss: 0.2677 - mae: 0.2677 - val_loss: 0.2678 - val_mae: 0.2678\n",
            "Epoch 230/500\n",
            "1038/1038 [==============================] - 5s 5ms/step - loss: 0.2677 - mae: 0.2677 - val_loss: 0.2678 - val_mae: 0.2678\n",
            "Epoch 231/500\n",
            "1038/1038 [==============================] - 5s 5ms/step - loss: 0.2677 - mae: 0.2677 - val_loss: 0.2677 - val_mae: 0.2677\n",
            "Epoch 232/500\n",
            "1038/1038 [==============================] - 5s 5ms/step - loss: 0.2677 - mae: 0.2677 - val_loss: 0.2678 - val_mae: 0.2678\n",
            "Epoch 233/500\n",
            "1038/1038 [==============================] - 5s 5ms/step - loss: 0.2677 - mae: 0.2677 - val_loss: 0.2677 - val_mae: 0.2677\n",
            "Epoch 234/500\n",
            "1038/1038 [==============================] - 5s 5ms/step - loss: 0.2677 - mae: 0.2677 - val_loss: 0.2677 - val_mae: 0.2677\n",
            "Epoch 235/500\n",
            "1038/1038 [==============================] - 5s 5ms/step - loss: 0.2677 - mae: 0.2677 - val_loss: 0.2678 - val_mae: 0.2678\n",
            "Epoch 236/500\n",
            "1038/1038 [==============================] - 5s 5ms/step - loss: 0.2677 - mae: 0.2677 - val_loss: 0.2678 - val_mae: 0.2678\n",
            "Epoch 237/500\n",
            "1038/1038 [==============================] - 5s 5ms/step - loss: 0.2677 - mae: 0.2677 - val_loss: 0.2677 - val_mae: 0.2677\n",
            "Epoch 238/500\n",
            "1038/1038 [==============================] - 5s 5ms/step - loss: 0.2677 - mae: 0.2677 - val_loss: 0.2678 - val_mae: 0.2678\n",
            "Epoch 239/500\n",
            "1038/1038 [==============================] - 5s 5ms/step - loss: 0.2677 - mae: 0.2677 - val_loss: 0.2677 - val_mae: 0.2677\n",
            "Epoch 240/500\n",
            "1038/1038 [==============================] - 5s 5ms/step - loss: 0.2677 - mae: 0.2677 - val_loss: 0.2678 - val_mae: 0.2678\n",
            "Epoch 241/500\n",
            "1038/1038 [==============================] - 5s 5ms/step - loss: 0.2677 - mae: 0.2677 - val_loss: 0.2678 - val_mae: 0.2678\n",
            "Epoch 242/500\n",
            "1038/1038 [==============================] - 6s 6ms/step - loss: 0.2677 - mae: 0.2677 - val_loss: 0.2678 - val_mae: 0.2678\n",
            "Epoch 243/500\n",
            "1038/1038 [==============================] - 5s 5ms/step - loss: 0.2677 - mae: 0.2677 - val_loss: 0.2677 - val_mae: 0.2677\n",
            "Epoch 244/500\n",
            "1038/1038 [==============================] - 5s 5ms/step - loss: 0.2677 - mae: 0.2677 - val_loss: 0.2678 - val_mae: 0.2678\n",
            "Epoch 245/500\n",
            "1038/1038 [==============================] - 5s 5ms/step - loss: 0.2677 - mae: 0.2677 - val_loss: 0.2678 - val_mae: 0.2678\n",
            "Epoch 246/500\n",
            "1038/1038 [==============================] - 5s 5ms/step - loss: 0.2677 - mae: 0.2677 - val_loss: 0.2678 - val_mae: 0.2678\n",
            "Epoch 247/500\n",
            "1038/1038 [==============================] - 5s 5ms/step - loss: 0.2677 - mae: 0.2677 - val_loss: 0.2678 - val_mae: 0.2678\n",
            "Epoch 248/500\n",
            "1038/1038 [==============================] - 5s 5ms/step - loss: 0.2677 - mae: 0.2677 - val_loss: 0.2677 - val_mae: 0.2677\n",
            "Epoch 249/500\n",
            "1038/1038 [==============================] - 5s 5ms/step - loss: 0.2677 - mae: 0.2677 - val_loss: 0.2678 - val_mae: 0.2678\n",
            "Epoch 250/500\n",
            "1038/1038 [==============================] - 5s 5ms/step - loss: 0.2677 - mae: 0.2677 - val_loss: 0.2677 - val_mae: 0.2677\n",
            "Epoch 251/500\n",
            "1038/1038 [==============================] - 5s 5ms/step - loss: 0.2677 - mae: 0.2677 - val_loss: 0.2678 - val_mae: 0.2678\n",
            "Epoch 252/500\n",
            "1038/1038 [==============================] - 5s 5ms/step - loss: 0.2677 - mae: 0.2677 - val_loss: 0.2677 - val_mae: 0.2677\n",
            "Epoch 253/500\n",
            "1038/1038 [==============================] - 5s 5ms/step - loss: 0.2677 - mae: 0.2677 - val_loss: 0.2678 - val_mae: 0.2678\n",
            "Epoch 254/500\n",
            "1038/1038 [==============================] - 5s 5ms/step - loss: 0.2677 - mae: 0.2677 - val_loss: 0.2678 - val_mae: 0.2678\n",
            "Epoch 255/500\n",
            "1038/1038 [==============================] - 5s 5ms/step - loss: 0.2677 - mae: 0.2677 - val_loss: 0.2678 - val_mae: 0.2678\n",
            "Epoch 256/500\n",
            "1038/1038 [==============================] - 5s 5ms/step - loss: 0.2677 - mae: 0.2677 - val_loss: 0.2678 - val_mae: 0.2678\n",
            "Epoch 257/500\n",
            "1038/1038 [==============================] - 5s 5ms/step - loss: 0.2677 - mae: 0.2677 - val_loss: 0.2677 - val_mae: 0.2677\n",
            "Epoch 258/500\n",
            "1038/1038 [==============================] - 5s 5ms/step - loss: 0.2677 - mae: 0.2677 - val_loss: 0.2678 - val_mae: 0.2678\n",
            "Epoch 259/500\n",
            "1038/1038 [==============================] - 5s 5ms/step - loss: 0.2677 - mae: 0.2677 - val_loss: 0.2678 - val_mae: 0.2678\n",
            "Epoch 260/500\n",
            "1038/1038 [==============================] - 5s 5ms/step - loss: 0.2677 - mae: 0.2677 - val_loss: 0.2677 - val_mae: 0.2677\n",
            "Epoch 261/500\n",
            "1038/1038 [==============================] - 5s 5ms/step - loss: 0.2677 - mae: 0.2677 - val_loss: 0.2677 - val_mae: 0.2677\n",
            "Epoch 262/500\n",
            "1038/1038 [==============================] - 5s 5ms/step - loss: 0.2677 - mae: 0.2677 - val_loss: 0.2677 - val_mae: 0.2677\n",
            "Epoch 263/500\n",
            "1038/1038 [==============================] - 5s 5ms/step - loss: 0.2677 - mae: 0.2677 - val_loss: 0.2678 - val_mae: 0.2678\n",
            "Epoch 264/500\n",
            "1038/1038 [==============================] - 5s 5ms/step - loss: 0.2677 - mae: 0.2677 - val_loss: 0.2678 - val_mae: 0.2678\n",
            "Epoch 265/500\n",
            "1038/1038 [==============================] - 5s 5ms/step - loss: 0.2677 - mae: 0.2677 - val_loss: 0.2677 - val_mae: 0.2677\n",
            "Epoch 266/500\n",
            "1038/1038 [==============================] - 5s 5ms/step - loss: 0.2677 - mae: 0.2677 - val_loss: 0.2677 - val_mae: 0.2677\n",
            "Epoch 267/500\n",
            "1038/1038 [==============================] - 5s 5ms/step - loss: 0.2677 - mae: 0.2677 - val_loss: 0.2677 - val_mae: 0.2677\n",
            "Epoch 268/500\n",
            "1038/1038 [==============================] - 5s 5ms/step - loss: 0.2677 - mae: 0.2677 - val_loss: 0.2678 - val_mae: 0.2678\n",
            "Epoch 269/500\n",
            "1038/1038 [==============================] - 5s 5ms/step - loss: 0.2677 - mae: 0.2677 - val_loss: 0.2678 - val_mae: 0.2678\n",
            "Epoch 270/500\n",
            "1038/1038 [==============================] - 5s 5ms/step - loss: 0.2677 - mae: 0.2677 - val_loss: 0.2677 - val_mae: 0.2677\n",
            "Epoch 271/500\n",
            "1038/1038 [==============================] - 5s 5ms/step - loss: 0.2677 - mae: 0.2677 - val_loss: 0.2678 - val_mae: 0.2678\n",
            "Epoch 272/500\n",
            "1038/1038 [==============================] - 5s 5ms/step - loss: 0.2677 - mae: 0.2677 - val_loss: 0.2678 - val_mae: 0.2678\n",
            "Epoch 273/500\n",
            "1038/1038 [==============================] - 5s 5ms/step - loss: 0.2677 - mae: 0.2677 - val_loss: 0.2678 - val_mae: 0.2678\n",
            "Epoch 274/500\n",
            "1038/1038 [==============================] - 5s 5ms/step - loss: 0.2677 - mae: 0.2677 - val_loss: 0.2678 - val_mae: 0.2678\n",
            "Epoch 275/500\n",
            "1038/1038 [==============================] - 5s 5ms/step - loss: 0.2677 - mae: 0.2677 - val_loss: 0.2677 - val_mae: 0.2677\n",
            "Epoch 276/500\n",
            "1038/1038 [==============================] - 6s 5ms/step - loss: 0.2677 - mae: 0.2677 - val_loss: 0.2677 - val_mae: 0.2677\n",
            "Epoch 277/500\n",
            "1038/1038 [==============================] - 5s 5ms/step - loss: 0.2677 - mae: 0.2677 - val_loss: 0.2678 - val_mae: 0.2678\n",
            "Epoch 278/500\n",
            "1038/1038 [==============================] - 5s 5ms/step - loss: 0.2677 - mae: 0.2677 - val_loss: 0.2678 - val_mae: 0.2678\n",
            "Epoch 279/500\n",
            "1038/1038 [==============================] - 5s 5ms/step - loss: 0.2677 - mae: 0.2677 - val_loss: 0.2678 - val_mae: 0.2678\n",
            "Epoch 280/500\n",
            "1038/1038 [==============================] - 5s 5ms/step - loss: 0.2677 - mae: 0.2677 - val_loss: 0.2678 - val_mae: 0.2678\n",
            "Epoch 281/500\n",
            "1038/1038 [==============================] - 5s 5ms/step - loss: 0.2677 - mae: 0.2677 - val_loss: 0.2678 - val_mae: 0.2678\n",
            "Epoch 282/500\n",
            "1038/1038 [==============================] - 5s 5ms/step - loss: 0.2677 - mae: 0.2677 - val_loss: 0.2678 - val_mae: 0.2678\n",
            "Epoch 283/500\n",
            "1038/1038 [==============================] - 5s 5ms/step - loss: 0.2677 - mae: 0.2677 - val_loss: 0.2677 - val_mae: 0.2677\n",
            "Epoch 284/500\n",
            "1038/1038 [==============================] - 5s 5ms/step - loss: 0.2677 - mae: 0.2677 - val_loss: 0.2678 - val_mae: 0.2678\n",
            "Epoch 285/500\n",
            "1038/1038 [==============================] - 5s 5ms/step - loss: 0.2677 - mae: 0.2677 - val_loss: 0.2678 - val_mae: 0.2678\n",
            "Epoch 286/500\n",
            "1038/1038 [==============================] - 5s 5ms/step - loss: 0.2677 - mae: 0.2677 - val_loss: 0.2677 - val_mae: 0.2677\n",
            "Epoch 287/500\n",
            "1038/1038 [==============================] - 5s 5ms/step - loss: 0.2677 - mae: 0.2677 - val_loss: 0.2677 - val_mae: 0.2677\n",
            "Epoch 288/500\n",
            "1038/1038 [==============================] - 6s 5ms/step - loss: 0.2677 - mae: 0.2677 - val_loss: 0.2677 - val_mae: 0.2677\n",
            "Epoch 289/500\n",
            "1038/1038 [==============================] - 5s 5ms/step - loss: 0.2677 - mae: 0.2677 - val_loss: 0.2677 - val_mae: 0.2677\n",
            "Epoch 290/500\n",
            "1038/1038 [==============================] - 5s 5ms/step - loss: 0.2677 - mae: 0.2677 - val_loss: 0.2677 - val_mae: 0.2677\n",
            "Epoch 291/500\n",
            "1038/1038 [==============================] - 5s 5ms/step - loss: 0.2677 - mae: 0.2677 - val_loss: 0.2678 - val_mae: 0.2678\n",
            "Epoch 292/500\n",
            "1038/1038 [==============================] - 6s 6ms/step - loss: 0.2677 - mae: 0.2677 - val_loss: 0.2678 - val_mae: 0.2678\n",
            "Epoch 293/500\n",
            "1038/1038 [==============================] - 5s 5ms/step - loss: 0.2677 - mae: 0.2677 - val_loss: 0.2678 - val_mae: 0.2678\n",
            "Epoch 294/500\n",
            "1038/1038 [==============================] - 5s 5ms/step - loss: 0.2677 - mae: 0.2677 - val_loss: 0.2678 - val_mae: 0.2678\n",
            "Epoch 295/500\n",
            "1038/1038 [==============================] - 5s 5ms/step - loss: 0.2677 - mae: 0.2677 - val_loss: 0.2678 - val_mae: 0.2678\n",
            "Epoch 296/500\n",
            "1038/1038 [==============================] - 5s 5ms/step - loss: 0.2677 - mae: 0.2677 - val_loss: 0.2677 - val_mae: 0.2677\n",
            "Epoch 297/500\n",
            "1038/1038 [==============================] - 5s 5ms/step - loss: 0.2677 - mae: 0.2677 - val_loss: 0.2677 - val_mae: 0.2677\n",
            "Epoch 298/500\n",
            "1038/1038 [==============================] - 6s 5ms/step - loss: 0.2677 - mae: 0.2677 - val_loss: 0.2677 - val_mae: 0.2677\n",
            "Epoch 299/500\n",
            "1038/1038 [==============================] - 5s 5ms/step - loss: 0.2677 - mae: 0.2677 - val_loss: 0.2678 - val_mae: 0.2678\n",
            "Epoch 300/500\n",
            "1038/1038 [==============================] - 5s 5ms/step - loss: 0.2677 - mae: 0.2677 - val_loss: 0.2677 - val_mae: 0.2677\n",
            "Epoch 301/500\n",
            "1038/1038 [==============================] - 5s 5ms/step - loss: 0.2677 - mae: 0.2677 - val_loss: 0.2677 - val_mae: 0.2677\n",
            "Epoch 302/500\n",
            "1038/1038 [==============================] - 5s 5ms/step - loss: 0.2677 - mae: 0.2677 - val_loss: 0.2678 - val_mae: 0.2678\n",
            "Epoch 303/500\n",
            "1038/1038 [==============================] - 5s 5ms/step - loss: 0.2677 - mae: 0.2677 - val_loss: 0.2678 - val_mae: 0.2678\n",
            "Epoch 304/500\n",
            "1038/1038 [==============================] - 5s 5ms/step - loss: 0.2677 - mae: 0.2677 - val_loss: 0.2678 - val_mae: 0.2678\n",
            "Epoch 305/500\n",
            "1038/1038 [==============================] - 5s 5ms/step - loss: 0.2677 - mae: 0.2677 - val_loss: 0.2677 - val_mae: 0.2677\n",
            "Epoch 306/500\n",
            "1038/1038 [==============================] - 5s 5ms/step - loss: 0.2677 - mae: 0.2677 - val_loss: 0.2678 - val_mae: 0.2678\n",
            "Epoch 307/500\n",
            "1038/1038 [==============================] - 6s 5ms/step - loss: 0.2677 - mae: 0.2677 - val_loss: 0.2677 - val_mae: 0.2677\n",
            "Epoch 308/500\n",
            "1038/1038 [==============================] - 5s 5ms/step - loss: 0.2677 - mae: 0.2677 - val_loss: 0.2677 - val_mae: 0.2677\n",
            "Epoch 309/500\n",
            "1038/1038 [==============================] - 5s 5ms/step - loss: 0.2677 - mae: 0.2677 - val_loss: 0.2678 - val_mae: 0.2678\n",
            "Epoch 310/500\n",
            "1038/1038 [==============================] - 5s 5ms/step - loss: 0.2677 - mae: 0.2677 - val_loss: 0.2678 - val_mae: 0.2678\n",
            "Epoch 311/500\n",
            "1038/1038 [==============================] - 5s 5ms/step - loss: 0.2677 - mae: 0.2677 - val_loss: 0.2677 - val_mae: 0.2677\n",
            "Epoch 312/500\n",
            "1038/1038 [==============================] - 5s 5ms/step - loss: 0.2677 - mae: 0.2677 - val_loss: 0.2678 - val_mae: 0.2678\n",
            "Epoch 313/500\n",
            "1038/1038 [==============================] - 5s 5ms/step - loss: 0.2677 - mae: 0.2677 - val_loss: 0.2677 - val_mae: 0.2677\n",
            "Epoch 314/500\n",
            "1038/1038 [==============================] - 5s 5ms/step - loss: 0.2677 - mae: 0.2677 - val_loss: 0.2678 - val_mae: 0.2678\n",
            "Epoch 315/500\n",
            "1038/1038 [==============================] - 5s 5ms/step - loss: 0.2677 - mae: 0.2677 - val_loss: 0.2678 - val_mae: 0.2678\n",
            "Epoch 316/500\n",
            "1038/1038 [==============================] - 5s 5ms/step - loss: 0.2677 - mae: 0.2677 - val_loss: 0.2678 - val_mae: 0.2678\n",
            "Epoch 317/500\n",
            "1038/1038 [==============================] - 5s 5ms/step - loss: 0.2677 - mae: 0.2677 - val_loss: 0.2677 - val_mae: 0.2677\n",
            "Epoch 318/500\n",
            "1038/1038 [==============================] - 5s 5ms/step - loss: 0.2677 - mae: 0.2677 - val_loss: 0.2678 - val_mae: 0.2678\n",
            "Epoch 319/500\n",
            "1038/1038 [==============================] - 5s 5ms/step - loss: 0.2677 - mae: 0.2677 - val_loss: 0.2677 - val_mae: 0.2677\n",
            "Epoch 320/500\n",
            "1038/1038 [==============================] - 5s 5ms/step - loss: 0.2677 - mae: 0.2677 - val_loss: 0.2678 - val_mae: 0.2678\n",
            "Epoch 321/500\n",
            "1038/1038 [==============================] - 5s 5ms/step - loss: 0.2677 - mae: 0.2677 - val_loss: 0.2678 - val_mae: 0.2678\n",
            "Epoch 322/500\n",
            "1038/1038 [==============================] - 5s 5ms/step - loss: 0.2677 - mae: 0.2677 - val_loss: 0.2677 - val_mae: 0.2677\n",
            "Epoch 323/500\n",
            "1038/1038 [==============================] - 5s 5ms/step - loss: 0.2677 - mae: 0.2677 - val_loss: 0.2677 - val_mae: 0.2677\n",
            "Epoch 324/500\n",
            "1038/1038 [==============================] - 5s 5ms/step - loss: 0.2677 - mae: 0.2677 - val_loss: 0.2678 - val_mae: 0.2678\n",
            "Epoch 325/500\n",
            "1038/1038 [==============================] - 5s 5ms/step - loss: 0.2677 - mae: 0.2677 - val_loss: 0.2678 - val_mae: 0.2678\n",
            "Epoch 326/500\n",
            "1038/1038 [==============================] - 5s 5ms/step - loss: 0.2677 - mae: 0.2677 - val_loss: 0.2678 - val_mae: 0.2678\n",
            "Epoch 327/500\n",
            "1038/1038 [==============================] - 5s 5ms/step - loss: 0.2677 - mae: 0.2677 - val_loss: 0.2677 - val_mae: 0.2677\n",
            "Epoch 328/500\n",
            "1038/1038 [==============================] - 6s 5ms/step - loss: 0.2677 - mae: 0.2677 - val_loss: 0.2678 - val_mae: 0.2678\n",
            "Epoch 329/500\n",
            "1038/1038 [==============================] - 6s 6ms/step - loss: 0.2677 - mae: 0.2677 - val_loss: 0.2678 - val_mae: 0.2678\n",
            "Epoch 330/500\n",
            "1038/1038 [==============================] - 7s 7ms/step - loss: 0.2677 - mae: 0.2677 - val_loss: 0.2677 - val_mae: 0.2677\n",
            "Epoch 331/500\n",
            "1038/1038 [==============================] - 8s 7ms/step - loss: 0.2677 - mae: 0.2677 - val_loss: 0.2678 - val_mae: 0.2678\n",
            "Epoch 332/500\n",
            "1038/1038 [==============================] - 6s 5ms/step - loss: 0.2677 - mae: 0.2677 - val_loss: 0.2678 - val_mae: 0.2678\n",
            "Epoch 333/500\n",
            "1038/1038 [==============================] - 6s 5ms/step - loss: 0.2677 - mae: 0.2677 - val_loss: 0.2677 - val_mae: 0.2677\n",
            "Epoch 334/500\n",
            "1038/1038 [==============================] - 5s 5ms/step - loss: 0.2677 - mae: 0.2677 - val_loss: 0.2678 - val_mae: 0.2678\n",
            "Epoch 335/500\n",
            "1038/1038 [==============================] - 6s 6ms/step - loss: 0.2677 - mae: 0.2677 - val_loss: 0.2678 - val_mae: 0.2678\n",
            "Epoch 336/500\n",
            "1038/1038 [==============================] - 6s 6ms/step - loss: 0.2677 - mae: 0.2677 - val_loss: 0.2677 - val_mae: 0.2677\n",
            "Epoch 337/500\n",
            "1038/1038 [==============================] - 5s 5ms/step - loss: 0.2677 - mae: 0.2677 - val_loss: 0.2677 - val_mae: 0.2677\n",
            "Epoch 338/500\n",
            "1038/1038 [==============================] - 5s 5ms/step - loss: 0.2677 - mae: 0.2677 - val_loss: 0.2677 - val_mae: 0.2677\n",
            "Epoch 339/500\n",
            "1038/1038 [==============================] - 6s 5ms/step - loss: 0.2677 - mae: 0.2677 - val_loss: 0.2677 - val_mae: 0.2677\n",
            "Epoch 340/500\n",
            "1038/1038 [==============================] - 7s 7ms/step - loss: 0.2677 - mae: 0.2677 - val_loss: 0.2677 - val_mae: 0.2677\n",
            "Epoch 341/500\n",
            "1038/1038 [==============================] - 6s 5ms/step - loss: 0.2677 - mae: 0.2677 - val_loss: 0.2677 - val_mae: 0.2677\n",
            "Epoch 342/500\n",
            "1038/1038 [==============================] - 5s 5ms/step - loss: 0.2677 - mae: 0.2677 - val_loss: 0.2678 - val_mae: 0.2678\n",
            "Epoch 343/500\n",
            "1038/1038 [==============================] - 6s 5ms/step - loss: 0.2677 - mae: 0.2677 - val_loss: 0.2677 - val_mae: 0.2677\n",
            "Epoch 344/500\n",
            "1038/1038 [==============================] - 5s 5ms/step - loss: 0.2677 - mae: 0.2677 - val_loss: 0.2678 - val_mae: 0.2678\n",
            "Epoch 345/500\n",
            "1038/1038 [==============================] - 5s 5ms/step - loss: 0.2677 - mae: 0.2677 - val_loss: 0.2677 - val_mae: 0.2677\n",
            "Epoch 346/500\n",
            "1038/1038 [==============================] - 5s 5ms/step - loss: 0.2677 - mae: 0.2677 - val_loss: 0.2678 - val_mae: 0.2678\n",
            "Epoch 347/500\n",
            "1038/1038 [==============================] - 6s 5ms/step - loss: 0.2677 - mae: 0.2677 - val_loss: 0.2677 - val_mae: 0.2677\n",
            "Epoch 348/500\n",
            "1038/1038 [==============================] - 6s 5ms/step - loss: 0.2677 - mae: 0.2677 - val_loss: 0.2677 - val_mae: 0.2677\n",
            "Epoch 349/500\n",
            "1038/1038 [==============================] - 5s 5ms/step - loss: 0.2677 - mae: 0.2677 - val_loss: 0.2678 - val_mae: 0.2678\n",
            "Epoch 350/500\n",
            "1038/1038 [==============================] - 5s 5ms/step - loss: 0.2677 - mae: 0.2677 - val_loss: 0.2678 - val_mae: 0.2678\n",
            "Epoch 351/500\n",
            "1038/1038 [==============================] - 5s 5ms/step - loss: 0.2677 - mae: 0.2677 - val_loss: 0.2677 - val_mae: 0.2677\n",
            "Epoch 352/500\n",
            "1038/1038 [==============================] - 5s 5ms/step - loss: 0.2677 - mae: 0.2677 - val_loss: 0.2678 - val_mae: 0.2678\n",
            "Epoch 353/500\n",
            "1038/1038 [==============================] - 5s 5ms/step - loss: 0.2677 - mae: 0.2677 - val_loss: 0.2678 - val_mae: 0.2678\n",
            "Epoch 354/500\n",
            "1038/1038 [==============================] - 5s 5ms/step - loss: 0.2677 - mae: 0.2677 - val_loss: 0.2678 - val_mae: 0.2678\n",
            "Epoch 355/500\n",
            "1038/1038 [==============================] - 5s 5ms/step - loss: 0.2677 - mae: 0.2677 - val_loss: 0.2677 - val_mae: 0.2677\n",
            "Epoch 356/500\n",
            "1038/1038 [==============================] - 5s 5ms/step - loss: 0.2677 - mae: 0.2677 - val_loss: 0.2677 - val_mae: 0.2677\n",
            "Epoch 357/500\n",
            "1038/1038 [==============================] - 6s 5ms/step - loss: 0.2677 - mae: 0.2677 - val_loss: 0.2677 - val_mae: 0.2677\n",
            "Epoch 358/500\n",
            "1038/1038 [==============================] - 5s 5ms/step - loss: 0.2677 - mae: 0.2677 - val_loss: 0.2678 - val_mae: 0.2678\n",
            "Epoch 359/500\n",
            "1038/1038 [==============================] - 5s 5ms/step - loss: 0.2677 - mae: 0.2677 - val_loss: 0.2678 - val_mae: 0.2678\n",
            "Epoch 360/500\n",
            "1038/1038 [==============================] - 6s 5ms/step - loss: 0.2677 - mae: 0.2677 - val_loss: 0.2678 - val_mae: 0.2678\n",
            "Epoch 361/500\n",
            "1038/1038 [==============================] - 6s 5ms/step - loss: 0.2677 - mae: 0.2677 - val_loss: 0.2677 - val_mae: 0.2677\n",
            "Epoch 362/500\n",
            "1038/1038 [==============================] - 5s 5ms/step - loss: 0.2677 - mae: 0.2677 - val_loss: 0.2678 - val_mae: 0.2678\n",
            "Epoch 363/500\n",
            "1038/1038 [==============================] - 5s 5ms/step - loss: 0.2677 - mae: 0.2677 - val_loss: 0.2677 - val_mae: 0.2677\n",
            "Epoch 364/500\n",
            "1038/1038 [==============================] - 6s 5ms/step - loss: 0.2677 - mae: 0.2677 - val_loss: 0.2678 - val_mae: 0.2678\n",
            "Epoch 365/500\n",
            "1038/1038 [==============================] - 5s 5ms/step - loss: 0.2677 - mae: 0.2677 - val_loss: 0.2678 - val_mae: 0.2678\n",
            "Epoch 366/500\n",
            "1038/1038 [==============================] - 5s 5ms/step - loss: 0.2677 - mae: 0.2677 - val_loss: 0.2678 - val_mae: 0.2678\n",
            "Epoch 367/500\n",
            "1038/1038 [==============================] - 5s 5ms/step - loss: 0.2677 - mae: 0.2677 - val_loss: 0.2678 - val_mae: 0.2678\n",
            "Epoch 368/500\n",
            "1038/1038 [==============================] - 5s 5ms/step - loss: 0.2677 - mae: 0.2677 - val_loss: 0.2677 - val_mae: 0.2677\n",
            "Epoch 369/500\n",
            "1038/1038 [==============================] - 5s 5ms/step - loss: 0.2677 - mae: 0.2677 - val_loss: 0.2678 - val_mae: 0.2678\n",
            "Epoch 370/500\n",
            "1038/1038 [==============================] - 5s 5ms/step - loss: 0.2677 - mae: 0.2677 - val_loss: 0.2678 - val_mae: 0.2678\n",
            "Epoch 371/500\n",
            "1038/1038 [==============================] - 5s 5ms/step - loss: 0.2677 - mae: 0.2677 - val_loss: 0.2677 - val_mae: 0.2677\n",
            "Epoch 372/500\n",
            "1038/1038 [==============================] - 5s 5ms/step - loss: 0.2677 - mae: 0.2677 - val_loss: 0.2677 - val_mae: 0.2677\n",
            "Epoch 373/500\n",
            "1038/1038 [==============================] - 5s 5ms/step - loss: 0.2677 - mae: 0.2677 - val_loss: 0.2677 - val_mae: 0.2677\n",
            "Epoch 374/500\n",
            "1038/1038 [==============================] - 5s 5ms/step - loss: 0.2677 - mae: 0.2677 - val_loss: 0.2678 - val_mae: 0.2678\n",
            "Epoch 375/500\n",
            "1038/1038 [==============================] - 5s 5ms/step - loss: 0.2677 - mae: 0.2677 - val_loss: 0.2678 - val_mae: 0.2678\n",
            "Epoch 376/500\n",
            "1038/1038 [==============================] - 5s 5ms/step - loss: 0.2677 - mae: 0.2677 - val_loss: 0.2678 - val_mae: 0.2678\n",
            "Epoch 377/500\n",
            "1038/1038 [==============================] - 5s 5ms/step - loss: 0.2677 - mae: 0.2677 - val_loss: 0.2678 - val_mae: 0.2678\n",
            "Epoch 378/500\n",
            "1038/1038 [==============================] - 6s 5ms/step - loss: 0.2677 - mae: 0.2677 - val_loss: 0.2677 - val_mae: 0.2677\n",
            "Epoch 379/500\n",
            "1038/1038 [==============================] - 5s 5ms/step - loss: 0.2677 - mae: 0.2677 - val_loss: 0.2678 - val_mae: 0.2678\n",
            "Epoch 380/500\n",
            "1038/1038 [==============================] - 6s 5ms/step - loss: 0.2677 - mae: 0.2677 - val_loss: 0.2677 - val_mae: 0.2677\n",
            "Epoch 381/500\n",
            "1038/1038 [==============================] - 6s 5ms/step - loss: 0.2677 - mae: 0.2677 - val_loss: 0.2677 - val_mae: 0.2677\n",
            "Epoch 382/500\n",
            "1038/1038 [==============================] - 6s 5ms/step - loss: 0.2677 - mae: 0.2677 - val_loss: 0.2677 - val_mae: 0.2677\n",
            "Epoch 383/500\n",
            "1038/1038 [==============================] - 5s 5ms/step - loss: 0.2677 - mae: 0.2677 - val_loss: 0.2678 - val_mae: 0.2678\n",
            "Epoch 384/500\n",
            "1038/1038 [==============================] - 5s 5ms/step - loss: 0.2677 - mae: 0.2677 - val_loss: 0.2677 - val_mae: 0.2677\n",
            "Epoch 385/500\n",
            "1038/1038 [==============================] - 5s 5ms/step - loss: 0.2677 - mae: 0.2677 - val_loss: 0.2678 - val_mae: 0.2678\n",
            "Epoch 386/500\n",
            "1038/1038 [==============================] - 6s 5ms/step - loss: 0.2677 - mae: 0.2677 - val_loss: 0.2678 - val_mae: 0.2678\n",
            "Epoch 387/500\n",
            "1038/1038 [==============================] - 5s 5ms/step - loss: 0.2677 - mae: 0.2677 - val_loss: 0.2677 - val_mae: 0.2677\n",
            "Epoch 388/500\n",
            "1038/1038 [==============================] - 6s 5ms/step - loss: 0.2677 - mae: 0.2677 - val_loss: 0.2678 - val_mae: 0.2678\n",
            "Epoch 389/500\n",
            "1038/1038 [==============================] - 6s 5ms/step - loss: 0.2677 - mae: 0.2677 - val_loss: 0.2677 - val_mae: 0.2677\n",
            "Epoch 390/500\n",
            "1038/1038 [==============================] - 5s 5ms/step - loss: 0.2677 - mae: 0.2677 - val_loss: 0.2678 - val_mae: 0.2678\n",
            "Epoch 391/500\n",
            "1038/1038 [==============================] - 5s 5ms/step - loss: 0.2677 - mae: 0.2677 - val_loss: 0.2678 - val_mae: 0.2678\n",
            "Epoch 392/500\n",
            "1038/1038 [==============================] - 5s 5ms/step - loss: 0.2677 - mae: 0.2677 - val_loss: 0.2678 - val_mae: 0.2678\n",
            "Epoch 393/500\n",
            "1038/1038 [==============================] - 5s 5ms/step - loss: 0.2677 - mae: 0.2677 - val_loss: 0.2678 - val_mae: 0.2678\n",
            "Epoch 394/500\n",
            "1038/1038 [==============================] - 5s 5ms/step - loss: 0.2677 - mae: 0.2677 - val_loss: 0.2678 - val_mae: 0.2678\n",
            "Epoch 395/500\n",
            "1038/1038 [==============================] - 6s 5ms/step - loss: 0.2677 - mae: 0.2677 - val_loss: 0.2677 - val_mae: 0.2677\n",
            "Epoch 396/500\n",
            "1038/1038 [==============================] - 5s 5ms/step - loss: 0.2677 - mae: 0.2677 - val_loss: 0.2677 - val_mae: 0.2677\n",
            "Epoch 397/500\n",
            "1038/1038 [==============================] - 6s 5ms/step - loss: 0.2677 - mae: 0.2677 - val_loss: 0.2678 - val_mae: 0.2678\n",
            "Epoch 398/500\n",
            "1038/1038 [==============================] - 5s 5ms/step - loss: 0.2677 - mae: 0.2677 - val_loss: 0.2677 - val_mae: 0.2677\n",
            "Epoch 399/500\n",
            "1038/1038 [==============================] - 5s 5ms/step - loss: 0.2677 - mae: 0.2677 - val_loss: 0.2677 - val_mae: 0.2677\n",
            "Epoch 400/500\n",
            "1038/1038 [==============================] - 5s 5ms/step - loss: 0.2677 - mae: 0.2677 - val_loss: 0.2677 - val_mae: 0.2677\n",
            "Epoch 401/500\n",
            "1038/1038 [==============================] - 6s 5ms/step - loss: 0.2677 - mae: 0.2677 - val_loss: 0.2678 - val_mae: 0.2678\n",
            "Epoch 402/500\n",
            "1038/1038 [==============================] - 5s 5ms/step - loss: 0.2677 - mae: 0.2677 - val_loss: 0.2678 - val_mae: 0.2678\n",
            "Epoch 403/500\n",
            "1038/1038 [==============================] - 6s 5ms/step - loss: 0.2677 - mae: 0.2677 - val_loss: 0.2678 - val_mae: 0.2678\n",
            "Epoch 404/500\n",
            "1038/1038 [==============================] - 6s 5ms/step - loss: 0.2677 - mae: 0.2677 - val_loss: 0.2677 - val_mae: 0.2677\n",
            "Epoch 405/500\n",
            "1038/1038 [==============================] - 6s 5ms/step - loss: 0.2677 - mae: 0.2677 - val_loss: 0.2678 - val_mae: 0.2678\n",
            "Epoch 406/500\n",
            "1038/1038 [==============================] - 6s 5ms/step - loss: 0.2677 - mae: 0.2677 - val_loss: 0.2678 - val_mae: 0.2678\n",
            "Epoch 407/500\n",
            "1038/1038 [==============================] - 5s 5ms/step - loss: 0.2677 - mae: 0.2677 - val_loss: 0.2678 - val_mae: 0.2678\n",
            "Epoch 408/500\n",
            "1038/1038 [==============================] - 6s 5ms/step - loss: 0.2677 - mae: 0.2677 - val_loss: 0.2678 - val_mae: 0.2678\n",
            "Epoch 409/500\n",
            "1038/1038 [==============================] - 6s 5ms/step - loss: 0.2677 - mae: 0.2677 - val_loss: 0.2678 - val_mae: 0.2678\n",
            "Epoch 410/500\n",
            "1038/1038 [==============================] - 5s 5ms/step - loss: 0.2677 - mae: 0.2677 - val_loss: 0.2678 - val_mae: 0.2678\n",
            "Epoch 411/500\n",
            "1038/1038 [==============================] - 5s 5ms/step - loss: 0.2677 - mae: 0.2677 - val_loss: 0.2678 - val_mae: 0.2678\n",
            "Epoch 412/500\n",
            "1038/1038 [==============================] - 5s 5ms/step - loss: 0.2677 - mae: 0.2677 - val_loss: 0.2677 - val_mae: 0.2677\n",
            "Epoch 413/500\n",
            "1038/1038 [==============================] - 6s 5ms/step - loss: 0.2677 - mae: 0.2677 - val_loss: 0.2677 - val_mae: 0.2677\n",
            "Epoch 414/500\n",
            "1038/1038 [==============================] - 5s 5ms/step - loss: 0.2677 - mae: 0.2677 - val_loss: 0.2677 - val_mae: 0.2677\n",
            "Epoch 415/500\n",
            "1038/1038 [==============================] - 5s 5ms/step - loss: 0.2677 - mae: 0.2677 - val_loss: 0.2678 - val_mae: 0.2678\n",
            "Epoch 416/500\n",
            "1038/1038 [==============================] - 6s 5ms/step - loss: 0.2677 - mae: 0.2677 - val_loss: 0.2678 - val_mae: 0.2678\n",
            "Epoch 417/500\n",
            "1038/1038 [==============================] - 6s 5ms/step - loss: 0.2677 - mae: 0.2677 - val_loss: 0.2677 - val_mae: 0.2677\n",
            "Epoch 418/500\n",
            "1038/1038 [==============================] - 5s 5ms/step - loss: 0.2677 - mae: 0.2677 - val_loss: 0.2677 - val_mae: 0.2677\n",
            "Epoch 419/500\n",
            "1038/1038 [==============================] - 5s 5ms/step - loss: 0.2677 - mae: 0.2677 - val_loss: 0.2678 - val_mae: 0.2678\n",
            "Epoch 420/500\n",
            "1038/1038 [==============================] - 5s 5ms/step - loss: 0.2677 - mae: 0.2677 - val_loss: 0.2678 - val_mae: 0.2678\n",
            "Epoch 421/500\n",
            "1038/1038 [==============================] - 6s 5ms/step - loss: 0.2677 - mae: 0.2677 - val_loss: 0.2678 - val_mae: 0.2678\n",
            "Epoch 422/500\n",
            "1038/1038 [==============================] - 6s 5ms/step - loss: 0.2677 - mae: 0.2677 - val_loss: 0.2678 - val_mae: 0.2678\n",
            "Epoch 423/500\n",
            "1038/1038 [==============================] - 6s 5ms/step - loss: 0.2677 - mae: 0.2677 - val_loss: 0.2678 - val_mae: 0.2678\n",
            "Epoch 424/500\n",
            "1038/1038 [==============================] - 5s 5ms/step - loss: 0.2677 - mae: 0.2677 - val_loss: 0.2678 - val_mae: 0.2678\n",
            "Epoch 425/500\n",
            "1038/1038 [==============================] - 6s 5ms/step - loss: 0.2677 - mae: 0.2677 - val_loss: 0.2678 - val_mae: 0.2678\n",
            "Epoch 426/500\n",
            "1038/1038 [==============================] - 6s 5ms/step - loss: 0.2677 - mae: 0.2677 - val_loss: 0.2678 - val_mae: 0.2678\n",
            "Epoch 427/500\n",
            "1038/1038 [==============================] - 6s 5ms/step - loss: 0.2677 - mae: 0.2677 - val_loss: 0.2677 - val_mae: 0.2677\n",
            "Epoch 428/500\n",
            "1038/1038 [==============================] - 6s 5ms/step - loss: 0.2677 - mae: 0.2677 - val_loss: 0.2678 - val_mae: 0.2678\n",
            "Epoch 429/500\n",
            "1038/1038 [==============================] - 6s 5ms/step - loss: 0.2677 - mae: 0.2677 - val_loss: 0.2678 - val_mae: 0.2678\n",
            "Epoch 430/500\n",
            "1038/1038 [==============================] - 5s 5ms/step - loss: 0.2677 - mae: 0.2677 - val_loss: 0.2678 - val_mae: 0.2678\n",
            "Epoch 431/500\n",
            "1038/1038 [==============================] - 5s 5ms/step - loss: 0.2677 - mae: 0.2677 - val_loss: 0.2678 - val_mae: 0.2678\n",
            "Epoch 432/500\n",
            "1038/1038 [==============================] - 6s 5ms/step - loss: 0.2677 - mae: 0.2677 - val_loss: 0.2677 - val_mae: 0.2677\n",
            "Epoch 433/500\n",
            "1038/1038 [==============================] - 6s 5ms/step - loss: 0.2677 - mae: 0.2677 - val_loss: 0.2677 - val_mae: 0.2677\n",
            "Epoch 434/500\n",
            "1038/1038 [==============================] - 5s 5ms/step - loss: 0.2677 - mae: 0.2677 - val_loss: 0.2678 - val_mae: 0.2678\n",
            "Epoch 435/500\n",
            "1038/1038 [==============================] - 6s 5ms/step - loss: 0.2677 - mae: 0.2677 - val_loss: 0.2678 - val_mae: 0.2678\n",
            "Epoch 436/500\n",
            "1038/1038 [==============================] - 6s 6ms/step - loss: 0.2677 - mae: 0.2677 - val_loss: 0.2677 - val_mae: 0.2677\n",
            "Epoch 437/500\n",
            "1038/1038 [==============================] - 5s 5ms/step - loss: 0.2677 - mae: 0.2677 - val_loss: 0.2678 - val_mae: 0.2678\n",
            "Epoch 438/500\n",
            "1038/1038 [==============================] - 5s 5ms/step - loss: 0.2677 - mae: 0.2677 - val_loss: 0.2678 - val_mae: 0.2678\n",
            "Epoch 439/500\n",
            "1038/1038 [==============================] - 5s 5ms/step - loss: 0.2677 - mae: 0.2677 - val_loss: 0.2677 - val_mae: 0.2677\n",
            "Epoch 440/500\n",
            "1038/1038 [==============================] - 5s 5ms/step - loss: 0.2677 - mae: 0.2677 - val_loss: 0.2677 - val_mae: 0.2677\n",
            "Epoch 441/500\n",
            "1038/1038 [==============================] - 5s 5ms/step - loss: 0.2677 - mae: 0.2677 - val_loss: 0.2678 - val_mae: 0.2678\n",
            "Epoch 442/500\n",
            "1038/1038 [==============================] - 6s 5ms/step - loss: 0.2677 - mae: 0.2677 - val_loss: 0.2678 - val_mae: 0.2678\n",
            "Epoch 443/500\n",
            "1038/1038 [==============================] - 6s 5ms/step - loss: 0.2677 - mae: 0.2677 - val_loss: 0.2677 - val_mae: 0.2677\n",
            "Epoch 444/500\n",
            "1038/1038 [==============================] - 5s 5ms/step - loss: 0.2677 - mae: 0.2677 - val_loss: 0.2677 - val_mae: 0.2677\n",
            "Epoch 445/500\n",
            "1038/1038 [==============================] - 6s 5ms/step - loss: 0.2677 - mae: 0.2677 - val_loss: 0.2678 - val_mae: 0.2678\n",
            "Epoch 446/500\n",
            "1038/1038 [==============================] - 5s 5ms/step - loss: 0.2677 - mae: 0.2677 - val_loss: 0.2678 - val_mae: 0.2678\n",
            "Epoch 447/500\n",
            "1038/1038 [==============================] - 5s 5ms/step - loss: 0.2677 - mae: 0.2677 - val_loss: 0.2678 - val_mae: 0.2678\n",
            "Epoch 448/500\n",
            "1038/1038 [==============================] - 5s 5ms/step - loss: 0.2677 - mae: 0.2677 - val_loss: 0.2678 - val_mae: 0.2678\n",
            "Epoch 449/500\n",
            "1038/1038 [==============================] - 6s 5ms/step - loss: 0.2677 - mae: 0.2677 - val_loss: 0.2678 - val_mae: 0.2678\n",
            "Epoch 450/500\n",
            "1038/1038 [==============================] - 5s 5ms/step - loss: 0.2677 - mae: 0.2677 - val_loss: 0.2678 - val_mae: 0.2678\n",
            "Epoch 451/500\n",
            "1038/1038 [==============================] - 6s 5ms/step - loss: 0.2677 - mae: 0.2677 - val_loss: 0.2678 - val_mae: 0.2678\n",
            "Epoch 452/500\n",
            "1038/1038 [==============================] - 5s 5ms/step - loss: 0.2677 - mae: 0.2677 - val_loss: 0.2677 - val_mae: 0.2677\n",
            "Epoch 453/500\n",
            "1038/1038 [==============================] - 5s 5ms/step - loss: 0.2677 - mae: 0.2677 - val_loss: 0.2678 - val_mae: 0.2678\n",
            "Epoch 454/500\n",
            "1038/1038 [==============================] - 6s 5ms/step - loss: 0.2677 - mae: 0.2677 - val_loss: 0.2677 - val_mae: 0.2677\n",
            "Epoch 455/500\n",
            "1038/1038 [==============================] - 6s 5ms/step - loss: 0.2677 - mae: 0.2677 - val_loss: 0.2678 - val_mae: 0.2678\n",
            "Epoch 456/500\n",
            "1038/1038 [==============================] - 5s 5ms/step - loss: 0.2677 - mae: 0.2677 - val_loss: 0.2678 - val_mae: 0.2678\n",
            "Epoch 457/500\n",
            "1038/1038 [==============================] - 6s 5ms/step - loss: 0.2677 - mae: 0.2677 - val_loss: 0.2678 - val_mae: 0.2678\n",
            "Epoch 458/500\n",
            "1038/1038 [==============================] - 6s 5ms/step - loss: 0.2677 - mae: 0.2677 - val_loss: 0.2677 - val_mae: 0.2677\n",
            "Epoch 459/500\n",
            "1038/1038 [==============================] - 5s 5ms/step - loss: 0.2677 - mae: 0.2677 - val_loss: 0.2677 - val_mae: 0.2677\n",
            "Epoch 460/500\n",
            "1038/1038 [==============================] - 6s 5ms/step - loss: 0.2677 - mae: 0.2677 - val_loss: 0.2678 - val_mae: 0.2678\n",
            "Epoch 461/500\n",
            "1038/1038 [==============================] - 6s 5ms/step - loss: 0.2677 - mae: 0.2677 - val_loss: 0.2678 - val_mae: 0.2678\n",
            "Epoch 462/500\n",
            "1038/1038 [==============================] - 6s 5ms/step - loss: 0.2677 - mae: 0.2677 - val_loss: 0.2678 - val_mae: 0.2678\n",
            "Epoch 463/500\n",
            "1038/1038 [==============================] - 6s 5ms/step - loss: 0.2677 - mae: 0.2677 - val_loss: 0.2677 - val_mae: 0.2677\n",
            "Epoch 464/500\n",
            "1038/1038 [==============================] - 6s 6ms/step - loss: 0.2677 - mae: 0.2677 - val_loss: 0.2677 - val_mae: 0.2677\n",
            "Epoch 465/500\n",
            "1038/1038 [==============================] - 6s 5ms/step - loss: 0.2677 - mae: 0.2677 - val_loss: 0.2678 - val_mae: 0.2678\n",
            "Epoch 466/500\n",
            "1038/1038 [==============================] - 6s 5ms/step - loss: 0.2677 - mae: 0.2677 - val_loss: 0.2677 - val_mae: 0.2677\n",
            "Epoch 467/500\n",
            "1038/1038 [==============================] - 6s 5ms/step - loss: 0.2677 - mae: 0.2677 - val_loss: 0.2678 - val_mae: 0.2678\n",
            "Epoch 468/500\n",
            "1038/1038 [==============================] - 6s 5ms/step - loss: 0.2677 - mae: 0.2677 - val_loss: 0.2678 - val_mae: 0.2678\n",
            "Epoch 469/500\n",
            "1038/1038 [==============================] - 6s 5ms/step - loss: 0.2677 - mae: 0.2677 - val_loss: 0.2677 - val_mae: 0.2677\n",
            "Epoch 470/500\n",
            "1038/1038 [==============================] - 6s 5ms/step - loss: 0.2677 - mae: 0.2677 - val_loss: 0.2678 - val_mae: 0.2678\n",
            "Epoch 471/500\n",
            "1038/1038 [==============================] - 5s 5ms/step - loss: 0.2677 - mae: 0.2677 - val_loss: 0.2678 - val_mae: 0.2678\n",
            "Epoch 472/500\n",
            "1038/1038 [==============================] - 5s 5ms/step - loss: 0.2677 - mae: 0.2677 - val_loss: 0.2678 - val_mae: 0.2678\n",
            "Epoch 473/500\n",
            "1038/1038 [==============================] - 5s 5ms/step - loss: 0.2677 - mae: 0.2677 - val_loss: 0.2678 - val_mae: 0.2678\n",
            "Epoch 474/500\n",
            "1038/1038 [==============================] - 5s 5ms/step - loss: 0.2677 - mae: 0.2677 - val_loss: 0.2677 - val_mae: 0.2677\n",
            "Epoch 475/500\n",
            "1038/1038 [==============================] - 5s 5ms/step - loss: 0.2677 - mae: 0.2677 - val_loss: 0.2677 - val_mae: 0.2677\n",
            "Epoch 476/500\n",
            "1038/1038 [==============================] - 6s 5ms/step - loss: 0.2677 - mae: 0.2677 - val_loss: 0.2678 - val_mae: 0.2678\n",
            "Epoch 477/500\n",
            "1038/1038 [==============================] - 6s 5ms/step - loss: 0.2677 - mae: 0.2677 - val_loss: 0.2678 - val_mae: 0.2678\n",
            "Epoch 478/500\n",
            "1038/1038 [==============================] - 5s 5ms/step - loss: 0.2677 - mae: 0.2677 - val_loss: 0.2678 - val_mae: 0.2678\n",
            "Epoch 479/500\n",
            "1038/1038 [==============================] - 6s 5ms/step - loss: 0.2677 - mae: 0.2677 - val_loss: 0.2677 - val_mae: 0.2677\n",
            "Epoch 480/500\n",
            "1038/1038 [==============================] - 5s 5ms/step - loss: 0.2677 - mae: 0.2677 - val_loss: 0.2678 - val_mae: 0.2678\n",
            "Epoch 481/500\n",
            "1038/1038 [==============================] - 6s 5ms/step - loss: 0.2677 - mae: 0.2677 - val_loss: 0.2677 - val_mae: 0.2677\n",
            "Epoch 482/500\n",
            "1038/1038 [==============================] - 5s 5ms/step - loss: 0.2677 - mae: 0.2677 - val_loss: 0.2678 - val_mae: 0.2678\n",
            "Epoch 483/500\n",
            "1038/1038 [==============================] - 6s 6ms/step - loss: 0.2677 - mae: 0.2677 - val_loss: 0.2678 - val_mae: 0.2678\n",
            "Epoch 484/500\n",
            "1038/1038 [==============================] - 5s 5ms/step - loss: 0.2677 - mae: 0.2677 - val_loss: 0.2678 - val_mae: 0.2678\n",
            "Epoch 485/500\n",
            "1038/1038 [==============================] - 6s 5ms/step - loss: 0.2677 - mae: 0.2677 - val_loss: 0.2678 - val_mae: 0.2678\n",
            "Epoch 486/500\n",
            "1038/1038 [==============================] - 6s 5ms/step - loss: 0.2677 - mae: 0.2677 - val_loss: 0.2678 - val_mae: 0.2678\n",
            "Epoch 487/500\n",
            "1038/1038 [==============================] - 6s 5ms/step - loss: 0.2677 - mae: 0.2677 - val_loss: 0.2678 - val_mae: 0.2678\n",
            "Epoch 488/500\n",
            "1038/1038 [==============================] - 5s 5ms/step - loss: 0.2677 - mae: 0.2677 - val_loss: 0.2678 - val_mae: 0.2678\n",
            "Epoch 489/500\n",
            "1038/1038 [==============================] - 5s 5ms/step - loss: 0.2677 - mae: 0.2677 - val_loss: 0.2678 - val_mae: 0.2678\n",
            "Epoch 490/500\n",
            "1038/1038 [==============================] - 5s 5ms/step - loss: 0.2677 - mae: 0.2677 - val_loss: 0.2678 - val_mae: 0.2678\n",
            "Epoch 491/500\n",
            "1038/1038 [==============================] - 6s 5ms/step - loss: 0.2677 - mae: 0.2677 - val_loss: 0.2678 - val_mae: 0.2678\n",
            "Epoch 492/500\n",
            "1038/1038 [==============================] - 5s 5ms/step - loss: 0.2677 - mae: 0.2677 - val_loss: 0.2678 - val_mae: 0.2678\n",
            "Epoch 493/500\n",
            "1038/1038 [==============================] - 5s 5ms/step - loss: 0.2677 - mae: 0.2677 - val_loss: 0.2678 - val_mae: 0.2678\n",
            "Epoch 494/500\n",
            "1038/1038 [==============================] - 6s 5ms/step - loss: 0.2677 - mae: 0.2677 - val_loss: 0.2677 - val_mae: 0.2677\n",
            "Epoch 495/500\n",
            "1038/1038 [==============================] - 6s 5ms/step - loss: 0.2677 - mae: 0.2677 - val_loss: 0.2677 - val_mae: 0.2677\n",
            "Epoch 496/500\n",
            "1038/1038 [==============================] - 5s 5ms/step - loss: 0.2677 - mae: 0.2677 - val_loss: 0.2677 - val_mae: 0.2677\n",
            "Epoch 497/500\n",
            "1038/1038 [==============================] - 5s 5ms/step - loss: 0.2677 - mae: 0.2677 - val_loss: 0.2678 - val_mae: 0.2678\n",
            "Epoch 498/500\n",
            "1038/1038 [==============================] - 5s 5ms/step - loss: 0.2677 - mae: 0.2677 - val_loss: 0.2677 - val_mae: 0.2677\n",
            "Epoch 499/500\n",
            "1038/1038 [==============================] - 6s 5ms/step - loss: 0.2677 - mae: 0.2677 - val_loss: 0.2677 - val_mae: 0.2677\n",
            "Epoch 500/500\n",
            "1038/1038 [==============================] - 6s 5ms/step - loss: 0.2677 - mae: 0.2677 - val_loss: 0.2678 - val_mae: 0.2678\n"
          ]
        }
      ]
    },
    {
      "cell_type": "code",
      "source": [
        "# Loss Graph 출력\n",
        "plt.plot(history.history['loss'])\n",
        "plt.plot(history.history['val_loss'])\n",
        "plt.title('model loss')\n",
        "plt.ylabel('loss')\n",
        "plt.xlabel('epoch')\n",
        "plt.legend(['train', 'test'], loc='upper left')\n",
        "plt.show()"
      ],
      "metadata": {
        "id": "oFgWqZLoRvDH"
      },
      "execution_count": null,
      "outputs": []
    },
    {
      "cell_type": "markdown",
      "source": [
        "### Linear Regression"
      ],
      "metadata": {
        "id": "VIkR3_L7i81O"
      }
    },
    {
      "cell_type": "code",
      "execution_count": null,
      "metadata": {
        "canvas": {
          "comments": [],
          "componentType": "CodeCell",
          "copiedOriginId": null,
          "headerColor": "none",
          "id": "fe632752-12bf-4397-961f-459f7c277bf1",
          "isComponent": false,
          "name": "",
          "parents": []
        },
        "colab": {
          "base_uri": "https://localhost:8080/"
        },
        "outputId": "bd6bcab4-9900-459c-8756-d9430cc8a193",
        "id": "KmRFRSBngC6T"
      },
      "outputs": [
        {
          "output_type": "execute_result",
          "data": {
            "text/plain": [
              "LinearRegression()"
            ]
          },
          "metadata": {},
          "execution_count": 17
        }
      ],
      "source": [
        "model_linear_basic = LinearRegression()\n",
        "model_linear_basic.fit(trnx, trny)"
      ]
    },
    {
      "cell_type": "code",
      "execution_count": null,
      "metadata": {
        "canvas": {
          "comments": [],
          "componentType": "CodeCell",
          "copiedOriginId": null,
          "headerColor": "none",
          "id": "4a3b0d0b-b0b9-4896-979f-ff76d0e9835b",
          "isComponent": false,
          "name": "",
          "parents": []
        },
        "colab": {
          "base_uri": "https://localhost:8080/"
        },
        "outputId": "7ae59455-3737-4bd4-c452-878272238390",
        "id": "xHd_njkogC6T"
      },
      "outputs": [
        {
          "output_type": "execute_result",
          "data": {
            "text/plain": [
              "0.8127187418176494"
            ]
          },
          "metadata": {},
          "execution_count": 18
        }
      ],
      "source": [
        "model_linear_basic.score(tstx, tsty)"
      ]
    },
    {
      "cell_type": "code",
      "source": [
        "print_score(model_linear_basic, trnx, trny, tstx, tsty)"
      ],
      "metadata": {
        "colab": {
          "base_uri": "https://localhost:8080/"
        },
        "outputId": "b48159f4-e480-46d6-da0c-e04ed6d32d0e",
        "id": "WNCUS_DZtDMW"
      },
      "execution_count": null,
      "outputs": [
        {
          "output_type": "stream",
          "name": "stdout",
          "text": [
            "['mae train: ', 0.09724406644985442, 'mae val: ', 0.097375146379088]\n"
          ]
        }
      ]
    },
    {
      "cell_type": "markdown",
      "source": [
        "### Random Forest Regresssion"
      ],
      "metadata": {
        "id": "FyJLlmg_i81P"
      }
    },
    {
      "cell_type": "code",
      "source": [
        "# Train basic model\n",
        "model_RF_basic = RandomForestRegressor(n_estimators=40, min_samples_leaf=3, max_features=0.5, n_jobs=-1)\n",
        "model_RF_basic.fit(trnx, trny)\n",
        "# print_score(m1)\n",
        "model_RF_basic.score(tstx, tsty)"
      ],
      "metadata": {
        "colab": {
          "base_uri": "https://localhost:8080/"
        },
        "outputId": "c8f911f3-0e69-42e6-af69-97dd69aa6c4c",
        "id": "dXh6zmQDrVbE"
      },
      "execution_count": null,
      "outputs": [
        {
          "output_type": "execute_result",
          "data": {
            "text/plain": [
              "0.9132063617052107"
            ]
          },
          "metadata": {},
          "execution_count": 19
        }
      ]
    },
    {
      "cell_type": "code",
      "source": [
        "print_score(model_RF_basic, trnx, trny, tstx, tsty)"
      ],
      "metadata": {
        "colab": {
          "base_uri": "https://localhost:8080/"
        },
        "outputId": "f41330f9-963e-4e5f-9c0d-e275df82a164",
        "id": "b4-l_cOAtIAN"
      },
      "execution_count": null,
      "outputs": [
        {
          "output_type": "stream",
          "name": "stdout",
          "text": [
            "['mae train: ', 0.0361831000374244, 'mae val: ', 0.06385080745220131]\n"
          ]
        }
      ]
    },
    {
      "cell_type": "markdown",
      "source": [
        "### XGBOOST Regression"
      ],
      "metadata": {
        "id": "S4eaqN4IyCyY"
      }
    },
    {
      "cell_type": "code",
      "source": [
        "model_boost_basic = xgboost.XGBRegressor(max_depth=3, gamma=0.3, learning_rate= 0.1)\n",
        "model_boost_basic.fit(trnx,trny)\n",
        "#del X\n",
        "#del y"
      ],
      "metadata": {
        "colab": {
          "base_uri": "https://localhost:8080/"
        },
        "id": "HuPZsNpXDwt_",
        "outputId": "cde1b17b-00fd-4057-d275-464df0c188ab"
      },
      "execution_count": null,
      "outputs": [
        {
          "output_type": "stream",
          "name": "stdout",
          "text": [
            "[07:19:40] WARNING: /workspace/src/objective/regression_obj.cu:152: reg:linear is now deprecated in favor of reg:squarederror.\n"
          ]
        },
        {
          "output_type": "execute_result",
          "data": {
            "text/plain": [
              "XGBRegressor(gamma=0.3)"
            ]
          },
          "metadata": {},
          "execution_count": 21
        }
      ]
    },
    {
      "cell_type": "code",
      "source": [
        "model_boost_basic.score(tstx, tsty)"
      ],
      "metadata": {
        "colab": {
          "base_uri": "https://localhost:8080/"
        },
        "id": "8nXadd_TKFRt",
        "outputId": "7c32debd-4fe3-454c-e965-1a10efec2f35"
      },
      "execution_count": null,
      "outputs": [
        {
          "output_type": "execute_result",
          "data": {
            "text/plain": [
              "0.889990485683203"
            ]
          },
          "metadata": {},
          "execution_count": 22
        }
      ]
    },
    {
      "cell_type": "code",
      "source": [
        "ax = xgboost.plot_importance(model_boost_basic)\n",
        "\n",
        "fig = ax.figure\n",
        "fig.set_size_inches(18, 10)"
      ],
      "metadata": {
        "colab": {
          "base_uri": "https://localhost:8080/",
          "height": 621
        },
        "id": "T4-TJ3gID7mr",
        "outputId": "2dec1423-85e3-4817-be30-33d2d8b4c9b7"
      },
      "execution_count": null,
      "outputs": [
        {
          "output_type": "display_data",
          "data": {
            "text/plain": [
              "<Figure size 1296x720 with 1 Axes>"
            ],
            "image/png": "[encoded data removed]"
          },
          "metadata": {
            "needs_background": "light"
          }
        }
      ]
    },
    {
      "cell_type": "code",
      "source": [
        "print_score(model_boost_basic, trnx, trny, tstx, tsty)"
      ],
      "metadata": {
        "colab": {
          "base_uri": "https://localhost:8080/"
        },
        "outputId": "5621e1d2-3bf4-46ff-f318-5b27efc59832",
        "id": "GAZeL0KStXyi"
      },
      "execution_count": null,
      "outputs": [
        {
          "output_type": "stream",
          "name": "stdout",
          "text": [
            "['mae train: ', 0.07252601000180652, 'mae val: ', 0.07272949615265245]\n"
          ]
        }
      ]
    },
    {
      "cell_type": "code",
      "source": [
        ""
      ],
      "metadata": {
        "id": "DuEjM-6fyG7S"
      },
      "execution_count": null,
      "outputs": []
    },
    {
      "cell_type": "markdown",
      "source": [
        "# 2.정규화"
      ],
      "metadata": {
        "id": "u5pjflj-7hOF"
      }
    },
    {
      "cell_type": "code",
      "source": [
        "train2 = train.drop(columns = ['Id'])"
      ],
      "metadata": {
        "id": "apFmj4FAkj4C"
      },
      "execution_count": null,
      "outputs": []
    },
    {
      "cell_type": "code",
      "source": [
        "train2['playersJoined'] = train2.groupby('matchId')['matchId'].transform('count')"
      ],
      "metadata": {
        "id": "gUx7OrI4kelt"
      },
      "execution_count": null,
      "outputs": []
    },
    {
      "cell_type": "code",
      "source": [
        "# 정규화 feature 생성\n",
        "def normalization(X):\n",
        "  X['killsNorm'] = X['kills']*((100-X['playersJoined'])/100 + 1)\n",
        "  X['damageDealtNorm'] = X['damageDealt']*((100-X['playersJoined'])/100 + 1)\n",
        "  X['maxPlaceNorm'] = X['maxPlace']*((100-X['playersJoined'])/100 + 1)\n",
        "  X['matchDurationNorm'] = X['matchDuration']*((100-X['playersJoined'])/100 + 1)\n",
        "  return X"
      ],
      "metadata": {
        "id": "ajz7HwhO7i3n"
      },
      "execution_count": null,
      "outputs": []
    },
    {
      "cell_type": "code",
      "source": [
        "train2 = normalization(train2)"
      ],
      "metadata": {
        "id": "WynK12YE73IA"
      },
      "execution_count": null,
      "outputs": []
    },
    {
      "cell_type": "markdown",
      "source": [
        "### 검증 데이터 준비"
      ],
      "metadata": {
        "id": "zIpfZWB-kvBU"
      }
    },
    {
      "cell_type": "code",
      "source": [
        "X = train2.drop(['winPlacePerc','damageDealt', 'maxPlace', 'matchDuration', 'kills', 'playersJoined'], axis=1)\n",
        "y = train2['winPlacePerc']"
      ],
      "metadata": {
        "id": "rqvds620kvBe"
      },
      "execution_count": null,
      "outputs": []
    },
    {
      "cell_type": "code",
      "execution_count": null,
      "metadata": {
        "canvas": {
          "comments": [],
          "componentType": "CodeCell",
          "copiedOriginId": null,
          "headerColor": "none",
          "id": "9a3245b3-83be-4651-b89f-9e1aa8333c5b",
          "isComponent": false,
          "name": "",
          "parents": []
        },
        "id": "2JQXNHWZkvBg"
      },
      "outputs": [],
      "source": [
        "trnx, tstx, trny, tsty = train_test_split(X, y, test_size=.3, random_state=634)"
      ]
    },
    {
      "cell_type": "code",
      "source": [
        ""
      ],
      "metadata": {
        "id": "p2KpVGimRQXh"
      },
      "execution_count": null,
      "outputs": []
    },
    {
      "cell_type": "markdown",
      "source": [
        "### Linear Regression"
      ],
      "metadata": {
        "id": "pj7OoJDckvBh"
      }
    },
    {
      "cell_type": "code",
      "execution_count": null,
      "metadata": {
        "canvas": {
          "comments": [],
          "componentType": "CodeCell",
          "copiedOriginId": null,
          "headerColor": "none",
          "id": "fe632752-12bf-4397-961f-459f7c277bf1",
          "isComponent": false,
          "name": "",
          "parents": []
        },
        "colab": {
          "base_uri": "https://localhost:8080/"
        },
        "outputId": "3b43c733-364e-4f7f-b556-981a6f97297d",
        "id": "ZA2gVSLagMSy"
      },
      "outputs": [
        {
          "output_type": "execute_result",
          "data": {
            "text/plain": [
              "LinearRegression()"
            ]
          },
          "metadata": {},
          "execution_count": 57
        }
      ],
      "source": [
        "model_linear_normal = LinearRegression()\n",
        "model_linear_normal.fit(trnx, trny)"
      ]
    },
    {
      "cell_type": "code",
      "execution_count": null,
      "metadata": {
        "canvas": {
          "comments": [],
          "componentType": "CodeCell",
          "copiedOriginId": null,
          "headerColor": "none",
          "id": "4a3b0d0b-b0b9-4896-979f-ff76d0e9835b",
          "isComponent": false,
          "name": "",
          "parents": []
        },
        "colab": {
          "base_uri": "https://localhost:8080/"
        },
        "outputId": "70b2d806-1fc8-4856-c063-3b7eac88080b",
        "id": "aZOT7DGkgMSz"
      },
      "outputs": [
        {
          "output_type": "execute_result",
          "data": {
            "text/plain": [
              "0.83968124463687"
            ]
          },
          "metadata": {},
          "execution_count": 58
        }
      ],
      "source": [
        "model_linear_normal.score(tstx, tsty)"
      ]
    },
    {
      "cell_type": "code",
      "source": [
        "print_score(model_linear_normal, trnx, trny, tstx, tsty)"
      ],
      "metadata": {
        "colab": {
          "base_uri": "https://localhost:8080/"
        },
        "outputId": "5c25574b-71c4-4579-a4f3-986c5638b2aa",
        "id": "de2yYtvdtHhq"
      },
      "execution_count": null,
      "outputs": [
        {
          "output_type": "stream",
          "name": "stdout",
          "text": [
            "['mae train: ', 0.08960053775803481, 'mae val: ', 0.08973739291885947]\n"
          ]
        }
      ]
    },
    {
      "cell_type": "markdown",
      "source": [
        "### Random Forest Regresssion"
      ],
      "metadata": {
        "id": "JwiQJQ7EkvBj"
      }
    },
    {
      "cell_type": "markdown",
      "source": [
        "### Multi Layer Perceptron"
      ],
      "metadata": {
        "id": "hATH4Kq_RXnV"
      }
    },
    {
      "cell_type": "code",
      "source": [
        "# Model Initialize\n",
        "model = Sequential([\n",
        "    layers.Dense(128, activation='relu', input_shape=(trnx.shape[1],)),\n",
        "    layers.Dense(256, activation='relu'),\n",
        "    layers.Dense(128, activation='relu'),\n",
        "    layers.Dense(64, activation='relu'),\n",
        "    layers.Dense(1)])\n",
        "model.summary()\n"
      ],
      "metadata": {
        "id": "zvNRGPg2RXnW"
      },
      "execution_count": null,
      "outputs": []
    },
    {
      "cell_type": "code",
      "source": [
        "model.compile(loss='mae', optimizer=\"Adam\", metrics=['mae'])\n",
        "history = model.fit(trnx, trny, batch_size=3000,  epochs=500, validation_data = [tstx,tsty])"
      ],
      "metadata": {
        "id": "8M_3IGTERXnW"
      },
      "execution_count": null,
      "outputs": []
    },
    {
      "cell_type": "code",
      "source": [
        "# Loss Graph 출력\n",
        "plt.plot(history.history['loss'])\n",
        "plt.plot(history.history['val_loss'])\n",
        "plt.title('model loss')\n",
        "plt.ylabel('loss')\n",
        "plt.xlabel('epoch')\n",
        "plt.legend(['train', 'test'], loc='upper left')\n",
        "plt.show()"
      ],
      "metadata": {
        "id": "cq_8vqgTRXnW"
      },
      "execution_count": null,
      "outputs": []
    },
    {
      "cell_type": "code",
      "source": [
        "# Model Initialize\n",
        "model = Sequential([\n",
        "    layers.Dense(128, activation='relu', input_shape=(trnx.shape[1],)),\n",
        "    layers.Dense(256, activation='relu'),\n",
        "    layers.Dense(128, activation='relu'),\n",
        "    layers.Dense(64, activation='relu'),\n",
        "    layers.Dense(1)])\n",
        "model.summary()\n"
      ],
      "metadata": {
        "id": "rFxzD1x5RRHm"
      },
      "execution_count": null,
      "outputs": []
    },
    {
      "cell_type": "code",
      "source": [
        "model.compile(loss='mae', optimizer=\"Adam\", metrics=['mae'])\n",
        "history = model.fit(trnx, trny, batch_size=3000,  epochs=500, validation_data = [tstx,tsty])"
      ],
      "metadata": {
        "id": "_HyENRy5RRHm"
      },
      "execution_count": null,
      "outputs": []
    },
    {
      "cell_type": "code",
      "source": [
        "# Loss Graph 출력\n",
        "plt.plot(history.history['loss'])\n",
        "plt.plot(history.history['val_loss'])\n",
        "plt.title('model loss')\n",
        "plt.ylabel('loss')\n",
        "plt.xlabel('epoch')\n",
        "plt.legend(['train', 'test'], loc='upper left')\n",
        "plt.show()"
      ],
      "metadata": {
        "id": "OlxNgQDYRRHm"
      },
      "execution_count": null,
      "outputs": []
    },
    {
      "cell_type": "code",
      "source": [
        "# Train normalization model\n",
        "model_RF_normal = RandomForestRegressor(n_estimators=40, min_samples_leaf=3, max_features=0.5, n_jobs=-1)\n",
        "model_RF_normal.fit(trnx, trny)\n",
        "# print_score(m1)\n",
        "model_RF_normal.score(tstx, tsty)"
      ],
      "metadata": {
        "colab": {
          "base_uri": "https://localhost:8080/"
        },
        "outputId": "4432afeb-a093-49ee-b241-d32f7b3ef79f",
        "id": "Ypfk-hlfgXwn"
      },
      "execution_count": null,
      "outputs": [
        {
          "output_type": "execute_result",
          "data": {
            "text/plain": [
              "0.9339098357235169"
            ]
          },
          "metadata": {},
          "execution_count": 59
        }
      ]
    },
    {
      "cell_type": "code",
      "source": [
        "print_score(model_RF_normal, trnx, trny, tstx, tsty)"
      ],
      "metadata": {
        "colab": {
          "base_uri": "https://localhost:8080/"
        },
        "outputId": "4bf49d49-3912-4876-f703-c52a3cee3abc",
        "id": "nNWdrBYVtIVg"
      },
      "execution_count": null,
      "outputs": [
        {
          "output_type": "stream",
          "name": "stdout",
          "text": [
            "['mae train: ', 0.029774917222944005, 'mae val: ', 0.05562307234438658]\n"
          ]
        }
      ]
    },
    {
      "cell_type": "markdown",
      "source": [
        "# 3. 새로운 피쳐 추가 및 이상치 제거"
      ],
      "metadata": {
        "id": "hwW_URt4rOuP"
      }
    },
    {
      "cell_type": "code",
      "source": [
        "train3 = train.drop(columns = ['Id'])"
      ],
      "metadata": {
        "id": "Asb97qizwoBt"
      },
      "execution_count": null,
      "outputs": []
    },
    {
      "cell_type": "markdown",
      "source": [
        "### 피쳐 추가하기"
      ],
      "metadata": {
        "id": "zs9E6cL7WukJ"
      }
    },
    {
      "cell_type": "code",
      "source": [
        "def add_player_features(X):\n",
        "    X['headshot_rate'] = X['headshotKills'] / (X['kills'] + 0.00001)\n",
        "    X['kill_streak_rate'] = X['killStreaks'] / (X['kills'] + 0.00001)\n",
        "    X['kills_assists'] = X['kills'] + X['assists']\n",
        "    X['heals_boosts'] = X['heals'] + X['boosts']\n",
        "    X['total_distance'] = X['walkDistance'] + X['rideDistance'] + X['swimDistance']\n",
        "    X['items_per_matchDuration'] = X['heals_boosts'] / X ['matchDuration']\n",
        "    X['totalDistance_per_matchDuration'] = X['total_distance'] / X['matchDuration']\n",
        "    X['killPlace'] = X['killPlace'] - 1\n",
        "    X['playersJoined'] = X.groupby('matchId')['matchId'].transform('count')\n",
        "    return X"
      ],
      "metadata": {
        "id": "3sv4j1FyWlt-"
      },
      "execution_count": null,
      "outputs": []
    },
    {
      "cell_type": "code",
      "source": [
        "train3 = add_player_features(train3)"
      ],
      "metadata": {
        "id": "PCtMBTuWZfea"
      },
      "execution_count": null,
      "outputs": []
    },
    {
      "cell_type": "markdown",
      "source": [
        "### 이상치 제거"
      ],
      "metadata": {
        "id": "eDUpTEVKnMra"
      }
    },
    {
      "cell_type": "code",
      "source": [
        "fig, axes = plt.subplots(1, 3, figsize=(16, 5))\n",
        "sns.histplot(train['DBNOs'], bins=10, ax=axes[0])\n",
        "sns.histplot(train['kills'], bins=10, ax=axes[1])\n",
        "sns.histplot(train3['headshot_rate'], bins=10, ax=axes[2])"
      ],
      "metadata": {
        "colab": {
          "base_uri": "https://localhost:8080/",
          "height": 369
        },
        "id": "C7Ieq4-BvCvG",
        "outputId": "ffc3f624-54a6-4ba1-fdf9-5330d63f3d1b"
      },
      "execution_count": null,
      "outputs": [
        {
          "output_type": "execute_result",
          "data": {
            "text/plain": [
              "<matplotlib.axes._subplots.AxesSubplot at 0x7f8273158090>"
            ]
          },
          "metadata": {},
          "execution_count": 47
        },
        {
          "output_type": "display_data",
          "data": {
            "text/plain": [
              "<Figure size 1152x360 with 3 Axes>"
            ],
            "image/png": "[encoded data removed]"
          },
          "metadata": {}
        }
      ]
    },
    {
      "cell_type": "code",
      "execution_count": null,
      "metadata": {
        "id": "bf510e18",
        "outputId": "2bdc4f79-b864-4bed-8721-b712b1014646",
        "colab": {
          "base_uri": "https://localhost:8080/",
          "height": 369
        }
      },
      "outputs": [
        {
          "output_type": "execute_result",
          "data": {
            "text/plain": [
              "<matplotlib.axes._subplots.AxesSubplot at 0x7f8274eb2a90>"
            ]
          },
          "metadata": {},
          "execution_count": 39
        },
        {
          "output_type": "display_data",
          "data": {
            "text/plain": [
              "<Figure size 1152x360 with 3 Axes>"
            ],
            "image/png": "[encoded data removed]"
          },
          "metadata": {}
        }
      ],
      "source": [
        "# Plot the distribution of Distance\n",
        "fig, axes = plt.subplots(1, 3, figsize=(16, 5))\n",
        "sns.histplot(train['walkDistance'], bins=15, ax=axes[0])\n",
        "sns.histplot(train['rideDistance'], bins=10, ax=axes[1])\n",
        "sns.histplot(train['swimDistance'], bins=10, ax=axes[2])\n"
      ]
    },
    {
      "cell_type": "code",
      "execution_count": null,
      "metadata": {
        "id": "13d66a98",
        "outputId": "9dfd4755-b7f3-48f6-ee24-49f56cc00885",
        "colab": {
          "base_uri": "https://localhost:8080/",
          "height": 369
        }
      },
      "outputs": [
        {
          "output_type": "execute_result",
          "data": {
            "text/plain": [
              "<matplotlib.axes._subplots.AxesSubplot at 0x7f8275f8f790>"
            ]
          },
          "metadata": {},
          "execution_count": 40
        },
        {
          "output_type": "display_data",
          "data": {
            "text/plain": [
              "<Figure size 1152x360 with 2 Axes>"
            ],
            "image/png": "[encoded data removed]"
          },
          "metadata": {}
        }
      ],
      "source": [
        "# Distribution of heals\n",
        "fig, axes = plt.subplots(1, 2, figsize=(16, 5))\n",
        "sns.histplot(train['heals'], bins=15, ax=axes[0])\n",
        "sns.histplot(train['boosts'], bins=10, ax=axes[1])\n"
      ]
    },
    {
      "cell_type": "code",
      "execution_count": null,
      "metadata": {
        "outputId": "d6d0cfe7-7a79-473a-979f-9fc30bcf4091",
        "colab": {
          "base_uri": "https://localhost:8080/",
          "height": 369
        },
        "id": "Ef0LsSXhw2yO"
      },
      "outputs": [
        {
          "output_type": "execute_result",
          "data": {
            "text/plain": [
              "<matplotlib.axes._subplots.AxesSubplot at 0x7f8274ce95d0>"
            ]
          },
          "metadata": {},
          "execution_count": 51
        },
        {
          "output_type": "display_data",
          "data": {
            "text/plain": [
              "<Figure size 1152x360 with 3 Axes>"
            ],
            "image/png": "[encoded data removed]"
          },
          "metadata": {}
        }
      ],
      "source": [
        "# Plot the distribution of Distance\n",
        "fig, axes = plt.subplots(1, 3, figsize=(16, 5))\n",
        "sns.histplot(train['headshotKills'], bins=20, ax=axes[0])\n",
        "sns.histplot(train['roadKills'], bins=20, ax=axes[1])\n",
        "sns.histplot(train['teamKills'], bins=20, ax=axes[2])\n"
      ]
    },
    {
      "cell_type": "code",
      "source": [
        "def remove_outliers(X):\n",
        "    outliers = (X['DBNOs'] >= 30) | (X['headshotKills'] > 30) | ((X['kills'] > 0) & (X['total_distance'] == 0))\n",
        "    outliers = outliers | (X['kills'] > 30) | (X['revives'] > 15) | (X['longestKill'] >= 1000) | (X['weaponsAcquired'] >= 80) | (X['headshot_rate'] == 1) & (X['kills'] > 8)\n",
        "    outliers = outliers | (X['roadKills'] >= 8) | (X['teamKills'] > 8) | (X['walkDistance'] > 10000) | (X['rideDistance'] >= 20000) | (X['swimDistance'] >= 2000)\n",
        "    X = X.loc[~outliers]\n",
        "    outlier_data = X.loc[outliers]\n",
        "    return X, outlier_data"
      ],
      "metadata": {
        "id": "XgViQMGVULaq"
      },
      "execution_count": null,
      "outputs": []
    },
    {
      "cell_type": "code",
      "source": [
        "train3, _ = remove_outliers(train3)"
      ],
      "metadata": {
        "id": "AZ_81ZcHa0yT"
      },
      "execution_count": null,
      "outputs": []
    },
    {
      "cell_type": "code",
      "source": [
        "train3.head()"
      ],
      "metadata": {
        "id": "UUm1UqkOa3vI"
      },
      "execution_count": null,
      "outputs": []
    },
    {
      "cell_type": "markdown",
      "source": [
        "### 검증 데이터 준비"
      ],
      "metadata": {
        "id": "SDwMv_xPnRma"
      }
    },
    {
      "cell_type": "code",
      "source": [
        "X = train3.drop(['winPlacePerc','damageDealt', 'maxPlace', 'matchDuration', 'kills'], axis=1)\n",
        "y = train3['winPlacePerc']"
      ],
      "metadata": {
        "id": "_MSc-pdZdTwV"
      },
      "execution_count": null,
      "outputs": []
    },
    {
      "cell_type": "code",
      "execution_count": null,
      "metadata": {
        "canvas": {
          "comments": [],
          "componentType": "CodeCell",
          "copiedOriginId": null,
          "headerColor": "none",
          "id": "9a3245b3-83be-4651-b89f-9e1aa8333c5b",
          "isComponent": false,
          "name": "",
          "parents": []
        },
        "id": "Kcmp_vLvOD_R"
      },
      "outputs": [],
      "source": [
        "trnx, tstx, trny, tsty = train_test_split(X, y, test_size=.3, random_state=634)"
      ]
    },
    {
      "cell_type": "markdown",
      "source": [
        "### Linear Regression"
      ],
      "metadata": {
        "id": "7cJ86URMnV2i"
      }
    },
    {
      "cell_type": "code",
      "execution_count": null,
      "metadata": {
        "canvas": {
          "comments": [],
          "componentType": "CodeCell",
          "copiedOriginId": null,
          "headerColor": "none",
          "id": "fe632752-12bf-4397-961f-459f7c277bf1",
          "isComponent": false,
          "name": "",
          "parents": []
        },
        "colab": {
          "base_uri": "https://localhost:8080/"
        },
        "outputId": "e59e1270-d264-4ee7-d449-48fdbcd8bcac",
        "id": "SQxP-kVPv5EK"
      },
      "outputs": [
        {
          "output_type": "execute_result",
          "data": {
            "text/plain": [
              "LinearRegression()"
            ]
          },
          "metadata": {},
          "execution_count": 89
        }
      ],
      "source": [
        "model_linear_final = LinearRegression()\n",
        "model_linear_final.fit(trnx, trny)"
      ]
    },
    {
      "cell_type": "code",
      "execution_count": null,
      "metadata": {
        "canvas": {
          "comments": [],
          "componentType": "CodeCell",
          "copiedOriginId": null,
          "headerColor": "none",
          "id": "4a3b0d0b-b0b9-4896-979f-ff76d0e9835b",
          "isComponent": false,
          "name": "",
          "parents": []
        },
        "colab": {
          "base_uri": "https://localhost:8080/"
        },
        "outputId": "84f9fcd0-58d2-4345-a6b7-32537ff62098",
        "id": "_h8AdsRNv5EZ"
      },
      "outputs": [
        {
          "output_type": "execute_result",
          "data": {
            "text/plain": [
              "0.8593354234164107"
            ]
          },
          "metadata": {},
          "execution_count": 90
        }
      ],
      "source": [
        "model_linear_final.score(tstx, tsty)"
      ]
    },
    {
      "cell_type": "code",
      "source": [
        "print_score(model_linear_final, trnx, trny, tstx, tsty)"
      ],
      "metadata": {
        "colab": {
          "base_uri": "https://localhost:8080/"
        },
        "outputId": "f73b42b1-afe6-4342-c5f4-e3b24a68e191",
        "id": "1EIepNqotHsB"
      },
      "execution_count": null,
      "outputs": [
        {
          "output_type": "stream",
          "name": "stdout",
          "text": [
            "['mae train: ', 0.08256787812778393, 'mae val: ', 0.08249980683320592]\n"
          ]
        }
      ]
    },
    {
      "cell_type": "markdown",
      "source": [
        "### Random Forest Regresssion"
      ],
      "metadata": {
        "id": "DEVnpBmoxo0e"
      }
    },
    {
      "cell_type": "code",
      "source": [
        "# Train final model\n",
        "model_RF_final = RandomForestRegressor(n_estimators=40, min_samples_leaf=3, max_features=0.5, n_jobs=-1)\n",
        "model_RF_final.fit(trnx, trny)\n",
        "# print_score(m1)\n",
        "model_RF_final.score(tstx, tsty)"
      ],
      "metadata": {
        "colab": {
          "base_uri": "https://localhost:8080/"
        },
        "outputId": "c84684d5-625d-4f92-cda4-e675c4a6713d",
        "id": "jLRxZI-ggX7W"
      },
      "execution_count": null,
      "outputs": [
        {
          "output_type": "execute_result",
          "data": {
            "text/plain": [
              "0.9338034183726611"
            ]
          },
          "metadata": {},
          "execution_count": 91
        }
      ]
    },
    {
      "cell_type": "code",
      "source": [
        "print_score(model_RF_final, trnx, trny, tstx, tsty)"
      ],
      "metadata": {
        "colab": {
          "base_uri": "https://localhost:8080/"
        },
        "outputId": "2796930e-4650-4897-e0ae-c55f96c77d14",
        "id": "LB0ZIKTUtVUe"
      },
      "execution_count": null,
      "outputs": [
        {
          "output_type": "stream",
          "name": "stdout",
          "text": [
            "['mae train: ', 0.029253877749687747, 'mae val: ', 0.05567705498534771]\n"
          ]
        }
      ]
    },
    {
      "cell_type": "markdown",
      "source": [
        "### Multi Layer Perceptron"
      ],
      "metadata": {
        "id": "gv_u9A9hQ7AA"
      }
    },
    {
      "cell_type": "code",
      "source": [
        "# Model Initialize\n",
        "model = Sequential([\n",
        "    layers.Dense(128, activation='relu', input_shape=(trnx.shape[1],)),\n",
        "    layers.Dense(256, activation='relu'),\n",
        "    layers.Dense(128, activation='relu'),\n",
        "    layers.Dense(64, activation='relu'),\n",
        "    layers.Dense(1)])\n",
        "model.summary()\n"
      ],
      "metadata": {
        "id": "xjpQIDgHQ-W4"
      },
      "execution_count": null,
      "outputs": []
    },
    {
      "cell_type": "code",
      "source": [
        "model.compile(loss='mae', optimizer=\"Adam\", metrics=['mae'])\n",
        "history = model.fit(trnx, trny, batch_size=200,  epochs=100, validation_data = [tstx,tsty])"
      ],
      "metadata": {
        "id": "uOkx2F7hRCDn"
      },
      "execution_count": null,
      "outputs": []
    },
    {
      "cell_type": "code",
      "source": [
        "# Loss Graph 출력\n",
        "plt.plot(history.history['loss'])\n",
        "plt.plot(history.history['val_loss'])\n",
        "plt.title('model loss')\n",
        "plt.ylabel('loss')\n",
        "plt.xlabel('epoch')\n",
        "plt.legend(['train', 'test'], loc='upper left')\n",
        "plt.show()"
      ],
      "metadata": {
        "id": "KeeKcjagRDXC"
      },
      "execution_count": null,
      "outputs": []
    },
    {
      "cell_type": "markdown",
      "source": [
        "### XGBOOST Regression"
      ],
      "metadata": {
        "id": "EauXfGB1yT9i"
      }
    },
    {
      "cell_type": "code",
      "source": [
        "model_boost_final = xgboost.XGBRegressor(max_depth=3, gamma=0.3, learning_rate= 0.1)\n",
        "model_boost_final.fit(trnx,trny)\n",
        "#del X\n",
        "#del y"
      ],
      "metadata": {
        "colab": {
          "base_uri": "https://localhost:8080/"
        },
        "outputId": "50d0e61c-621c-436c-af31-65daa5ac8d4e",
        "id": "go4a3TO4ewaK"
      },
      "execution_count": null,
      "outputs": [
        {
          "output_type": "stream",
          "name": "stdout",
          "text": [
            "[08:02:14] WARNING: /workspace/src/objective/regression_obj.cu:152: reg:linear is now deprecated in favor of reg:squarederror.\n"
          ]
        },
        {
          "output_type": "execute_result",
          "data": {
            "text/plain": [
              "XGBRegressor(gamma=0.3)"
            ]
          },
          "metadata": {},
          "execution_count": 141
        }
      ]
    },
    {
      "cell_type": "code",
      "source": [
        "model_boost_final.score(tstx, tsty)"
      ],
      "metadata": {
        "colab": {
          "base_uri": "https://localhost:8080/"
        },
        "id": "6zj7Tzv6ewaL",
        "outputId": "0c967241-daa0-402c-982d-ed8507623a88"
      },
      "execution_count": null,
      "outputs": [
        {
          "output_type": "execute_result",
          "data": {
            "text/plain": [
              "0.9050769291412082"
            ]
          },
          "metadata": {},
          "execution_count": 142
        }
      ]
    },
    {
      "cell_type": "code",
      "source": [
        "ax = xgboost.plot_importance(model_boost_final)\n",
        "\n",
        "fig = ax.figure\n",
        "fig.set_size_inches(18, 10)"
      ],
      "metadata": {
        "colab": {
          "base_uri": "https://localhost:8080/",
          "height": 621
        },
        "id": "MdYwiQZ_fxqZ",
        "outputId": "7417a959-df6c-415d-bcf3-8e2dca71296a"
      },
      "execution_count": null,
      "outputs": [
        {
          "output_type": "display_data",
          "data": {
            "text/plain": [
              "<Figure size 1296x720 with 1 Axes>"
            ],
            "image/png": "[encoded data removed]"
          },
          "metadata": {
            "needs_background": "light"
          }
        }
      ]
    },
    {
      "cell_type": "code",
      "source": [
        "print_score(model_boost_final, trnx, trny, tstx, tsty)"
      ],
      "metadata": {
        "colab": {
          "base_uri": "https://localhost:8080/"
        },
        "outputId": "c2fb17a7-01ac-47dc-f321-bf3687982fbf",
        "id": "TPZHn184tYAP"
      },
      "execution_count": null,
      "outputs": [
        {
          "output_type": "stream",
          "name": "stdout",
          "text": [
            "['mae train: ', 0.06632901757970251, 'mae val: ', 0.06631544544301482]\n"
          ]
        }
      ]
    },
    {
      "cell_type": "code",
      "source": [
        "model_boost_depth10 = xgboost.XGBRegressor(max_depth=10, gamma=0.3, learning_rate= 0.1)\n",
        "model_boost_depth10.fit(trnx,trny)\n",
        "#del X\n",
        "#del y"
      ],
      "metadata": {
        "colab": {
          "base_uri": "https://localhost:8080/"
        },
        "outputId": "7b1ed474-b476-461d-e6a3-550df29e3dec",
        "id": "uJ-aDZ0vy8-j"
      },
      "execution_count": null,
      "outputs": [
        {
          "output_type": "stream",
          "name": "stdout",
          "text": [
            "[05:47:19] WARNING: /workspace/src/objective/regression_obj.cu:152: reg:linear is now deprecated in favor of reg:squarederror.\n"
          ]
        },
        {
          "output_type": "execute_result",
          "data": {
            "text/plain": [
              "XGBRegressor(gamma=0.3, max_depth=10)"
            ]
          },
          "metadata": {},
          "execution_count": 24
        }
      ]
    },
    {
      "cell_type": "code",
      "source": [
        "model_boost_depth10.score(tstx, tsty)"
      ],
      "metadata": {
        "colab": {
          "base_uri": "https://localhost:8080/"
        },
        "outputId": "dd33571b-1001-49a6-df40-3b3f103d50a9",
        "id": "wP1bb3xry8-k"
      },
      "execution_count": null,
      "outputs": [
        {
          "output_type": "execute_result",
          "data": {
            "text/plain": [
              "0.9365479796209413"
            ]
          },
          "metadata": {},
          "execution_count": 25
        }
      ]
    },
    {
      "cell_type": "code",
      "source": [
        "ax = xgboost.plot_importance(model_boost_depth10)\n",
        "\n",
        "fig = ax.figure\n",
        "fig.set_size_inches(18, 10)"
      ],
      "metadata": {
        "colab": {
          "base_uri": "https://localhost:8080/",
          "height": 621
        },
        "outputId": "bd6ec442-e17c-4862-cca2-12073ff6406d",
        "id": "SbSCojVgy8-k"
      },
      "execution_count": null,
      "outputs": [
        {
          "output_type": "display_data",
          "data": {
            "text/plain": [
              "<Figure size 1296x720 with 1 Axes>"
            ],
            "image/png": "[encoded data removed]"
          },
          "metadata": {
            "needs_background": "light"
          }
        }
      ]
    },
    {
      "cell_type": "code",
      "source": [
        "print_score(model_boost_depth10, trnx, trny, tstx, tsty)"
      ],
      "metadata": {
        "colab": {
          "base_uri": "https://localhost:8080/"
        },
        "outputId": "02a29ec2-1a92-4623-f537-0f40a4af72e0",
        "id": "aVCmE52-tdNj"
      },
      "execution_count": null,
      "outputs": [
        {
          "output_type": "stream",
          "name": "stdout",
          "text": [
            "['mae train: ', 0.029774917222944005, 'mae val: ', 0.05562307234438658]\n"
          ]
        }
      ]
    }
  ]
}